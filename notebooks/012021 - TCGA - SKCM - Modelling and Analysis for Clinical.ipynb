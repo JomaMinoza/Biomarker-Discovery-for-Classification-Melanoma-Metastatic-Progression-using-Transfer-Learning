{
 "cells": [
  {
   "cell_type": "code",
   "execution_count": 1,
   "metadata": {},
   "outputs": [],
   "source": [
    "import os\n",
    "import numpy as np\n",
    "import pandas as pd\n",
    "\n",
    "import matplotlib.pyplot as plt\n",
    "import seaborn as sns\n",
    "from mpl_toolkits.mplot3d import Axes3D\n",
    "%matplotlib inline\n",
    "\n",
    "from sklearn.pipeline import Pipeline\n",
    "from sklearn.decomposition import PCA\n",
    "from sklearn.preprocessing import StandardScaler\n",
    "from sklearn.model_selection import GridSearchCV\n",
    "from sklearn.feature_selection import SelectFromModel\n",
    "from sklearn.svm import LinearSVC, SVC\n",
    "from sklearn.linear_model import LogisticRegression\n",
    "from sklearn.tree import DecisionTreeClassifier, plot_tree, export_graphviz\n",
    "from sklearn.ensemble import RandomForestClassifier\n",
    "from sklearn.metrics import accuracy_score, confusion_matrix, roc_curve, auc, roc_auc_score\n",
    "from sklearn.metrics import log_loss"
   ]
  },
  {
   "cell_type": "code",
   "execution_count": 2,
   "metadata": {},
   "outputs": [
    {
     "data": {
      "text/html": [
       "<div>\n",
       "<style scoped>\n",
       "    .dataframe tbody tr th:only-of-type {\n",
       "        vertical-align: middle;\n",
       "    }\n",
       "\n",
       "    .dataframe tbody tr th {\n",
       "        vertical-align: top;\n",
       "    }\n",
       "\n",
       "    .dataframe thead th {\n",
       "        text-align: right;\n",
       "    }\n",
       "</style>\n",
       "<table border=\"1\" class=\"dataframe\">\n",
       "  <thead>\n",
       "    <tr style=\"text-align: right;\">\n",
       "      <th></th>\n",
       "      <th>sample_type</th>\n",
       "      <th>weight</th>\n",
       "      <th>height</th>\n",
       "      <th>bmi</th>\n",
       "      <th>age_at_index</th>\n",
       "      <th>A1BG</th>\n",
       "      <th>A2M</th>\n",
       "      <th>NAT1</th>\n",
       "      <th>NAT2</th>\n",
       "      <th>RP11-986E7.7</th>\n",
       "      <th>...</th>\n",
       "      <th>icd_10_code_C77.3</th>\n",
       "      <th>icd_10_code_C77.4</th>\n",
       "      <th>icd_10_code_C77.5</th>\n",
       "      <th>icd_10_code_C77.9</th>\n",
       "      <th>race_not reported</th>\n",
       "      <th>race_white</th>\n",
       "      <th>gender_male</th>\n",
       "      <th>ethnicity_not hispanic or latino</th>\n",
       "      <th>ethnicity_not reported</th>\n",
       "      <th>vital_status_Dead</th>\n",
       "    </tr>\n",
       "    <tr>\n",
       "      <th>submitter_id</th>\n",
       "      <th></th>\n",
       "      <th></th>\n",
       "      <th></th>\n",
       "      <th></th>\n",
       "      <th></th>\n",
       "      <th></th>\n",
       "      <th></th>\n",
       "      <th></th>\n",
       "      <th></th>\n",
       "      <th></th>\n",
       "      <th></th>\n",
       "      <th></th>\n",
       "      <th></th>\n",
       "      <th></th>\n",
       "      <th></th>\n",
       "      <th></th>\n",
       "      <th></th>\n",
       "      <th></th>\n",
       "      <th></th>\n",
       "      <th></th>\n",
       "      <th></th>\n",
       "    </tr>\n",
       "  </thead>\n",
       "  <tbody>\n",
       "    <tr>\n",
       "      <th>TCGA-EE-A3AE</th>\n",
       "      <td>1</td>\n",
       "      <td>82.0</td>\n",
       "      <td>172.5</td>\n",
       "      <td>26.793641</td>\n",
       "      <td>52.0</td>\n",
       "      <td>198.2695</td>\n",
       "      <td>7260.4981</td>\n",
       "      <td>97.9081</td>\n",
       "      <td>0.2846</td>\n",
       "      <td>321.3320</td>\n",
       "      <td>...</td>\n",
       "      <td>0</td>\n",
       "      <td>1</td>\n",
       "      <td>0</td>\n",
       "      <td>0</td>\n",
       "      <td>0</td>\n",
       "      <td>1</td>\n",
       "      <td>0</td>\n",
       "      <td>1</td>\n",
       "      <td>0</td>\n",
       "      <td>0</td>\n",
       "    </tr>\n",
       "    <tr>\n",
       "      <th>TCGA-EE-A3AB</th>\n",
       "      <td>1</td>\n",
       "      <td>86.5</td>\n",
       "      <td>172.5</td>\n",
       "      <td>29.308234</td>\n",
       "      <td>30.0</td>\n",
       "      <td>279.7274</td>\n",
       "      <td>143990.5130</td>\n",
       "      <td>31.9909</td>\n",
       "      <td>0.0000</td>\n",
       "      <td>219866.3552</td>\n",
       "      <td>...</td>\n",
       "      <td>1</td>\n",
       "      <td>0</td>\n",
       "      <td>0</td>\n",
       "      <td>0</td>\n",
       "      <td>0</td>\n",
       "      <td>1</td>\n",
       "      <td>1</td>\n",
       "      <td>1</td>\n",
       "      <td>0</td>\n",
       "      <td>0</td>\n",
       "    </tr>\n",
       "    <tr>\n",
       "      <th>TCGA-ER-A2NH</th>\n",
       "      <td>1</td>\n",
       "      <td>64.0</td>\n",
       "      <td>174.5</td>\n",
       "      <td>20.702113</td>\n",
       "      <td>49.0</td>\n",
       "      <td>132.5213</td>\n",
       "      <td>49821.7181</td>\n",
       "      <td>107.4468</td>\n",
       "      <td>0.0000</td>\n",
       "      <td>112313.8298</td>\n",
       "      <td>...</td>\n",
       "      <td>1</td>\n",
       "      <td>0</td>\n",
       "      <td>0</td>\n",
       "      <td>0</td>\n",
       "      <td>0</td>\n",
       "      <td>1</td>\n",
       "      <td>1</td>\n",
       "      <td>1</td>\n",
       "      <td>0</td>\n",
       "      <td>0</td>\n",
       "    </tr>\n",
       "    <tr>\n",
       "      <th>TCGA-GN-A4U9</th>\n",
       "      <td>1</td>\n",
       "      <td>104.0</td>\n",
       "      <td>176.0</td>\n",
       "      <td>33.574380</td>\n",
       "      <td>71.0</td>\n",
       "      <td>185.3061</td>\n",
       "      <td>3267.8053</td>\n",
       "      <td>37.2580</td>\n",
       "      <td>0.8373</td>\n",
       "      <td>3.3490</td>\n",
       "      <td>...</td>\n",
       "      <td>0</td>\n",
       "      <td>1</td>\n",
       "      <td>0</td>\n",
       "      <td>0</td>\n",
       "      <td>0</td>\n",
       "      <td>1</td>\n",
       "      <td>1</td>\n",
       "      <td>1</td>\n",
       "      <td>0</td>\n",
       "      <td>1</td>\n",
       "    </tr>\n",
       "    <tr>\n",
       "      <th>TCGA-ER-A19A</th>\n",
       "      <td>1</td>\n",
       "      <td>64.0</td>\n",
       "      <td>167.5</td>\n",
       "      <td>22.767946</td>\n",
       "      <td>79.0</td>\n",
       "      <td>137.2926</td>\n",
       "      <td>53361.5831</td>\n",
       "      <td>113.3985</td>\n",
       "      <td>0.5545</td>\n",
       "      <td>105.6353</td>\n",
       "      <td>...</td>\n",
       "      <td>0</td>\n",
       "      <td>0</td>\n",
       "      <td>0</td>\n",
       "      <td>0</td>\n",
       "      <td>0</td>\n",
       "      <td>1</td>\n",
       "      <td>1</td>\n",
       "      <td>1</td>\n",
       "      <td>0</td>\n",
       "      <td>0</td>\n",
       "    </tr>\n",
       "  </tbody>\n",
       "</table>\n",
       "<p>5 rows × 19917 columns</p>\n",
       "</div>"
      ],
      "text/plain": [
       "              sample_type  weight  height        bmi  age_at_index      A1BG  \\\n",
       "submitter_id                                                                   \n",
       "TCGA-EE-A3AE            1    82.0   172.5  26.793641          52.0  198.2695   \n",
       "TCGA-EE-A3AB            1    86.5   172.5  29.308234          30.0  279.7274   \n",
       "TCGA-ER-A2NH            1    64.0   174.5  20.702113          49.0  132.5213   \n",
       "TCGA-GN-A4U9            1   104.0   176.0  33.574380          71.0  185.3061   \n",
       "TCGA-ER-A19A            1    64.0   167.5  22.767946          79.0  137.2926   \n",
       "\n",
       "                      A2M      NAT1    NAT2  RP11-986E7.7  ...  \\\n",
       "submitter_id                                               ...   \n",
       "TCGA-EE-A3AE    7260.4981   97.9081  0.2846      321.3320  ...   \n",
       "TCGA-EE-A3AB  143990.5130   31.9909  0.0000   219866.3552  ...   \n",
       "TCGA-ER-A2NH   49821.7181  107.4468  0.0000   112313.8298  ...   \n",
       "TCGA-GN-A4U9    3267.8053   37.2580  0.8373        3.3490  ...   \n",
       "TCGA-ER-A19A   53361.5831  113.3985  0.5545      105.6353  ...   \n",
       "\n",
       "              icd_10_code_C77.3  icd_10_code_C77.4  icd_10_code_C77.5  \\\n",
       "submitter_id                                                            \n",
       "TCGA-EE-A3AE                  0                  1                  0   \n",
       "TCGA-EE-A3AB                  1                  0                  0   \n",
       "TCGA-ER-A2NH                  1                  0                  0   \n",
       "TCGA-GN-A4U9                  0                  1                  0   \n",
       "TCGA-ER-A19A                  0                  0                  0   \n",
       "\n",
       "              icd_10_code_C77.9  race_not reported  race_white  gender_male  \\\n",
       "submitter_id                                                                  \n",
       "TCGA-EE-A3AE                  0                  0           1            0   \n",
       "TCGA-EE-A3AB                  0                  0           1            1   \n",
       "TCGA-ER-A2NH                  0                  0           1            1   \n",
       "TCGA-GN-A4U9                  0                  0           1            1   \n",
       "TCGA-ER-A19A                  0                  0           1            1   \n",
       "\n",
       "              ethnicity_not hispanic or latino  ethnicity_not reported  \\\n",
       "submitter_id                                                             \n",
       "TCGA-EE-A3AE                                 1                       0   \n",
       "TCGA-EE-A3AB                                 1                       0   \n",
       "TCGA-ER-A2NH                                 1                       0   \n",
       "TCGA-GN-A4U9                                 1                       0   \n",
       "TCGA-ER-A19A                                 1                       0   \n",
       "\n",
       "              vital_status_Dead  \n",
       "submitter_id                     \n",
       "TCGA-EE-A3AE                  0  \n",
       "TCGA-EE-A3AB                  0  \n",
       "TCGA-ER-A2NH                  0  \n",
       "TCGA-GN-A4U9                  1  \n",
       "TCGA-ER-A19A                  0  \n",
       "\n",
       "[5 rows x 19917 columns]"
      ]
     },
     "execution_count": 2,
     "metadata": {},
     "output_type": "execute_result"
    }
   ],
   "source": [
    "train_df = pd.read_csv('../data/TCGA-SKCM_train_unresampled.csv',index_col=0)\n",
    "train_df.head()"
   ]
  },
  {
   "cell_type": "code",
   "execution_count": 3,
   "metadata": {},
   "outputs": [
    {
     "data": {
      "text/html": [
       "<div>\n",
       "<style scoped>\n",
       "    .dataframe tbody tr th:only-of-type {\n",
       "        vertical-align: middle;\n",
       "    }\n",
       "\n",
       "    .dataframe tbody tr th {\n",
       "        vertical-align: top;\n",
       "    }\n",
       "\n",
       "    .dataframe thead th {\n",
       "        text-align: right;\n",
       "    }\n",
       "</style>\n",
       "<table border=\"1\" class=\"dataframe\">\n",
       "  <thead>\n",
       "    <tr style=\"text-align: right;\">\n",
       "      <th></th>\n",
       "      <th>sample_type</th>\n",
       "      <th>weight</th>\n",
       "      <th>height</th>\n",
       "      <th>bmi</th>\n",
       "      <th>age_at_index</th>\n",
       "      <th>A1BG</th>\n",
       "      <th>A2M</th>\n",
       "      <th>NAT1</th>\n",
       "      <th>NAT2</th>\n",
       "      <th>RP11-986E7.7</th>\n",
       "      <th>...</th>\n",
       "      <th>icd_10_code_C77.3</th>\n",
       "      <th>icd_10_code_C77.4</th>\n",
       "      <th>icd_10_code_C77.5</th>\n",
       "      <th>icd_10_code_C77.9</th>\n",
       "      <th>race_not reported</th>\n",
       "      <th>race_white</th>\n",
       "      <th>gender_male</th>\n",
       "      <th>ethnicity_not hispanic or latino</th>\n",
       "      <th>ethnicity_not reported</th>\n",
       "      <th>vital_status_Dead</th>\n",
       "    </tr>\n",
       "    <tr>\n",
       "      <th>submitter_id</th>\n",
       "      <th></th>\n",
       "      <th></th>\n",
       "      <th></th>\n",
       "      <th></th>\n",
       "      <th></th>\n",
       "      <th></th>\n",
       "      <th></th>\n",
       "      <th></th>\n",
       "      <th></th>\n",
       "      <th></th>\n",
       "      <th></th>\n",
       "      <th></th>\n",
       "      <th></th>\n",
       "      <th></th>\n",
       "      <th></th>\n",
       "      <th></th>\n",
       "      <th></th>\n",
       "      <th></th>\n",
       "      <th></th>\n",
       "      <th></th>\n",
       "      <th></th>\n",
       "    </tr>\n",
       "  </thead>\n",
       "  <tbody>\n",
       "    <tr>\n",
       "      <th>TCGA-D3-A8GS</th>\n",
       "      <td>1</td>\n",
       "      <td>111.0</td>\n",
       "      <td>181.0</td>\n",
       "      <td>33.881750</td>\n",
       "      <td>52.0</td>\n",
       "      <td>546.5837</td>\n",
       "      <td>93090.1867</td>\n",
       "      <td>36.2796</td>\n",
       "      <td>0.0</td>\n",
       "      <td>330.7843</td>\n",
       "      <td>...</td>\n",
       "      <td>0</td>\n",
       "      <td>0</td>\n",
       "      <td>0</td>\n",
       "      <td>0</td>\n",
       "      <td>0</td>\n",
       "      <td>1</td>\n",
       "      <td>1</td>\n",
       "      <td>1</td>\n",
       "      <td>0</td>\n",
       "      <td>1</td>\n",
       "    </tr>\n",
       "    <tr>\n",
       "      <th>TCGA-EE-A2GS</th>\n",
       "      <td>1</td>\n",
       "      <td>84.5</td>\n",
       "      <td>170.0</td>\n",
       "      <td>27.917168</td>\n",
       "      <td>28.0</td>\n",
       "      <td>490.9347</td>\n",
       "      <td>17546.1929</td>\n",
       "      <td>38.8724</td>\n",
       "      <td>0.0</td>\n",
       "      <td>4970.6231</td>\n",
       "      <td>...</td>\n",
       "      <td>0</td>\n",
       "      <td>0</td>\n",
       "      <td>0</td>\n",
       "      <td>0</td>\n",
       "      <td>0</td>\n",
       "      <td>1</td>\n",
       "      <td>0</td>\n",
       "      <td>1</td>\n",
       "      <td>0</td>\n",
       "      <td>1</td>\n",
       "    </tr>\n",
       "    <tr>\n",
       "      <th>TCGA-D3-A2J7</th>\n",
       "      <td>1</td>\n",
       "      <td>93.0</td>\n",
       "      <td>175.0</td>\n",
       "      <td>30.367347</td>\n",
       "      <td>67.0</td>\n",
       "      <td>130.9387</td>\n",
       "      <td>18169.8586</td>\n",
       "      <td>252.1972</td>\n",
       "      <td>0.0</td>\n",
       "      <td>746.4017</td>\n",
       "      <td>...</td>\n",
       "      <td>0</td>\n",
       "      <td>0</td>\n",
       "      <td>0</td>\n",
       "      <td>1</td>\n",
       "      <td>0</td>\n",
       "      <td>1</td>\n",
       "      <td>1</td>\n",
       "      <td>1</td>\n",
       "      <td>0</td>\n",
       "      <td>1</td>\n",
       "    </tr>\n",
       "    <tr>\n",
       "      <th>TCGA-GN-A4U3</th>\n",
       "      <td>1</td>\n",
       "      <td>84.0</td>\n",
       "      <td>180.0</td>\n",
       "      <td>25.925926</td>\n",
       "      <td>30.0</td>\n",
       "      <td>261.4332</td>\n",
       "      <td>148931.6431</td>\n",
       "      <td>150.5854</td>\n",
       "      <td>0.0</td>\n",
       "      <td>872.8300</td>\n",
       "      <td>...</td>\n",
       "      <td>0</td>\n",
       "      <td>0</td>\n",
       "      <td>0</td>\n",
       "      <td>0</td>\n",
       "      <td>0</td>\n",
       "      <td>1</td>\n",
       "      <td>1</td>\n",
       "      <td>1</td>\n",
       "      <td>0</td>\n",
       "      <td>0</td>\n",
       "    </tr>\n",
       "    <tr>\n",
       "      <th>TCGA-XV-AAZW</th>\n",
       "      <td>0</td>\n",
       "      <td>74.0</td>\n",
       "      <td>170.0</td>\n",
       "      <td>25.605536</td>\n",
       "      <td>62.0</td>\n",
       "      <td>470.2573</td>\n",
       "      <td>4310.0451</td>\n",
       "      <td>89.8420</td>\n",
       "      <td>0.0</td>\n",
       "      <td>650.1129</td>\n",
       "      <td>...</td>\n",
       "      <td>0</td>\n",
       "      <td>0</td>\n",
       "      <td>0</td>\n",
       "      <td>0</td>\n",
       "      <td>0</td>\n",
       "      <td>1</td>\n",
       "      <td>0</td>\n",
       "      <td>1</td>\n",
       "      <td>0</td>\n",
       "      <td>1</td>\n",
       "    </tr>\n",
       "  </tbody>\n",
       "</table>\n",
       "<p>5 rows × 19917 columns</p>\n",
       "</div>"
      ],
      "text/plain": [
       "              sample_type  weight  height        bmi  age_at_index      A1BG  \\\n",
       "submitter_id                                                                   \n",
       "TCGA-D3-A8GS            1   111.0   181.0  33.881750          52.0  546.5837   \n",
       "TCGA-EE-A2GS            1    84.5   170.0  27.917168          28.0  490.9347   \n",
       "TCGA-D3-A2J7            1    93.0   175.0  30.367347          67.0  130.9387   \n",
       "TCGA-GN-A4U3            1    84.0   180.0  25.925926          30.0  261.4332   \n",
       "TCGA-XV-AAZW            0    74.0   170.0  25.605536          62.0  470.2573   \n",
       "\n",
       "                      A2M      NAT1  NAT2  RP11-986E7.7  ...  \\\n",
       "submitter_id                                             ...   \n",
       "TCGA-D3-A8GS   93090.1867   36.2796   0.0      330.7843  ...   \n",
       "TCGA-EE-A2GS   17546.1929   38.8724   0.0     4970.6231  ...   \n",
       "TCGA-D3-A2J7   18169.8586  252.1972   0.0      746.4017  ...   \n",
       "TCGA-GN-A4U3  148931.6431  150.5854   0.0      872.8300  ...   \n",
       "TCGA-XV-AAZW    4310.0451   89.8420   0.0      650.1129  ...   \n",
       "\n",
       "              icd_10_code_C77.3  icd_10_code_C77.4  icd_10_code_C77.5  \\\n",
       "submitter_id                                                            \n",
       "TCGA-D3-A8GS                  0                  0                  0   \n",
       "TCGA-EE-A2GS                  0                  0                  0   \n",
       "TCGA-D3-A2J7                  0                  0                  0   \n",
       "TCGA-GN-A4U3                  0                  0                  0   \n",
       "TCGA-XV-AAZW                  0                  0                  0   \n",
       "\n",
       "              icd_10_code_C77.9  race_not reported  race_white  gender_male  \\\n",
       "submitter_id                                                                  \n",
       "TCGA-D3-A8GS                  0                  0           1            1   \n",
       "TCGA-EE-A2GS                  0                  0           1            0   \n",
       "TCGA-D3-A2J7                  1                  0           1            1   \n",
       "TCGA-GN-A4U3                  0                  0           1            1   \n",
       "TCGA-XV-AAZW                  0                  0           1            0   \n",
       "\n",
       "              ethnicity_not hispanic or latino  ethnicity_not reported  \\\n",
       "submitter_id                                                             \n",
       "TCGA-D3-A8GS                                 1                       0   \n",
       "TCGA-EE-A2GS                                 1                       0   \n",
       "TCGA-D3-A2J7                                 1                       0   \n",
       "TCGA-GN-A4U3                                 1                       0   \n",
       "TCGA-XV-AAZW                                 1                       0   \n",
       "\n",
       "              vital_status_Dead  \n",
       "submitter_id                     \n",
       "TCGA-D3-A8GS                  1  \n",
       "TCGA-EE-A2GS                  1  \n",
       "TCGA-D3-A2J7                  1  \n",
       "TCGA-GN-A4U3                  0  \n",
       "TCGA-XV-AAZW                  1  \n",
       "\n",
       "[5 rows x 19917 columns]"
      ]
     },
     "execution_count": 3,
     "metadata": {},
     "output_type": "execute_result"
    }
   ],
   "source": [
    "test_df = pd.read_csv('../data/TCGA-SKCM_test_unresampled.csv',index_col=0)\n",
    "test_df.head()"
   ]
  },
  {
   "cell_type": "code",
   "execution_count": 4,
   "metadata": {},
   "outputs": [
    {
     "data": {
      "text/html": [
       "<div>\n",
       "<style scoped>\n",
       "    .dataframe tbody tr th:only-of-type {\n",
       "        vertical-align: middle;\n",
       "    }\n",
       "\n",
       "    .dataframe tbody tr th {\n",
       "        vertical-align: top;\n",
       "    }\n",
       "\n",
       "    .dataframe thead th {\n",
       "        text-align: right;\n",
       "    }\n",
       "</style>\n",
       "<table border=\"1\" class=\"dataframe\">\n",
       "  <thead>\n",
       "    <tr style=\"text-align: right;\">\n",
       "      <th></th>\n",
       "      <th>sample_type</th>\n",
       "      <th>ajcc_pathologic_stage_Stage 0</th>\n",
       "      <th>ajcc_pathologic_stage_Stage I</th>\n",
       "      <th>ajcc_pathologic_stage_Stage IA</th>\n",
       "      <th>ajcc_pathologic_stage_Stage IB</th>\n",
       "      <th>ajcc_pathologic_stage_Stage II</th>\n",
       "      <th>ajcc_pathologic_stage_Stage IIA</th>\n",
       "      <th>ajcc_pathologic_stage_Stage IIB</th>\n",
       "      <th>ajcc_pathologic_stage_Stage IIC</th>\n",
       "      <th>ajcc_pathologic_stage_Stage III</th>\n",
       "      <th>...</th>\n",
       "      <th>race_not reported</th>\n",
       "      <th>race_white</th>\n",
       "      <th>gender_male</th>\n",
       "      <th>ethnicity_not hispanic or latino</th>\n",
       "      <th>ethnicity_not reported</th>\n",
       "      <th>vital_status_Dead</th>\n",
       "      <th>weight</th>\n",
       "      <th>height</th>\n",
       "      <th>bmi</th>\n",
       "      <th>age_at_index</th>\n",
       "    </tr>\n",
       "    <tr>\n",
       "      <th>submitter_id</th>\n",
       "      <th></th>\n",
       "      <th></th>\n",
       "      <th></th>\n",
       "      <th></th>\n",
       "      <th></th>\n",
       "      <th></th>\n",
       "      <th></th>\n",
       "      <th></th>\n",
       "      <th></th>\n",
       "      <th></th>\n",
       "      <th></th>\n",
       "      <th></th>\n",
       "      <th></th>\n",
       "      <th></th>\n",
       "      <th></th>\n",
       "      <th></th>\n",
       "      <th></th>\n",
       "      <th></th>\n",
       "      <th></th>\n",
       "      <th></th>\n",
       "      <th></th>\n",
       "    </tr>\n",
       "  </thead>\n",
       "  <tbody>\n",
       "    <tr>\n",
       "      <th>TCGA-EE-A3AE</th>\n",
       "      <td>1</td>\n",
       "      <td>0</td>\n",
       "      <td>0</td>\n",
       "      <td>1</td>\n",
       "      <td>0</td>\n",
       "      <td>0</td>\n",
       "      <td>0</td>\n",
       "      <td>0</td>\n",
       "      <td>0</td>\n",
       "      <td>0</td>\n",
       "      <td>...</td>\n",
       "      <td>0</td>\n",
       "      <td>1</td>\n",
       "      <td>0</td>\n",
       "      <td>1</td>\n",
       "      <td>0</td>\n",
       "      <td>0</td>\n",
       "      <td>82.0</td>\n",
       "      <td>172.5</td>\n",
       "      <td>26.793641</td>\n",
       "      <td>52.0</td>\n",
       "    </tr>\n",
       "    <tr>\n",
       "      <th>TCGA-EE-A3AB</th>\n",
       "      <td>1</td>\n",
       "      <td>0</td>\n",
       "      <td>0</td>\n",
       "      <td>0</td>\n",
       "      <td>0</td>\n",
       "      <td>0</td>\n",
       "      <td>0</td>\n",
       "      <td>0</td>\n",
       "      <td>0</td>\n",
       "      <td>1</td>\n",
       "      <td>...</td>\n",
       "      <td>0</td>\n",
       "      <td>1</td>\n",
       "      <td>1</td>\n",
       "      <td>1</td>\n",
       "      <td>0</td>\n",
       "      <td>0</td>\n",
       "      <td>86.5</td>\n",
       "      <td>172.5</td>\n",
       "      <td>29.308234</td>\n",
       "      <td>30.0</td>\n",
       "    </tr>\n",
       "    <tr>\n",
       "      <th>TCGA-ER-A2NH</th>\n",
       "      <td>1</td>\n",
       "      <td>0</td>\n",
       "      <td>0</td>\n",
       "      <td>0</td>\n",
       "      <td>0</td>\n",
       "      <td>0</td>\n",
       "      <td>0</td>\n",
       "      <td>0</td>\n",
       "      <td>0</td>\n",
       "      <td>0</td>\n",
       "      <td>...</td>\n",
       "      <td>0</td>\n",
       "      <td>1</td>\n",
       "      <td>1</td>\n",
       "      <td>1</td>\n",
       "      <td>0</td>\n",
       "      <td>0</td>\n",
       "      <td>64.0</td>\n",
       "      <td>174.5</td>\n",
       "      <td>20.702113</td>\n",
       "      <td>49.0</td>\n",
       "    </tr>\n",
       "    <tr>\n",
       "      <th>TCGA-GN-A4U9</th>\n",
       "      <td>1</td>\n",
       "      <td>0</td>\n",
       "      <td>0</td>\n",
       "      <td>0</td>\n",
       "      <td>0</td>\n",
       "      <td>0</td>\n",
       "      <td>0</td>\n",
       "      <td>0</td>\n",
       "      <td>0</td>\n",
       "      <td>0</td>\n",
       "      <td>...</td>\n",
       "      <td>0</td>\n",
       "      <td>1</td>\n",
       "      <td>1</td>\n",
       "      <td>1</td>\n",
       "      <td>0</td>\n",
       "      <td>1</td>\n",
       "      <td>104.0</td>\n",
       "      <td>176.0</td>\n",
       "      <td>33.574380</td>\n",
       "      <td>71.0</td>\n",
       "    </tr>\n",
       "    <tr>\n",
       "      <th>TCGA-ER-A19A</th>\n",
       "      <td>1</td>\n",
       "      <td>0</td>\n",
       "      <td>0</td>\n",
       "      <td>0</td>\n",
       "      <td>0</td>\n",
       "      <td>0</td>\n",
       "      <td>0</td>\n",
       "      <td>0</td>\n",
       "      <td>0</td>\n",
       "      <td>0</td>\n",
       "      <td>...</td>\n",
       "      <td>0</td>\n",
       "      <td>1</td>\n",
       "      <td>1</td>\n",
       "      <td>1</td>\n",
       "      <td>0</td>\n",
       "      <td>0</td>\n",
       "      <td>64.0</td>\n",
       "      <td>167.5</td>\n",
       "      <td>22.767946</td>\n",
       "      <td>79.0</td>\n",
       "    </tr>\n",
       "  </tbody>\n",
       "</table>\n",
       "<p>5 rows × 89 columns</p>\n",
       "</div>"
      ],
      "text/plain": [
       "              sample_type  ajcc_pathologic_stage_Stage 0  \\\n",
       "submitter_id                                               \n",
       "TCGA-EE-A3AE            1                              0   \n",
       "TCGA-EE-A3AB            1                              0   \n",
       "TCGA-ER-A2NH            1                              0   \n",
       "TCGA-GN-A4U9            1                              0   \n",
       "TCGA-ER-A19A            1                              0   \n",
       "\n",
       "              ajcc_pathologic_stage_Stage I  ajcc_pathologic_stage_Stage IA  \\\n",
       "submitter_id                                                                  \n",
       "TCGA-EE-A3AE                              0                               1   \n",
       "TCGA-EE-A3AB                              0                               0   \n",
       "TCGA-ER-A2NH                              0                               0   \n",
       "TCGA-GN-A4U9                              0                               0   \n",
       "TCGA-ER-A19A                              0                               0   \n",
       "\n",
       "              ajcc_pathologic_stage_Stage IB  ajcc_pathologic_stage_Stage II  \\\n",
       "submitter_id                                                                   \n",
       "TCGA-EE-A3AE                               0                               0   \n",
       "TCGA-EE-A3AB                               0                               0   \n",
       "TCGA-ER-A2NH                               0                               0   \n",
       "TCGA-GN-A4U9                               0                               0   \n",
       "TCGA-ER-A19A                               0                               0   \n",
       "\n",
       "              ajcc_pathologic_stage_Stage IIA  \\\n",
       "submitter_id                                    \n",
       "TCGA-EE-A3AE                                0   \n",
       "TCGA-EE-A3AB                                0   \n",
       "TCGA-ER-A2NH                                0   \n",
       "TCGA-GN-A4U9                                0   \n",
       "TCGA-ER-A19A                                0   \n",
       "\n",
       "              ajcc_pathologic_stage_Stage IIB  \\\n",
       "submitter_id                                    \n",
       "TCGA-EE-A3AE                                0   \n",
       "TCGA-EE-A3AB                                0   \n",
       "TCGA-ER-A2NH                                0   \n",
       "TCGA-GN-A4U9                                0   \n",
       "TCGA-ER-A19A                                0   \n",
       "\n",
       "              ajcc_pathologic_stage_Stage IIC  \\\n",
       "submitter_id                                    \n",
       "TCGA-EE-A3AE                                0   \n",
       "TCGA-EE-A3AB                                0   \n",
       "TCGA-ER-A2NH                                0   \n",
       "TCGA-GN-A4U9                                0   \n",
       "TCGA-ER-A19A                                0   \n",
       "\n",
       "              ajcc_pathologic_stage_Stage III  ...  race_not reported  \\\n",
       "submitter_id                                   ...                      \n",
       "TCGA-EE-A3AE                                0  ...                  0   \n",
       "TCGA-EE-A3AB                                1  ...                  0   \n",
       "TCGA-ER-A2NH                                0  ...                  0   \n",
       "TCGA-GN-A4U9                                0  ...                  0   \n",
       "TCGA-ER-A19A                                0  ...                  0   \n",
       "\n",
       "              race_white  gender_male  ethnicity_not hispanic or latino  \\\n",
       "submitter_id                                                              \n",
       "TCGA-EE-A3AE           1            0                                 1   \n",
       "TCGA-EE-A3AB           1            1                                 1   \n",
       "TCGA-ER-A2NH           1            1                                 1   \n",
       "TCGA-GN-A4U9           1            1                                 1   \n",
       "TCGA-ER-A19A           1            1                                 1   \n",
       "\n",
       "              ethnicity_not reported  vital_status_Dead  weight  height  \\\n",
       "submitter_id                                                              \n",
       "TCGA-EE-A3AE                       0                  0    82.0   172.5   \n",
       "TCGA-EE-A3AB                       0                  0    86.5   172.5   \n",
       "TCGA-ER-A2NH                       0                  0    64.0   174.5   \n",
       "TCGA-GN-A4U9                       0                  1   104.0   176.0   \n",
       "TCGA-ER-A19A                       0                  0    64.0   167.5   \n",
       "\n",
       "                    bmi  age_at_index  \n",
       "submitter_id                           \n",
       "TCGA-EE-A3AE  26.793641          52.0  \n",
       "TCGA-EE-A3AB  29.308234          30.0  \n",
       "TCGA-ER-A2NH  20.702113          49.0  \n",
       "TCGA-GN-A4U9  33.574380          71.0  \n",
       "TCGA-ER-A19A  22.767946          79.0  \n",
       "\n",
       "[5 rows x 89 columns]"
      ]
     },
     "execution_count": 4,
     "metadata": {},
     "output_type": "execute_result"
    }
   ],
   "source": [
    "train_df = train_df[[\n",
    "       'sample_type',\n",
    "       'ajcc_pathologic_stage_Stage 0', 'ajcc_pathologic_stage_Stage I',\n",
    "       'ajcc_pathologic_stage_Stage IA', 'ajcc_pathologic_stage_Stage IB',\n",
    "       'ajcc_pathologic_stage_Stage II',\n",
    "       'ajcc_pathologic_stage_Stage IIA',\n",
    "       'ajcc_pathologic_stage_Stage IIB',\n",
    "       'ajcc_pathologic_stage_Stage IIC',\n",
    "       'ajcc_pathologic_stage_Stage III',\n",
    "       'ajcc_pathologic_stage_Stage IIIA',\n",
    "       'ajcc_pathologic_stage_Stage IIIB',\n",
    "       'ajcc_pathologic_stage_Stage IIIC',\n",
    "       'ajcc_pathologic_stage_Stage IV', \n",
    "       'ajcc_pathologic_t_T1', 'ajcc_pathologic_t_T1a',\n",
    "       'ajcc_pathologic_t_T1b', 'ajcc_pathologic_t_T2',\n",
    "       'ajcc_pathologic_t_T2a', 'ajcc_pathologic_t_T2b',\n",
    "       'ajcc_pathologic_t_T3', 'ajcc_pathologic_t_T3a',\n",
    "       'ajcc_pathologic_t_T3b', 'ajcc_pathologic_t_T4',\n",
    "       'ajcc_pathologic_t_T4a', 'ajcc_pathologic_t_T4b',\n",
    "       'ajcc_pathologic_t_TX', 'ajcc_pathologic_t_Tis',\n",
    "       'ajcc_pathologic_n_N1', 'ajcc_pathologic_n_N1a',\n",
    "       'ajcc_pathologic_n_N1b', 'ajcc_pathologic_n_N2',\n",
    "       'ajcc_pathologic_n_N2a', 'ajcc_pathologic_n_N2b',\n",
    "       'ajcc_pathologic_n_N2c', 'ajcc_pathologic_n_N3',\n",
    "       'ajcc_pathologic_n_NX', 'ajcc_pathologic_m_M1',\n",
    "       'ajcc_pathologic_m_M1a', 'ajcc_pathologic_m_M1b',\n",
    "       'ajcc_pathologic_m_M1c', 'icd_10_code_C18.9', 'icd_10_code_C22.0',\n",
    "       'icd_10_code_C34.3', 'icd_10_code_C34.9', 'icd_10_code_C44.2',\n",
    "       'icd_10_code_C44.3', 'icd_10_code_C44.31', 'icd_10_code_C44.4',\n",
    "       'icd_10_code_C44.5', 'icd_10_code_C44.50', 'icd_10_code_C44.6',\n",
    "       'icd_10_code_C44.601', 'icd_10_code_C44.7', 'icd_10_code_C44.701',\n",
    "       'icd_10_code_C44.9', 'icd_10_code_C49.0', 'icd_10_code_C49.1',\n",
    "       'icd_10_code_C49.2', 'icd_10_code_C49.20', 'icd_10_code_C49.3',\n",
    "       'icd_10_code_C49.4', 'icd_10_code_C49.5', 'icd_10_code_C49.6',\n",
    "       'icd_10_code_C49.9', 'icd_10_code_C51.9', 'icd_10_code_C71.1',\n",
    "       'icd_10_code_C71.3', 'icd_10_code_C71.9', 'icd_10_code_C74.9',\n",
    "       'icd_10_code_C76.1', 'icd_10_code_C76.2', 'icd_10_code_C76.3',\n",
    "       'icd_10_code_C77.0', 'icd_10_code_C77.2', 'icd_10_code_C77.3',\n",
    "       'icd_10_code_C77.4', 'icd_10_code_C77.5', 'icd_10_code_C77.9',\n",
    "       'race_not reported',\n",
    "       'race_white', 'gender_male', 'ethnicity_not hispanic or latino',\n",
    "       'ethnicity_not reported', 'vital_status_Dead', 'weight', 'height','bmi','age_at_index'\n",
    "]]\n",
    "train_df.head()"
   ]
  },
  {
   "cell_type": "code",
   "execution_count": 5,
   "metadata": {},
   "outputs": [
    {
     "data": {
      "text/html": [
       "<div>\n",
       "<style scoped>\n",
       "    .dataframe tbody tr th:only-of-type {\n",
       "        vertical-align: middle;\n",
       "    }\n",
       "\n",
       "    .dataframe tbody tr th {\n",
       "        vertical-align: top;\n",
       "    }\n",
       "\n",
       "    .dataframe thead th {\n",
       "        text-align: right;\n",
       "    }\n",
       "</style>\n",
       "<table border=\"1\" class=\"dataframe\">\n",
       "  <thead>\n",
       "    <tr style=\"text-align: right;\">\n",
       "      <th></th>\n",
       "      <th>sample_type</th>\n",
       "      <th>ajcc_pathologic_stage_Stage 0</th>\n",
       "      <th>ajcc_pathologic_stage_Stage I</th>\n",
       "      <th>ajcc_pathologic_stage_Stage IA</th>\n",
       "      <th>ajcc_pathologic_stage_Stage IB</th>\n",
       "      <th>ajcc_pathologic_stage_Stage II</th>\n",
       "      <th>ajcc_pathologic_stage_Stage IIA</th>\n",
       "      <th>ajcc_pathologic_stage_Stage IIB</th>\n",
       "      <th>ajcc_pathologic_stage_Stage IIC</th>\n",
       "      <th>ajcc_pathologic_stage_Stage III</th>\n",
       "      <th>...</th>\n",
       "      <th>race_not reported</th>\n",
       "      <th>race_white</th>\n",
       "      <th>gender_male</th>\n",
       "      <th>ethnicity_not hispanic or latino</th>\n",
       "      <th>ethnicity_not reported</th>\n",
       "      <th>vital_status_Dead</th>\n",
       "      <th>weight</th>\n",
       "      <th>height</th>\n",
       "      <th>bmi</th>\n",
       "      <th>age_at_index</th>\n",
       "    </tr>\n",
       "    <tr>\n",
       "      <th>submitter_id</th>\n",
       "      <th></th>\n",
       "      <th></th>\n",
       "      <th></th>\n",
       "      <th></th>\n",
       "      <th></th>\n",
       "      <th></th>\n",
       "      <th></th>\n",
       "      <th></th>\n",
       "      <th></th>\n",
       "      <th></th>\n",
       "      <th></th>\n",
       "      <th></th>\n",
       "      <th></th>\n",
       "      <th></th>\n",
       "      <th></th>\n",
       "      <th></th>\n",
       "      <th></th>\n",
       "      <th></th>\n",
       "      <th></th>\n",
       "      <th></th>\n",
       "      <th></th>\n",
       "    </tr>\n",
       "  </thead>\n",
       "  <tbody>\n",
       "    <tr>\n",
       "      <th>TCGA-D3-A8GS</th>\n",
       "      <td>1</td>\n",
       "      <td>0</td>\n",
       "      <td>1</td>\n",
       "      <td>0</td>\n",
       "      <td>0</td>\n",
       "      <td>0</td>\n",
       "      <td>0</td>\n",
       "      <td>0</td>\n",
       "      <td>0</td>\n",
       "      <td>0</td>\n",
       "      <td>...</td>\n",
       "      <td>0</td>\n",
       "      <td>1</td>\n",
       "      <td>1</td>\n",
       "      <td>1</td>\n",
       "      <td>0</td>\n",
       "      <td>1</td>\n",
       "      <td>111.0</td>\n",
       "      <td>181.0</td>\n",
       "      <td>33.881750</td>\n",
       "      <td>52.0</td>\n",
       "    </tr>\n",
       "    <tr>\n",
       "      <th>TCGA-EE-A2GS</th>\n",
       "      <td>1</td>\n",
       "      <td>0</td>\n",
       "      <td>0</td>\n",
       "      <td>0</td>\n",
       "      <td>1</td>\n",
       "      <td>0</td>\n",
       "      <td>0</td>\n",
       "      <td>0</td>\n",
       "      <td>0</td>\n",
       "      <td>0</td>\n",
       "      <td>...</td>\n",
       "      <td>0</td>\n",
       "      <td>1</td>\n",
       "      <td>0</td>\n",
       "      <td>1</td>\n",
       "      <td>0</td>\n",
       "      <td>1</td>\n",
       "      <td>84.5</td>\n",
       "      <td>170.0</td>\n",
       "      <td>27.917168</td>\n",
       "      <td>28.0</td>\n",
       "    </tr>\n",
       "    <tr>\n",
       "      <th>TCGA-D3-A2J7</th>\n",
       "      <td>1</td>\n",
       "      <td>0</td>\n",
       "      <td>0</td>\n",
       "      <td>0</td>\n",
       "      <td>0</td>\n",
       "      <td>0</td>\n",
       "      <td>0</td>\n",
       "      <td>0</td>\n",
       "      <td>0</td>\n",
       "      <td>0</td>\n",
       "      <td>...</td>\n",
       "      <td>0</td>\n",
       "      <td>1</td>\n",
       "      <td>1</td>\n",
       "      <td>1</td>\n",
       "      <td>0</td>\n",
       "      <td>1</td>\n",
       "      <td>93.0</td>\n",
       "      <td>175.0</td>\n",
       "      <td>30.367347</td>\n",
       "      <td>67.0</td>\n",
       "    </tr>\n",
       "    <tr>\n",
       "      <th>TCGA-GN-A4U3</th>\n",
       "      <td>1</td>\n",
       "      <td>0</td>\n",
       "      <td>0</td>\n",
       "      <td>0</td>\n",
       "      <td>0</td>\n",
       "      <td>0</td>\n",
       "      <td>0</td>\n",
       "      <td>0</td>\n",
       "      <td>0</td>\n",
       "      <td>1</td>\n",
       "      <td>...</td>\n",
       "      <td>0</td>\n",
       "      <td>1</td>\n",
       "      <td>1</td>\n",
       "      <td>1</td>\n",
       "      <td>0</td>\n",
       "      <td>0</td>\n",
       "      <td>84.0</td>\n",
       "      <td>180.0</td>\n",
       "      <td>25.925926</td>\n",
       "      <td>30.0</td>\n",
       "    </tr>\n",
       "    <tr>\n",
       "      <th>TCGA-XV-AAZW</th>\n",
       "      <td>0</td>\n",
       "      <td>0</td>\n",
       "      <td>0</td>\n",
       "      <td>0</td>\n",
       "      <td>0</td>\n",
       "      <td>1</td>\n",
       "      <td>0</td>\n",
       "      <td>0</td>\n",
       "      <td>0</td>\n",
       "      <td>0</td>\n",
       "      <td>...</td>\n",
       "      <td>0</td>\n",
       "      <td>1</td>\n",
       "      <td>0</td>\n",
       "      <td>1</td>\n",
       "      <td>0</td>\n",
       "      <td>1</td>\n",
       "      <td>74.0</td>\n",
       "      <td>170.0</td>\n",
       "      <td>25.605536</td>\n",
       "      <td>62.0</td>\n",
       "    </tr>\n",
       "  </tbody>\n",
       "</table>\n",
       "<p>5 rows × 89 columns</p>\n",
       "</div>"
      ],
      "text/plain": [
       "              sample_type  ajcc_pathologic_stage_Stage 0  \\\n",
       "submitter_id                                               \n",
       "TCGA-D3-A8GS            1                              0   \n",
       "TCGA-EE-A2GS            1                              0   \n",
       "TCGA-D3-A2J7            1                              0   \n",
       "TCGA-GN-A4U3            1                              0   \n",
       "TCGA-XV-AAZW            0                              0   \n",
       "\n",
       "              ajcc_pathologic_stage_Stage I  ajcc_pathologic_stage_Stage IA  \\\n",
       "submitter_id                                                                  \n",
       "TCGA-D3-A8GS                              1                               0   \n",
       "TCGA-EE-A2GS                              0                               0   \n",
       "TCGA-D3-A2J7                              0                               0   \n",
       "TCGA-GN-A4U3                              0                               0   \n",
       "TCGA-XV-AAZW                              0                               0   \n",
       "\n",
       "              ajcc_pathologic_stage_Stage IB  ajcc_pathologic_stage_Stage II  \\\n",
       "submitter_id                                                                   \n",
       "TCGA-D3-A8GS                               0                               0   \n",
       "TCGA-EE-A2GS                               1                               0   \n",
       "TCGA-D3-A2J7                               0                               0   \n",
       "TCGA-GN-A4U3                               0                               0   \n",
       "TCGA-XV-AAZW                               0                               1   \n",
       "\n",
       "              ajcc_pathologic_stage_Stage IIA  \\\n",
       "submitter_id                                    \n",
       "TCGA-D3-A8GS                                0   \n",
       "TCGA-EE-A2GS                                0   \n",
       "TCGA-D3-A2J7                                0   \n",
       "TCGA-GN-A4U3                                0   \n",
       "TCGA-XV-AAZW                                0   \n",
       "\n",
       "              ajcc_pathologic_stage_Stage IIB  \\\n",
       "submitter_id                                    \n",
       "TCGA-D3-A8GS                                0   \n",
       "TCGA-EE-A2GS                                0   \n",
       "TCGA-D3-A2J7                                0   \n",
       "TCGA-GN-A4U3                                0   \n",
       "TCGA-XV-AAZW                                0   \n",
       "\n",
       "              ajcc_pathologic_stage_Stage IIC  \\\n",
       "submitter_id                                    \n",
       "TCGA-D3-A8GS                                0   \n",
       "TCGA-EE-A2GS                                0   \n",
       "TCGA-D3-A2J7                                0   \n",
       "TCGA-GN-A4U3                                0   \n",
       "TCGA-XV-AAZW                                0   \n",
       "\n",
       "              ajcc_pathologic_stage_Stage III  ...  race_not reported  \\\n",
       "submitter_id                                   ...                      \n",
       "TCGA-D3-A8GS                                0  ...                  0   \n",
       "TCGA-EE-A2GS                                0  ...                  0   \n",
       "TCGA-D3-A2J7                                0  ...                  0   \n",
       "TCGA-GN-A4U3                                1  ...                  0   \n",
       "TCGA-XV-AAZW                                0  ...                  0   \n",
       "\n",
       "              race_white  gender_male  ethnicity_not hispanic or latino  \\\n",
       "submitter_id                                                              \n",
       "TCGA-D3-A8GS           1            1                                 1   \n",
       "TCGA-EE-A2GS           1            0                                 1   \n",
       "TCGA-D3-A2J7           1            1                                 1   \n",
       "TCGA-GN-A4U3           1            1                                 1   \n",
       "TCGA-XV-AAZW           1            0                                 1   \n",
       "\n",
       "              ethnicity_not reported  vital_status_Dead  weight  height  \\\n",
       "submitter_id                                                              \n",
       "TCGA-D3-A8GS                       0                  1   111.0   181.0   \n",
       "TCGA-EE-A2GS                       0                  1    84.5   170.0   \n",
       "TCGA-D3-A2J7                       0                  1    93.0   175.0   \n",
       "TCGA-GN-A4U3                       0                  0    84.0   180.0   \n",
       "TCGA-XV-AAZW                       0                  1    74.0   170.0   \n",
       "\n",
       "                    bmi  age_at_index  \n",
       "submitter_id                           \n",
       "TCGA-D3-A8GS  33.881750          52.0  \n",
       "TCGA-EE-A2GS  27.917168          28.0  \n",
       "TCGA-D3-A2J7  30.367347          67.0  \n",
       "TCGA-GN-A4U3  25.925926          30.0  \n",
       "TCGA-XV-AAZW  25.605536          62.0  \n",
       "\n",
       "[5 rows x 89 columns]"
      ]
     },
     "execution_count": 5,
     "metadata": {},
     "output_type": "execute_result"
    }
   ],
   "source": [
    "test_df = test_df[[\n",
    "       'sample_type',\n",
    "       'ajcc_pathologic_stage_Stage 0', 'ajcc_pathologic_stage_Stage I',\n",
    "       'ajcc_pathologic_stage_Stage IA', 'ajcc_pathologic_stage_Stage IB',\n",
    "       'ajcc_pathologic_stage_Stage II',\n",
    "       'ajcc_pathologic_stage_Stage IIA',\n",
    "       'ajcc_pathologic_stage_Stage IIB',\n",
    "       'ajcc_pathologic_stage_Stage IIC',\n",
    "       'ajcc_pathologic_stage_Stage III',\n",
    "       'ajcc_pathologic_stage_Stage IIIA',\n",
    "       'ajcc_pathologic_stage_Stage IIIB',\n",
    "       'ajcc_pathologic_stage_Stage IIIC',\n",
    "       'ajcc_pathologic_stage_Stage IV', \n",
    "       'ajcc_pathologic_t_T1', 'ajcc_pathologic_t_T1a',\n",
    "       'ajcc_pathologic_t_T1b', 'ajcc_pathologic_t_T2',\n",
    "       'ajcc_pathologic_t_T2a', 'ajcc_pathologic_t_T2b',\n",
    "       'ajcc_pathologic_t_T3', 'ajcc_pathologic_t_T3a',\n",
    "       'ajcc_pathologic_t_T3b', 'ajcc_pathologic_t_T4',\n",
    "       'ajcc_pathologic_t_T4a', 'ajcc_pathologic_t_T4b',\n",
    "       'ajcc_pathologic_t_TX', 'ajcc_pathologic_t_Tis',\n",
    "       'ajcc_pathologic_n_N1', 'ajcc_pathologic_n_N1a',\n",
    "       'ajcc_pathologic_n_N1b', 'ajcc_pathologic_n_N2',\n",
    "       'ajcc_pathologic_n_N2a', 'ajcc_pathologic_n_N2b',\n",
    "       'ajcc_pathologic_n_N2c', 'ajcc_pathologic_n_N3',\n",
    "       'ajcc_pathologic_n_NX', 'ajcc_pathologic_m_M1',\n",
    "       'ajcc_pathologic_m_M1a', 'ajcc_pathologic_m_M1b',\n",
    "       'ajcc_pathologic_m_M1c', 'icd_10_code_C18.9', 'icd_10_code_C22.0',\n",
    "       'icd_10_code_C34.3', 'icd_10_code_C34.9', 'icd_10_code_C44.2',\n",
    "       'icd_10_code_C44.3', 'icd_10_code_C44.31', 'icd_10_code_C44.4',\n",
    "       'icd_10_code_C44.5', 'icd_10_code_C44.50', 'icd_10_code_C44.6',\n",
    "       'icd_10_code_C44.601', 'icd_10_code_C44.7', 'icd_10_code_C44.701',\n",
    "       'icd_10_code_C44.9', 'icd_10_code_C49.0', 'icd_10_code_C49.1',\n",
    "       'icd_10_code_C49.2', 'icd_10_code_C49.20', 'icd_10_code_C49.3',\n",
    "       'icd_10_code_C49.4', 'icd_10_code_C49.5', 'icd_10_code_C49.6',\n",
    "       'icd_10_code_C49.9', 'icd_10_code_C51.9', 'icd_10_code_C71.1',\n",
    "       'icd_10_code_C71.3', 'icd_10_code_C71.9', 'icd_10_code_C74.9',\n",
    "       'icd_10_code_C76.1', 'icd_10_code_C76.2', 'icd_10_code_C76.3',\n",
    "       'icd_10_code_C77.0', 'icd_10_code_C77.2', 'icd_10_code_C77.3',\n",
    "       'icd_10_code_C77.4', 'icd_10_code_C77.5', 'icd_10_code_C77.9',\n",
    "       'race_not reported',\n",
    "       'race_white', 'gender_male', 'ethnicity_not hispanic or latino',\n",
    "       'ethnicity_not reported', 'vital_status_Dead', 'weight', 'height','bmi','age_at_index'\n",
    "]]\n",
    "test_df.head()"
   ]
  },
  {
   "cell_type": "code",
   "execution_count": 6,
   "metadata": {},
   "outputs": [
    {
     "data": {
      "text/html": [
       "<div>\n",
       "<style scoped>\n",
       "    .dataframe tbody tr th:only-of-type {\n",
       "        vertical-align: middle;\n",
       "    }\n",
       "\n",
       "    .dataframe tbody tr th {\n",
       "        vertical-align: top;\n",
       "    }\n",
       "\n",
       "    .dataframe thead th {\n",
       "        text-align: right;\n",
       "    }\n",
       "</style>\n",
       "<table border=\"1\" class=\"dataframe\">\n",
       "  <thead>\n",
       "    <tr style=\"text-align: right;\">\n",
       "      <th></th>\n",
       "      <th>sample_type</th>\n",
       "    </tr>\n",
       "    <tr>\n",
       "      <th>submitter_id</th>\n",
       "      <th></th>\n",
       "    </tr>\n",
       "  </thead>\n",
       "  <tbody>\n",
       "    <tr>\n",
       "      <th>TCGA-EE-A3AE</th>\n",
       "      <td>1</td>\n",
       "    </tr>\n",
       "    <tr>\n",
       "      <th>TCGA-EE-A3AB</th>\n",
       "      <td>1</td>\n",
       "    </tr>\n",
       "    <tr>\n",
       "      <th>TCGA-ER-A2NH</th>\n",
       "      <td>1</td>\n",
       "    </tr>\n",
       "    <tr>\n",
       "      <th>TCGA-GN-A4U9</th>\n",
       "      <td>1</td>\n",
       "    </tr>\n",
       "    <tr>\n",
       "      <th>TCGA-ER-A19A</th>\n",
       "      <td>1</td>\n",
       "    </tr>\n",
       "  </tbody>\n",
       "</table>\n",
       "</div>"
      ],
      "text/plain": [
       "              sample_type\n",
       "submitter_id             \n",
       "TCGA-EE-A3AE            1\n",
       "TCGA-EE-A3AB            1\n",
       "TCGA-ER-A2NH            1\n",
       "TCGA-GN-A4U9            1\n",
       "TCGA-ER-A19A            1"
      ]
     },
     "execution_count": 6,
     "metadata": {},
     "output_type": "execute_result"
    }
   ],
   "source": [
    "train_target = train_df[['sample_type']]\n",
    "train_target.astype(float, 64)\n",
    "train_target.head()"
   ]
  },
  {
   "cell_type": "code",
   "execution_count": 7,
   "metadata": {},
   "outputs": [
    {
     "data": {
      "text/html": [
       "<div>\n",
       "<style scoped>\n",
       "    .dataframe tbody tr th:only-of-type {\n",
       "        vertical-align: middle;\n",
       "    }\n",
       "\n",
       "    .dataframe tbody tr th {\n",
       "        vertical-align: top;\n",
       "    }\n",
       "\n",
       "    .dataframe thead th {\n",
       "        text-align: right;\n",
       "    }\n",
       "</style>\n",
       "<table border=\"1\" class=\"dataframe\">\n",
       "  <thead>\n",
       "    <tr style=\"text-align: right;\">\n",
       "      <th></th>\n",
       "      <th>sample_type</th>\n",
       "    </tr>\n",
       "    <tr>\n",
       "      <th>submitter_id</th>\n",
       "      <th></th>\n",
       "    </tr>\n",
       "  </thead>\n",
       "  <tbody>\n",
       "    <tr>\n",
       "      <th>TCGA-D3-A8GS</th>\n",
       "      <td>1</td>\n",
       "    </tr>\n",
       "    <tr>\n",
       "      <th>TCGA-EE-A2GS</th>\n",
       "      <td>1</td>\n",
       "    </tr>\n",
       "    <tr>\n",
       "      <th>TCGA-D3-A2J7</th>\n",
       "      <td>1</td>\n",
       "    </tr>\n",
       "    <tr>\n",
       "      <th>TCGA-GN-A4U3</th>\n",
       "      <td>1</td>\n",
       "    </tr>\n",
       "    <tr>\n",
       "      <th>TCGA-XV-AAZW</th>\n",
       "      <td>0</td>\n",
       "    </tr>\n",
       "  </tbody>\n",
       "</table>\n",
       "</div>"
      ],
      "text/plain": [
       "              sample_type\n",
       "submitter_id             \n",
       "TCGA-D3-A8GS            1\n",
       "TCGA-EE-A2GS            1\n",
       "TCGA-D3-A2J7            1\n",
       "TCGA-GN-A4U3            1\n",
       "TCGA-XV-AAZW            0"
      ]
     },
     "execution_count": 7,
     "metadata": {},
     "output_type": "execute_result"
    }
   ],
   "source": [
    "test_target = test_df[['sample_type']]\n",
    "test_target.astype(float, 64)\n",
    "test_target.head()"
   ]
  },
  {
   "cell_type": "code",
   "execution_count": 8,
   "metadata": {},
   "outputs": [],
   "source": [
    "train_df = train_df.drop(['sample_type'], 1)\n",
    "test_df = test_df.drop(['sample_type'], 1)"
   ]
  },
  {
   "cell_type": "markdown",
   "metadata": {},
   "source": [
    "## Classification between Primary Tumor and Metastatic (without PCA)"
   ]
  },
  {
   "cell_type": "markdown",
   "metadata": {},
   "source": [
    "### Logistic Regression"
   ]
  },
  {
   "cell_type": "code",
   "execution_count": 9,
   "metadata": {},
   "outputs": [
    {
     "name": "stdout",
     "output_type": "stream",
     "text": [
      "Fitting 2 folds for each of 12 candidates, totalling 24 fits\n",
      "Best parameter (CV score=0.875):\n",
      "{'logistic__C': 0.1, 'logistic__penalty': 'l1'}\n"
     ]
    }
   ],
   "source": [
    "pipe = Pipeline([\n",
    "  ('scaler', StandardScaler()),\n",
    "  ('logistic', LogisticRegression(\n",
    "                  solver='liblinear', \n",
    "                  max_iter=10000, \n",
    "                  tol=0.001, \n",
    "                  fit_intercept=True))\n",
    "])\n",
    "\n",
    "parameters = {\n",
    "    'logistic__C': [1e-03, 1e-2, 1e-1, 1, 10, 100],\n",
    "    'logistic__penalty': ['l1', 'l2']\n",
    "}\n",
    "\n",
    "grid_search_feature_lr = GridSearchCV(pipe, parameters, n_jobs=4,cv=2, return_train_score=False, verbose=3, scoring='accuracy')\n",
    "grid_search_feature_lr.fit(train_df, train_target.sample_type.astype('int'))\n",
    "\n",
    "print(\"Best parameter (CV score=%0.3f):\" % grid_search_feature_lr.best_score_)\n",
    "print(grid_search_feature_lr.best_params_)"
   ]
  },
  {
   "cell_type": "code",
   "execution_count": 10,
   "metadata": {},
   "outputs": [
    {
     "name": "stdout",
     "output_type": "stream",
     "text": [
      "LogisticRegression accuracy: 0.858\n"
     ]
    },
    {
     "data": {
      "text/plain": [
       "[Text(0, 0.5, 'Primary Tumor'), Text(0, 1.5, 'Metastatic')]"
      ]
     },
     "execution_count": 10,
     "metadata": {},
     "output_type": "execute_result"
    },
    {
     "data": {
      "image/png": "[encoded data removed]",
      "text/plain": [
       "<Figure size 432x288 with 2 Axes>"
      ]
     },
     "metadata": {
      "needs_background": "light"
     },
     "output_type": "display_data"
    }
   ],
   "source": [
    "lr_model = grid_search_feature_lr.best_estimator_\n",
    "\n",
    "lr_pred = grid_search_feature_lr.predict(test_df)\n",
    "\n",
    "print('LogisticRegression accuracy:', round(accuracy_score(test_target.sample_type.astype('int'), lr_pred), 3))\n",
    "\n",
    "cm_rf = confusion_matrix(test_target.sample_type.astype('int'), lr_pred)\n",
    "\n",
    "ax = plt.subplot()\n",
    "sns.heatmap(cm_rf, annot=True, ax = ax, fmt='g', cmap='Greens') \n",
    "labels = ['Primary Tumor', 'Metastatic']\n",
    "ax.set_xlabel('Predicted labels')\n",
    "ax.set_ylabel('True labels') \n",
    "ax.set_title('LogisticRegression Confusion Matrix') \n",
    "ax.xaxis.set_ticklabels(labels) \n",
    "ax.yaxis.set_ticklabels(labels, rotation=360)"
   ]
  },
  {
   "cell_type": "code",
   "execution_count": 11,
   "metadata": {},
   "outputs": [
    {
     "data": {
      "image/png": "[encoded data removed]",
      "text/plain": [
       "<Figure size 432x288 with 1 Axes>"
      ]
     },
     "metadata": {
      "needs_background": "light"
     },
     "output_type": "display_data"
    }
   ],
   "source": [
    "lr_model = grid_search_feature_lr.best_estimator_\n",
    "lr_pred_proba = lr_model.predict_proba(test_df)[::,1]\n",
    "fpr, tpr, _ = roc_curve(test_target.sample_type.astype('int'),  lr_pred_proba)\n",
    "auc = roc_auc_score(test_target.sample_type.astype('int'), lr_pred_proba)\n",
    "plt.plot(fpr,tpr,label=\"Logistic Regression, auc=\"+str(auc))\n",
    "plt.ylabel(\"True Positive Rate\")\n",
    "plt.xlabel(\"False Positive Rate\")\n",
    "plt.legend(loc=4)\n",
    "plt.show()"
   ]
  },
  {
   "cell_type": "code",
   "execution_count": 12,
   "metadata": {},
   "outputs": [
    {
     "name": "stdout",
     "output_type": "stream",
     "text": [
      "0.3226582236638251\n"
     ]
    }
   ],
   "source": [
    "lr_model = grid_search_feature_lr.best_estimator_\n",
    "lr_pred_proba = lr_model.predict_proba(test_df)[::,1]\n",
    "log_loss_score = log_loss(test_target.sample_type.astype('int'),  lr_pred_proba)\n",
    "print(log_loss_score)"
   ]
  },
  {
   "cell_type": "markdown",
   "metadata": {},
   "source": [
    "### Support Vector Machines"
   ]
  },
  {
   "cell_type": "code",
   "execution_count": 13,
   "metadata": {},
   "outputs": [
    {
     "name": "stdout",
     "output_type": "stream",
     "text": [
      "Fitting 2 folds for each of 288 candidates, totalling 576 fits\n",
      "Best parameter (CV score=0.895):\n",
      "{'SVM__C': 1, 'SVM__decision_function_shape': 'ovo', 'SVM__gamma': 0.01, 'SVM__kernel': 'sigmoid'}\n"
     ]
    }
   ],
   "source": [
    "pipe = Pipeline([\n",
    "  ('scaler', StandardScaler()),\n",
    "  ('SVM', SVC(probability=True))\n",
    "])\n",
    "\n",
    "parameters = {\n",
    "    'SVM__C': [0.001, 0.01, 0.1, 1, 10, 100], \n",
    "    'SVM__gamma': [1, 0.1, 0.01, 0.001, 0.00001, 10], \n",
    "    \"SVM__kernel\": [\"linear\",\"poly\",\"sigmoid\",\"rbf\"], \n",
    "    \"SVM__decision_function_shape\" : [\"ovo\", \"ovr\"]\n",
    "}\n",
    "\n",
    "grid_search_feature_svm = GridSearchCV(pipe, parameters, n_jobs=4,cv=2, return_train_score=False, verbose=3, scoring='accuracy')\n",
    "grid_search_feature_svm.fit(train_df, train_target.sample_type.astype('int'))\n",
    "\n",
    "print(\"Best parameter (CV score=%0.3f):\" % grid_search_feature_svm.best_score_)\n",
    "print(grid_search_feature_svm.best_params_)"
   ]
  },
  {
   "cell_type": "code",
   "execution_count": 14,
   "metadata": {},
   "outputs": [
    {
     "name": "stdout",
     "output_type": "stream",
     "text": [
      "Support Vector Machines accuracy: 0.843\n"
     ]
    },
    {
     "data": {
      "text/plain": [
       "[Text(0, 0.5, 'Primary Tumor'), Text(0, 1.5, 'Metastatic')]"
      ]
     },
     "execution_count": 14,
     "metadata": {},
     "output_type": "execute_result"
    },
    {
     "data": {
      "image/png": "[encoded data removed]",
      "text/plain": [
       "<Figure size 432x288 with 2 Axes>"
      ]
     },
     "metadata": {
      "needs_background": "light"
     },
     "output_type": "display_data"
    }
   ],
   "source": [
    "svm_model = grid_search_feature_svm.best_estimator_\n",
    "\n",
    "svm_pred = grid_search_feature_svm.predict(test_df)\n",
    "\n",
    "print('Support Vector Machines accuracy:', round(accuracy_score(test_target.sample_type.astype('int'), svm_pred), 3))\n",
    "\n",
    "cm_rf = confusion_matrix(test_target.sample_type.astype('int'), svm_pred)\n",
    "\n",
    "ax = plt.subplot()\n",
    "sns.heatmap(cm_rf, annot=True, ax = ax, fmt='g', cmap='Greens') \n",
    "labels = ['Primary Tumor', 'Metastatic']\n",
    "ax.set_xlabel('Predicted labels')\n",
    "ax.set_ylabel('True labels') \n",
    "ax.set_title('Support Vector Machines Confusion Matrix') \n",
    "ax.xaxis.set_ticklabels(labels) \n",
    "ax.yaxis.set_ticklabels(labels, rotation=360)"
   ]
  },
  {
   "cell_type": "code",
   "execution_count": 15,
   "metadata": {},
   "outputs": [
    {
     "data": {
      "image/png": "[encoded data removed]",
      "text/plain": [
       "<Figure size 432x288 with 1 Axes>"
      ]
     },
     "metadata": {
      "needs_background": "light"
     },
     "output_type": "display_data"
    }
   ],
   "source": [
    "svm_model = grid_search_feature_svm.best_estimator_\n",
    "svm_pred_proba = svm_model.predict_proba(test_df)[::,1]\n",
    "fpr, tpr, _ = roc_curve(test_target.sample_type.astype('int'),  svm_pred_proba)\n",
    "auc = roc_auc_score(test_target.sample_type.astype('int'), svm_pred_proba)\n",
    "plt.plot(fpr,tpr,label=\"Support Vector Machines, auc=\"+str(auc))\n",
    "plt.ylabel(\"True Positive Rate\")\n",
    "plt.xlabel(\"False Positive Rate\")\n",
    "plt.legend(loc=4)\n",
    "plt.show()"
   ]
  },
  {
   "cell_type": "code",
   "execution_count": 16,
   "metadata": {},
   "outputs": [
    {
     "name": "stdout",
     "output_type": "stream",
     "text": [
      "0.28624466118012826\n"
     ]
    }
   ],
   "source": [
    "svm_model = grid_search_feature_svm.best_estimator_\n",
    "svm_pred_proba = svm_model.predict_proba(test_df)[::,1]\n",
    "log_loss_score = log_loss(test_target.sample_type.astype('int'),  svm_pred_proba)\n",
    "print(log_loss_score)"
   ]
  },
  {
   "cell_type": "markdown",
   "metadata": {},
   "source": [
    "### Random Forest "
   ]
  },
  {
   "cell_type": "code",
   "execution_count": 17,
   "metadata": {},
   "outputs": [
    {
     "name": "stdout",
     "output_type": "stream",
     "text": [
      "Fitting 2 folds for each of 500 candidates, totalling 1000 fits\n",
      "Best parameter (CV score=0.875):\n",
      "{'rf__bootstrap': True, 'rf__max_features': 0.6, 'rf__min_samples_leaf': 6, 'rf__min_samples_split': 2, 'rf__n_estimators': 30}\n"
     ]
    }
   ],
   "source": [
    "pipe = Pipeline([\n",
    "  ('scaler', StandardScaler()),\n",
    "  ('rf', RandomForestClassifier(random_state=1))\n",
    "])\n",
    "\n",
    "parameters = {\n",
    "    'rf__bootstrap': [True], \n",
    "    'rf__n_estimators': [30, 60, 70, 80, 90], \n",
    "    'rf__max_features': [0.6, 0.65, 0.7, 0.75, 0.8], \n",
    "    \"rf__min_samples_leaf\":  [6, 8, 10, 12, 14], \n",
    "    \"rf__min_samples_split\" : [2, 3, 5, 7]    \n",
    "}\n",
    "\n",
    "grid_search_feature_rf = GridSearchCV(pipe, parameters, n_jobs=4,cv=2, return_train_score=False, verbose=3, scoring='accuracy')\n",
    "grid_search_feature_rf.fit(train_df, train_target.sample_type.astype('int'))\n",
    "\n",
    "print(\"Best parameter (CV score=%0.3f):\" % grid_search_feature_rf.best_score_)\n",
    "print(grid_search_feature_rf.best_params_)"
   ]
  },
  {
   "cell_type": "code",
   "execution_count": 18,
   "metadata": {},
   "outputs": [
    {
     "name": "stdout",
     "output_type": "stream",
     "text": [
      "Random Forest accuracy: 0.843\n"
     ]
    },
    {
     "data": {
      "text/plain": [
       "[Text(0, 0.5, 'Primary Tumor'), Text(0, 1.5, 'Metastatic')]"
      ]
     },
     "execution_count": 18,
     "metadata": {},
     "output_type": "execute_result"
    },
    {
     "data": {
      "image/png": "[encoded data removed]",
      "text/plain": [
       "<Figure size 432x288 with 2 Axes>"
      ]
     },
     "metadata": {
      "needs_background": "light"
     },
     "output_type": "display_data"
    }
   ],
   "source": [
    "rf_model = grid_search_feature_rf.best_estimator_\n",
    "\n",
    "rf_pred = grid_search_feature_rf.predict(test_df)\n",
    "\n",
    "print('Random Forest accuracy:', round(accuracy_score(test_target.sample_type.astype('int'), rf_pred), 3))\n",
    "\n",
    "cm_rf = confusion_matrix(test_target.sample_type.astype('int'), rf_pred)\n",
    "\n",
    "ax = plt.subplot()\n",
    "sns.heatmap(cm_rf, annot=True, ax = ax, fmt='g', cmap='Greens') \n",
    "labels = ['Primary Tumor', 'Metastatic']\n",
    "ax.set_xlabel('Predicted labels')\n",
    "ax.set_ylabel('True labels') \n",
    "ax.set_title('Random Forest Confusion Matrix') \n",
    "ax.xaxis.set_ticklabels(labels) \n",
    "ax.yaxis.set_ticklabels(labels, rotation=360)"
   ]
  },
  {
   "cell_type": "code",
   "execution_count": 19,
   "metadata": {},
   "outputs": [
    {
     "data": {
      "image/png": "[encoded data removed]",
      "text/plain": [
       "<Figure size 432x288 with 1 Axes>"
      ]
     },
     "metadata": {
      "needs_background": "light"
     },
     "output_type": "display_data"
    }
   ],
   "source": [
    "rf_model = grid_search_feature_rf.best_estimator_\n",
    "rf_pred_proba = rf_model.predict_proba(test_df)[::,1]\n",
    "fpr, tpr, _ = roc_curve(test_target.sample_type.astype('int'),  rf_pred_proba)\n",
    "auc = roc_auc_score(test_target.sample_type.astype('int'), rf_pred_proba)\n",
    "plt.plot(fpr,tpr,label=\"Random Forest, auc=\"+str(auc))\n",
    "plt.ylabel(\"True Positive Rate\")\n",
    "plt.xlabel(\"False Positive Rate\")\n",
    "plt.legend(loc=4)\n",
    "plt.show()"
   ]
  },
  {
   "cell_type": "code",
   "execution_count": 20,
   "metadata": {},
   "outputs": [
    {
     "name": "stdout",
     "output_type": "stream",
     "text": [
      "0.36397676688301245\n"
     ]
    }
   ],
   "source": [
    "rf_model = grid_search_feature_rf.best_estimator_\n",
    "rf_pred_proba = rf_model.predict_proba(test_df)[::,1]\n",
    "log_loss_score = log_loss(test_target.sample_type.astype('int'),  rf_pred_proba)\n",
    "print(log_loss_score)"
   ]
  },
  {
   "cell_type": "markdown",
   "metadata": {},
   "source": [
    "## Classification between Primary Tumor and Metastatic (with PCA)"
   ]
  },
  {
   "cell_type": "markdown",
   "metadata": {},
   "source": [
    "### Using Logistic Regression"
   ]
  },
  {
   "cell_type": "code",
   "execution_count": 21,
   "metadata": {},
   "outputs": [
    {
     "name": "stdout",
     "output_type": "stream",
     "text": [
      "Fitting 2 folds for each of 60 candidates, totalling 120 fits\n",
      "Best parameter (CV score=0.895):\n",
      "{'logistic__C': 1, 'logistic__penalty': 'l1', 'pca__n_components': 0.6}\n"
     ]
    }
   ],
   "source": [
    "pipe = Pipeline([\n",
    "  ('scaler', StandardScaler()),\n",
    "  ('pca', PCA(svd_solver='full')),\n",
    "  ('logistic', LogisticRegression(\n",
    "                  solver='liblinear', \n",
    "                  max_iter=10000, \n",
    "                  tol=0.001, \n",
    "                  fit_intercept=True))\n",
    "])\n",
    "\n",
    "parameters = {\n",
    "    'pca__n_components': [0.6, 0.7, 0.75, 0.8, 0.9],    \n",
    "    'logistic__C': [1e-03, 1e-2, 1e-1, 1, 10, 100],\n",
    "    'logistic__penalty': ['l1', 'l2']\n",
    "}\n",
    "\n",
    "grid_search_lr_pca = GridSearchCV(pipe, parameters, n_jobs=4,cv=2, return_train_score=False, verbose=3, scoring='accuracy')\n",
    "grid_search_lr_pca.fit(train_df, train_target.sample_type.astype('int'))\n",
    "\n",
    "print(\"Best parameter (CV score=%0.3f):\" % grid_search_lr_pca.best_score_)\n",
    "print(grid_search_lr_pca.best_params_)"
   ]
  },
  {
   "cell_type": "code",
   "execution_count": 22,
   "metadata": {},
   "outputs": [
    {
     "data": {
      "text/plain": [
       "Pipeline(steps=[('scaler', StandardScaler()),\n",
       "                ('pca', PCA(n_components=0.6, svd_solver='full')),\n",
       "                ('logistic',\n",
       "                 LogisticRegression(C=1, max_iter=10000, penalty='l1',\n",
       "                                    solver='liblinear', tol=0.001))])"
      ]
     },
     "execution_count": 22,
     "metadata": {},
     "output_type": "execute_result"
    }
   ],
   "source": [
    "grid_search_lr_pca.best_estimator_"
   ]
  },
  {
   "cell_type": "code",
   "execution_count": 23,
   "metadata": {},
   "outputs": [
    {
     "name": "stdout",
     "output_type": "stream",
     "text": [
      "LogisticRegression accuracy: 0.858\n"
     ]
    },
    {
     "data": {
      "text/plain": [
       "[Text(0, 0.5, 'Primary Tumor'), Text(0, 1.5, 'Metastatic')]"
      ]
     },
     "execution_count": 23,
     "metadata": {},
     "output_type": "execute_result"
    },
    {
     "data": {
      "image/png": "[encoded data removed]",
      "text/plain": [
       "<Figure size 432x288 with 2 Axes>"
      ]
     },
     "metadata": {
      "needs_background": "light"
     },
     "output_type": "display_data"
    }
   ],
   "source": [
    "lr_model_pca = grid_search_lr_pca.best_estimator_\n",
    "\n",
    "lr_pred = grid_search_lr_pca.predict(test_df)\n",
    "\n",
    "print('LogisticRegression accuracy:', round(accuracy_score(test_target.sample_type.astype('int'), lr_pred), 3))\n",
    "\n",
    "cm_rf = confusion_matrix(test_target.sample_type.astype('int'), lr_pred)\n",
    "\n",
    "ax = plt.subplot()\n",
    "sns.heatmap(cm_rf, annot=True, ax = ax, fmt='g', cmap='Greens') \n",
    "labels = ['Primary Tumor', 'Metastatic']\n",
    "ax.set_xlabel('Predicted labels')\n",
    "ax.set_ylabel('True labels') \n",
    "ax.set_title('LogisticRegression Confusion Matrix') \n",
    "ax.xaxis.set_ticklabels(labels) \n",
    "ax.yaxis.set_ticklabels(labels, rotation=360)"
   ]
  },
  {
   "cell_type": "code",
   "execution_count": 24,
   "metadata": {},
   "outputs": [
    {
     "data": {
      "image/png": "[encoded data removed]",
      "text/plain": [
       "<Figure size 432x288 with 1 Axes>"
      ]
     },
     "metadata": {
      "needs_background": "light"
     },
     "output_type": "display_data"
    }
   ],
   "source": [
    "lr_model = grid_search_lr_pca.best_estimator_\n",
    "lr_pred_proba = lr_model.predict_proba(test_df)[::,1]\n",
    "fpr, tpr, _ = roc_curve(test_target.sample_type.astype('int'),  lr_pred_proba)\n",
    "auc = roc_auc_score(test_target.sample_type.astype('int'), lr_pred_proba)\n",
    "plt.plot(fpr,tpr,label=\"Logistic Regression, auc=\"+str(auc))\n",
    "plt.ylabel(\"True Positive Rate\")\n",
    "plt.xlabel(\"False Positive Rate\")\n",
    "plt.legend(loc=4)\n",
    "plt.show()"
   ]
  },
  {
   "cell_type": "code",
   "execution_count": 25,
   "metadata": {},
   "outputs": [
    {
     "name": "stdout",
     "output_type": "stream",
     "text": [
      "0.32232481136346236\n"
     ]
    }
   ],
   "source": [
    "lr_model = grid_search_lr_pca.best_estimator_\n",
    "lr_pred_proba = lr_model.predict_proba(test_df)[::,1]\n",
    "log_loss_score = log_loss(test_target.sample_type.astype('int'),  lr_pred_proba)\n",
    "print(log_loss_score)"
   ]
  },
  {
   "cell_type": "markdown",
   "metadata": {},
   "source": [
    "### Using Support Vector Machines"
   ]
  },
  {
   "cell_type": "code",
   "execution_count": 26,
   "metadata": {},
   "outputs": [
    {
     "name": "stdout",
     "output_type": "stream",
     "text": [
      "Fitting 2 folds for each of 1080 candidates, totalling 2160 fits\n",
      "Best parameter (CV score=0.909):\n",
      "{'SVM__C': 10, 'SVM__decision_function_shape': 'ovo', 'SVM__gamma': 0.001, 'SVM__kernel': 'rbf', 'pca__n_components': 0.7}\n"
     ]
    }
   ],
   "source": [
    "pipe = Pipeline([\n",
    "  ('scaler', StandardScaler()),\n",
    "  ('pca', PCA(svd_solver='full')),    \n",
    "  ('SVM', SVC(probability=True))\n",
    "])\n",
    "\n",
    "parameters = {\n",
    "    'pca__n_components': [0.6, 0.7, 0.75, 0.8, 0.9],    \n",
    "    'SVM__C': [0.001, 0.01, 0.1, 1, 10, 100], \n",
    "    'SVM__gamma': [1, 0.1, 0.01, 0.001, 0.0001, 10], \n",
    "    \"SVM__kernel\": [\"linear\",\"poly\",\"rbf\"], \n",
    "    \"SVM__decision_function_shape\" : [\"ovo\", \"ovr\"]\n",
    "}\n",
    "\n",
    "grid_search_svm_pca = GridSearchCV(pipe, parameters, n_jobs=4,cv=2, return_train_score=False, verbose=3, scoring='accuracy')\n",
    "grid_search_svm_pca.fit(train_df, train_target.sample_type.astype('int'))\n",
    "\n",
    "print(\"Best parameter (CV score=%0.3f):\" % grid_search_svm_pca.best_score_)\n",
    "print(grid_search_svm_pca.best_params_)"
   ]
  },
  {
   "cell_type": "code",
   "execution_count": 27,
   "metadata": {},
   "outputs": [
    {
     "data": {
      "text/plain": [
       "Pipeline(steps=[('scaler', StandardScaler()),\n",
       "                ('pca', PCA(n_components=0.7, svd_solver='full')),\n",
       "                ('SVM',\n",
       "                 SVC(C=10, decision_function_shape='ovo', gamma=0.001,\n",
       "                     probability=True))])"
      ]
     },
     "execution_count": 27,
     "metadata": {},
     "output_type": "execute_result"
    }
   ],
   "source": [
    "grid_search_svm_pca.best_estimator_"
   ]
  },
  {
   "cell_type": "code",
   "execution_count": 28,
   "metadata": {},
   "outputs": [
    {
     "name": "stdout",
     "output_type": "stream",
     "text": [
      "Support Vector Machines accuracy: 0.827\n"
     ]
    },
    {
     "data": {
      "text/plain": [
       "[Text(0, 0.5, 'Primary Tumor'), Text(0, 1.5, 'Metastatic')]"
      ]
     },
     "execution_count": 28,
     "metadata": {},
     "output_type": "execute_result"
    },
    {
     "data": {
      "image/png": "[encoded data removed]",
      "text/plain": [
       "<Figure size 432x288 with 2 Axes>"
      ]
     },
     "metadata": {
      "needs_background": "light"
     },
     "output_type": "display_data"
    }
   ],
   "source": [
    "svm_model = grid_search_svm_pca.best_estimator_\n",
    "\n",
    "svm_pred = grid_search_svm_pca.predict(test_df)\n",
    "\n",
    "print('Support Vector Machines accuracy:', round(accuracy_score(test_target.sample_type.astype('int'), svm_pred), 3))\n",
    "\n",
    "cm_rf = confusion_matrix(test_target.sample_type.astype('int'), svm_pred)\n",
    "\n",
    "ax = plt.subplot()\n",
    "sns.heatmap(cm_rf, annot=True, ax = ax, fmt='g', cmap='Greens') \n",
    "labels = ['Primary Tumor', 'Metastatic']\n",
    "ax.set_xlabel('Predicted labels')\n",
    "ax.set_ylabel('True labels') \n",
    "ax.set_title('Support Vector Machines Confusion Matrix') \n",
    "ax.xaxis.set_ticklabels(labels) \n",
    "ax.yaxis.set_ticklabels(labels, rotation=360)"
   ]
  },
  {
   "cell_type": "code",
   "execution_count": 29,
   "metadata": {},
   "outputs": [
    {
     "data": {
      "image/png": "[encoded data removed]",
      "text/plain": [
       "<Figure size 432x288 with 1 Axes>"
      ]
     },
     "metadata": {
      "needs_background": "light"
     },
     "output_type": "display_data"
    }
   ],
   "source": [
    "svm_model = grid_search_svm_pca.best_estimator_\n",
    "svm_pred_proba = svm_model.predict_proba(test_df)[::,1]\n",
    "fpr, tpr, _ = roc_curve(test_target.sample_type.astype('int'),  svm_pred_proba)\n",
    "auc = roc_auc_score(test_target.sample_type.astype('int'), svm_pred_proba)\n",
    "plt.plot(fpr,tpr,label=\"Support Vector Machines, auc=\"+str(auc))\n",
    "plt.ylabel(\"True Positive Rate\")\n",
    "plt.xlabel(\"False Positive Rate\")\n",
    "plt.legend(loc=4)\n",
    "plt.show()"
   ]
  },
  {
   "cell_type": "code",
   "execution_count": 32,
   "metadata": {},
   "outputs": [
    {
     "name": "stdout",
     "output_type": "stream",
     "text": [
      "0.3011186826723538\n"
     ]
    }
   ],
   "source": [
    "svm_model = grid_search_svm_pca.best_estimator_\n",
    "svm_pred_proba = svm_model.predict_proba(test_df)[::,1]\n",
    "log_loss_score = log_loss(test_target.sample_type.astype('int'),  svm_pred_proba)\n",
    "print(log_loss_score)"
   ]
  },
  {
   "cell_type": "markdown",
   "metadata": {},
   "source": [
    "### Using Random Forest"
   ]
  },
  {
   "cell_type": "code",
   "execution_count": 33,
   "metadata": {},
   "outputs": [
    {
     "name": "stdout",
     "output_type": "stream",
     "text": [
      "Fitting 2 folds for each of 2500 candidates, totalling 5000 fits\n",
      "Best parameter (CV score=0.889):\n",
      "{'pca__n_components': 0.6, 'rf__bootstrap': True, 'rf__max_features': 0.6, 'rf__min_samples_leaf': 6, 'rf__min_samples_split': 2, 'rf__n_estimators': 30}\n"
     ]
    }
   ],
   "source": [
    "pipe = Pipeline([\n",
    "  ('scaler', StandardScaler()),\n",
    "  ('pca', PCA(svd_solver='full')),    \n",
    "  ('rf', RandomForestClassifier(random_state=1))\n",
    "])\n",
    "\n",
    "parameters = {\n",
    "    'pca__n_components': [0.6, 0.7, 0.75, 0.8, 0.9],    \n",
    "    'rf__bootstrap': [True], \n",
    "    'rf__n_estimators': [30, 60, 70, 80, 90], \n",
    "    'rf__max_features': [0.6, 0.65, 0.7, 0.75, 0.8], \n",
    "    \"rf__min_samples_leaf\":  [6, 8, 10, 12, 14], \n",
    "    \"rf__min_samples_split\" : [2, 3, 5, 7]    \n",
    "}\n",
    "\n",
    "grid_search_rf_pca = GridSearchCV(pipe, parameters, n_jobs=4,cv=2, return_train_score=False, verbose=3, scoring='accuracy')\n",
    "grid_search_rf_pca.fit(train_df, train_target.sample_type.astype('int'))\n",
    "\n",
    "print(\"Best parameter (CV score=%0.3f):\" % grid_search_rf_pca.best_score_)\n",
    "print(grid_search_rf_pca.best_params_)"
   ]
  },
  {
   "cell_type": "code",
   "execution_count": 34,
   "metadata": {},
   "outputs": [
    {
     "data": {
      "text/plain": [
       "Pipeline(steps=[('scaler', StandardScaler()),\n",
       "                ('pca', PCA(n_components=0.6, svd_solver='full')),\n",
       "                ('rf',\n",
       "                 RandomForestClassifier(max_features=0.6, min_samples_leaf=6,\n",
       "                                        n_estimators=30, random_state=1))])"
      ]
     },
     "execution_count": 34,
     "metadata": {},
     "output_type": "execute_result"
    }
   ],
   "source": [
    "grid_search_rf_pca.best_estimator_"
   ]
  },
  {
   "cell_type": "code",
   "execution_count": 35,
   "metadata": {},
   "outputs": [
    {
     "name": "stdout",
     "output_type": "stream",
     "text": [
      "Random Forest accuracy: 0.827\n"
     ]
    },
    {
     "data": {
      "text/plain": [
       "[Text(0, 0.5, 'Primary Tumor'), Text(0, 1.5, 'Metastatic')]"
      ]
     },
     "execution_count": 35,
     "metadata": {},
     "output_type": "execute_result"
    },
    {
     "data": {
      "image/png": "[encoded data removed]",
      "text/plain": [
       "<Figure size 432x288 with 2 Axes>"
      ]
     },
     "metadata": {
      "needs_background": "light"
     },
     "output_type": "display_data"
    }
   ],
   "source": [
    "rf_model = grid_search_rf_pca.best_estimator_\n",
    "\n",
    "rf_pred = grid_search_rf_pca.predict(test_df)\n",
    "\n",
    "print('Random Forest accuracy:', round(accuracy_score(test_target.sample_type.astype('int'), rf_pred), 3))\n",
    "\n",
    "cm_rf = confusion_matrix(test_target.sample_type.astype('int'), rf_pred)\n",
    "\n",
    "ax = plt.subplot()\n",
    "sns.heatmap(cm_rf, annot=True, ax = ax, fmt='g', cmap='Greens') \n",
    "labels = ['Primary Tumor', 'Metastatic']\n",
    "ax.set_xlabel('Predicted labels')\n",
    "ax.set_ylabel('True labels') \n",
    "ax.set_title('Random Forest Confusion Matrix') \n",
    "ax.xaxis.set_ticklabels(labels) \n",
    "ax.yaxis.set_ticklabels(labels, rotation=360)"
   ]
  },
  {
   "cell_type": "code",
   "execution_count": 36,
   "metadata": {},
   "outputs": [
    {
     "data": {
      "image/png": "[encoded data removed]",
      "text/plain": [
       "<Figure size 432x288 with 1 Axes>"
      ]
     },
     "metadata": {
      "needs_background": "light"
     },
     "output_type": "display_data"
    }
   ],
   "source": [
    "rf_model = grid_search_rf_pca.best_estimator_\n",
    "rf_pred_proba = rf_model.predict_proba(test_df)[::,1]\n",
    "fpr, tpr, _ = roc_curve(test_target.sample_type.astype('int'),  rf_pred_proba)\n",
    "auc = roc_auc_score(test_target.sample_type.astype('int'), rf_pred_proba)\n",
    "plt.plot(fpr,tpr,label=\"Random Forest, auc=\"+str(auc))\n",
    "plt.ylabel(\"True Positive Rate\")\n",
    "plt.xlabel(\"False Positive Rate\")\n",
    "plt.legend(loc=4)\n",
    "plt.show()"
   ]
  },
  {
   "cell_type": "code",
   "execution_count": 37,
   "metadata": {},
   "outputs": [
    {
     "name": "stdout",
     "output_type": "stream",
     "text": [
      "0.3816690731635034\n"
     ]
    }
   ],
   "source": [
    "rf_model = grid_search_rf_pca.best_estimator_\n",
    "rf_pred_proba = rf_model.predict_proba(test_df)[::,1]\n",
    "log_loss_score = log_loss(test_target.sample_type.astype('int'),  rf_pred_proba)\n",
    "print(log_loss_score)"
   ]
  },
  {
   "cell_type": "markdown",
   "metadata": {},
   "source": [
    "### Weights"
   ]
  },
  {
   "cell_type": "code",
   "execution_count": 38,
   "metadata": {},
   "outputs": [
    {
     "data": {
      "text/html": [
       "<div>\n",
       "<style scoped>\n",
       "    .dataframe tbody tr th:only-of-type {\n",
       "        vertical-align: middle;\n",
       "    }\n",
       "\n",
       "    .dataframe tbody tr th {\n",
       "        vertical-align: top;\n",
       "    }\n",
       "\n",
       "    .dataframe thead th {\n",
       "        text-align: right;\n",
       "    }\n",
       "</style>\n",
       "<table border=\"1\" class=\"dataframe\">\n",
       "  <thead>\n",
       "    <tr style=\"text-align: right;\">\n",
       "      <th></th>\n",
       "      <th>weights</th>\n",
       "    </tr>\n",
       "  </thead>\n",
       "  <tbody>\n",
       "    <tr>\n",
       "      <th>vital_status_Dead</th>\n",
       "      <td>0.217438</td>\n",
       "    </tr>\n",
       "    <tr>\n",
       "      <th>icd_10_code_C77.3</th>\n",
       "      <td>0.167757</td>\n",
       "    </tr>\n",
       "    <tr>\n",
       "      <th>icd_10_code_C77.9</th>\n",
       "      <td>0.064797</td>\n",
       "    </tr>\n",
       "    <tr>\n",
       "      <th>height</th>\n",
       "      <td>0.050580</td>\n",
       "    </tr>\n",
       "    <tr>\n",
       "      <th>icd_10_code_C77.4</th>\n",
       "      <td>0.027945</td>\n",
       "    </tr>\n",
       "    <tr>\n",
       "      <th>ajcc_pathologic_n_N1b</th>\n",
       "      <td>0.002768</td>\n",
       "    </tr>\n",
       "    <tr>\n",
       "      <th>icd_10_code_C49.9</th>\n",
       "      <td>0.000000</td>\n",
       "    </tr>\n",
       "    <tr>\n",
       "      <th>icd_10_code_C49.6</th>\n",
       "      <td>0.000000</td>\n",
       "    </tr>\n",
       "    <tr>\n",
       "      <th>icd_10_code_C49.5</th>\n",
       "      <td>0.000000</td>\n",
       "    </tr>\n",
       "    <tr>\n",
       "      <th>icd_10_code_C49.4</th>\n",
       "      <td>0.000000</td>\n",
       "    </tr>\n",
       "    <tr>\n",
       "      <th>icd_10_code_C49.3</th>\n",
       "      <td>0.000000</td>\n",
       "    </tr>\n",
       "    <tr>\n",
       "      <th>icd_10_code_C49.20</th>\n",
       "      <td>0.000000</td>\n",
       "    </tr>\n",
       "    <tr>\n",
       "      <th>ajcc_pathologic_stage_Stage 0</th>\n",
       "      <td>0.000000</td>\n",
       "    </tr>\n",
       "    <tr>\n",
       "      <th>icd_10_code_C49.2</th>\n",
       "      <td>0.000000</td>\n",
       "    </tr>\n",
       "    <tr>\n",
       "      <th>icd_10_code_C71.1</th>\n",
       "      <td>0.000000</td>\n",
       "    </tr>\n",
       "    <tr>\n",
       "      <th>icd_10_code_C49.1</th>\n",
       "      <td>0.000000</td>\n",
       "    </tr>\n",
       "    <tr>\n",
       "      <th>icd_10_code_C49.0</th>\n",
       "      <td>0.000000</td>\n",
       "    </tr>\n",
       "    <tr>\n",
       "      <th>icd_10_code_C44.601</th>\n",
       "      <td>0.000000</td>\n",
       "    </tr>\n",
       "    <tr>\n",
       "      <th>icd_10_code_C44.50</th>\n",
       "      <td>0.000000</td>\n",
       "    </tr>\n",
       "    <tr>\n",
       "      <th>icd_10_code_C44.4</th>\n",
       "      <td>0.000000</td>\n",
       "    </tr>\n",
       "  </tbody>\n",
       "</table>\n",
       "</div>"
      ],
      "text/plain": [
       "                                weights\n",
       "vital_status_Dead              0.217438\n",
       "icd_10_code_C77.3              0.167757\n",
       "icd_10_code_C77.9              0.064797\n",
       "height                         0.050580\n",
       "icd_10_code_C77.4              0.027945\n",
       "ajcc_pathologic_n_N1b          0.002768\n",
       "icd_10_code_C49.9              0.000000\n",
       "icd_10_code_C49.6              0.000000\n",
       "icd_10_code_C49.5              0.000000\n",
       "icd_10_code_C49.4              0.000000\n",
       "icd_10_code_C49.3              0.000000\n",
       "icd_10_code_C49.20             0.000000\n",
       "ajcc_pathologic_stage_Stage 0  0.000000\n",
       "icd_10_code_C49.2              0.000000\n",
       "icd_10_code_C71.1              0.000000\n",
       "icd_10_code_C49.1              0.000000\n",
       "icd_10_code_C49.0              0.000000\n",
       "icd_10_code_C44.601            0.000000\n",
       "icd_10_code_C44.50             0.000000\n",
       "icd_10_code_C44.4              0.000000"
      ]
     },
     "execution_count": 38,
     "metadata": {},
     "output_type": "execute_result"
    }
   ],
   "source": [
    "lr_model = grid_search_feature_lr.best_estimator_\n",
    "lr_weights_df = pd.DataFrame(lr_model[1].coef_[0])\n",
    "lr_weights_df.index = train_df.columns\n",
    "lr_weights_df.columns = [\"weights\"]\n",
    "lr_weights_df.sort_values(by=['weights'], inplace=True, ascending=False)\n",
    "lr_weights_df.head(20)"
   ]
  },
  {
   "cell_type": "code",
   "execution_count": 39,
   "metadata": {},
   "outputs": [
    {
     "data": {
      "text/html": [
       "<div>\n",
       "<style scoped>\n",
       "    .dataframe tbody tr th:only-of-type {\n",
       "        vertical-align: middle;\n",
       "    }\n",
       "\n",
       "    .dataframe tbody tr th {\n",
       "        vertical-align: top;\n",
       "    }\n",
       "\n",
       "    .dataframe thead th {\n",
       "        text-align: right;\n",
       "    }\n",
       "</style>\n",
       "<table border=\"1\" class=\"dataframe\">\n",
       "  <thead>\n",
       "    <tr style=\"text-align: right;\">\n",
       "      <th></th>\n",
       "      <th>weights</th>\n",
       "    </tr>\n",
       "  </thead>\n",
       "  <tbody>\n",
       "    <tr>\n",
       "      <th>ajcc_pathologic_t_T4b</th>\n",
       "      <td>7140.515180</td>\n",
       "    </tr>\n",
       "    <tr>\n",
       "      <th>icd_10_code_C44.6</th>\n",
       "      <td>6008.708097</td>\n",
       "    </tr>\n",
       "    <tr>\n",
       "      <th>icd_10_code_C44.9</th>\n",
       "      <td>5131.300091</td>\n",
       "    </tr>\n",
       "    <tr>\n",
       "      <th>icd_10_code_C44.5</th>\n",
       "      <td>4698.589452</td>\n",
       "    </tr>\n",
       "    <tr>\n",
       "      <th>age_at_index</th>\n",
       "      <td>3996.810950</td>\n",
       "    </tr>\n",
       "    <tr>\n",
       "      <th>icd_10_code_C49.5</th>\n",
       "      <td>3761.040968</td>\n",
       "    </tr>\n",
       "    <tr>\n",
       "      <th>ajcc_pathologic_stage_Stage IIC</th>\n",
       "      <td>3757.075974</td>\n",
       "    </tr>\n",
       "    <tr>\n",
       "      <th>icd_10_code_C44.7</th>\n",
       "      <td>2879.609084</td>\n",
       "    </tr>\n",
       "    <tr>\n",
       "      <th>ajcc_pathologic_stage_Stage IIA</th>\n",
       "      <td>2694.166097</td>\n",
       "    </tr>\n",
       "    <tr>\n",
       "      <th>ajcc_pathologic_m_M1b</th>\n",
       "      <td>2592.895666</td>\n",
       "    </tr>\n",
       "  </tbody>\n",
       "</table>\n",
       "</div>"
      ],
      "text/plain": [
       "                                     weights\n",
       "ajcc_pathologic_t_T4b            7140.515180\n",
       "icd_10_code_C44.6                6008.708097\n",
       "icd_10_code_C44.9                5131.300091\n",
       "icd_10_code_C44.5                4698.589452\n",
       "age_at_index                     3996.810950\n",
       "icd_10_code_C49.5                3761.040968\n",
       "ajcc_pathologic_stage_Stage IIC  3757.075974\n",
       "icd_10_code_C44.7                2879.609084\n",
       "ajcc_pathologic_stage_Stage IIA  2694.166097\n",
       "ajcc_pathologic_m_M1b            2592.895666"
      ]
     },
     "execution_count": 39,
     "metadata": {},
     "output_type": "execute_result"
    }
   ],
   "source": [
    "svm_model = grid_search_feature_svm.best_estimator_\n",
    "importances = np.dot(svm_model[1].support_,svm_model[1].support_vectors_)\n",
    "svm_weights_df = pd.DataFrame(importances)\n",
    "svm_weights_df.index = train_df.columns\n",
    "svm_weights_df.columns = [\"weights\"]\n",
    "svm_weights_df.sort_values(by=['weights'], inplace=True, ascending=False)\n",
    "svm_weights_df.head(10)"
   ]
  },
  {
   "cell_type": "code",
   "execution_count": 40,
   "metadata": {},
   "outputs": [
    {
     "data": {
      "text/html": [
       "<div>\n",
       "<style scoped>\n",
       "    .dataframe tbody tr th:only-of-type {\n",
       "        vertical-align: middle;\n",
       "    }\n",
       "\n",
       "    .dataframe tbody tr th {\n",
       "        vertical-align: top;\n",
       "    }\n",
       "\n",
       "    .dataframe thead th {\n",
       "        text-align: right;\n",
       "    }\n",
       "</style>\n",
       "<table border=\"1\" class=\"dataframe\">\n",
       "  <thead>\n",
       "    <tr style=\"text-align: right;\">\n",
       "      <th></th>\n",
       "      <th>weights</th>\n",
       "    </tr>\n",
       "  </thead>\n",
       "  <tbody>\n",
       "    <tr>\n",
       "      <th>ajcc_pathologic_t_T4b</th>\n",
       "      <td>0.339559</td>\n",
       "    </tr>\n",
       "    <tr>\n",
       "      <th>ajcc_pathologic_stage_Stage IIC</th>\n",
       "      <td>0.251167</td>\n",
       "    </tr>\n",
       "    <tr>\n",
       "      <th>icd_10_code_C44.9</th>\n",
       "      <td>0.073707</td>\n",
       "    </tr>\n",
       "    <tr>\n",
       "      <th>ajcc_pathologic_stage_Stage IIIC</th>\n",
       "      <td>0.061273</td>\n",
       "    </tr>\n",
       "    <tr>\n",
       "      <th>icd_10_code_C44.5</th>\n",
       "      <td>0.054156</td>\n",
       "    </tr>\n",
       "    <tr>\n",
       "      <th>bmi</th>\n",
       "      <td>0.037223</td>\n",
       "    </tr>\n",
       "    <tr>\n",
       "      <th>height</th>\n",
       "      <td>0.037081</td>\n",
       "    </tr>\n",
       "    <tr>\n",
       "      <th>age_at_index</th>\n",
       "      <td>0.030025</td>\n",
       "    </tr>\n",
       "    <tr>\n",
       "      <th>icd_10_code_C44.7</th>\n",
       "      <td>0.022353</td>\n",
       "    </tr>\n",
       "    <tr>\n",
       "      <th>vital_status_Dead</th>\n",
       "      <td>0.020804</td>\n",
       "    </tr>\n",
       "  </tbody>\n",
       "</table>\n",
       "</div>"
      ],
      "text/plain": [
       "                                   weights\n",
       "ajcc_pathologic_t_T4b             0.339559\n",
       "ajcc_pathologic_stage_Stage IIC   0.251167\n",
       "icd_10_code_C44.9                 0.073707\n",
       "ajcc_pathologic_stage_Stage IIIC  0.061273\n",
       "icd_10_code_C44.5                 0.054156\n",
       "bmi                               0.037223\n",
       "height                            0.037081\n",
       "age_at_index                      0.030025\n",
       "icd_10_code_C44.7                 0.022353\n",
       "vital_status_Dead                 0.020804"
      ]
     },
     "execution_count": 40,
     "metadata": {},
     "output_type": "execute_result"
    }
   ],
   "source": [
    "rf_model = grid_search_feature_rf.best_estimator_\n",
    "rf_weights_df = pd.DataFrame(rf_model[1].feature_importances_)\n",
    "rf_weights_df.index = train_df.columns\n",
    "rf_weights_df.columns = [\"weights\"]\n",
    "rf_weights_df.sort_values(by=['weights'], inplace=True, ascending=False)\n",
    "rf_weights_df.head(10)"
   ]
  },
  {
   "cell_type": "code",
   "execution_count": null,
   "metadata": {},
   "outputs": [],
   "source": [
    "weights = lr_weights_df.merge(svm_weights_df,left_index=True, right_index=True)\n",
    "weights = weights.merge(rf_weights_df,left_index=True, right_index=True)\n",
    "weights.columns = [\"Logistic Regression\", \"Support Vector Machines\",\"Random Forest\"]\n",
    "weights.head(20)"
   ]
  },
  {
   "cell_type": "code",
   "execution_count": null,
   "metadata": {},
   "outputs": [],
   "source": [
    "weights.to_csv('../data/Melanoma_Clinical_classifier_[WITHOUT PCA]_weights_all_data.csv')"
   ]
  },
  {
   "cell_type": "code",
   "execution_count": null,
   "metadata": {},
   "outputs": [],
   "source": [
    "test_df.shape"
   ]
  },
  {
   "cell_type": "code",
   "execution_count": null,
   "metadata": {},
   "outputs": [],
   "source": []
  }
 ],
 "metadata": {
  "kernelspec": {
   "display_name": "Python 3",
   "language": "python",
   "name": "python3"
  },
  "language_info": {
   "codemirror_mode": {
    "name": "ipython",
    "version": 3
   },
   "file_extension": ".py",
   "mimetype": "text/x-python",
   "name": "python",
   "nbconvert_exporter": "python",
   "pygments_lexer": "ipython3",
   "version": "3.7.9"
  }
 },
 "nbformat": 4,
 "nbformat_minor": 4
}
