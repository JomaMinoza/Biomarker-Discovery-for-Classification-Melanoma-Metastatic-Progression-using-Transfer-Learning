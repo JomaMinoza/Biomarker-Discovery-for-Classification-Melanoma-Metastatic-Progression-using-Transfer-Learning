{
 "cells": [
  {
   "cell_type": "code",
   "execution_count": 1,
   "metadata": {},
   "outputs": [],
   "source": [
    "import os\n",
    "import warnings\n",
    "warnings.filterwarnings(\"ignore\")\n",
    "\n",
    "import numpy as np\n",
    "import pandas as pd\n",
    "\n",
    "#Visualization Tools\n",
    "\n",
    "import matplotlib.pyplot as plt\n",
    "import seaborn as sns\n",
    "%matplotlib inline\n",
    "\n",
    "# AI Workflow Module\n",
    "from model_classifier import ModelClassifier, CustomClassifier\n",
    "\n",
    "# Models\n",
    "from sklearn.svm import SVC\n",
    "from sklearn.linear_model import LogisticRegression\n",
    "from sklearn.tree import DecisionTreeClassifier\n",
    "from sklearn.ensemble import RandomForestClassifier\n",
    "from sklearn.naive_bayes import GaussianNB\n",
    "\n",
    "# Use for saving model \n",
    "import joblib\n",
    "\n",
    "# Environment Parameters\n",
    "\n",
    "plt.rcParams['figure.figsize'] = [15, 8]\n",
    "plt.rcParams['figure.dpi'] = 100 \n",
    "plt.style.use('ggplot')\n",
    "\n",
    "pd.set_option('display.max_rows', 500)\n",
    "pd.set_option('display.max_columns', 500)\n",
    "pd.set_option('display.width', 1000)"
   ]
  },
  {
   "cell_type": "code",
   "execution_count": 2,
   "metadata": {},
   "outputs": [],
   "source": [
    "# Get PPI genes\n",
    "ppi_features_df = pd.read_csv('../data/skcm_ppi_betweenness_centrality.csv', index_col=0)\n",
    "\n",
    "top10_ppi_features = ppi_features_df.betweenness_centrality.head(10).index.values\n",
    "top20_ppi_features = ppi_features_df.betweenness_centrality.head(20).index.values\n"
   ]
  },
  {
   "cell_type": "code",
   "execution_count": 3,
   "metadata": {},
   "outputs": [],
   "source": [
    "# Get RF genes\n",
    "rf_features_df = pd.read_csv('../data/Melanoma_RF_weights_all_genomic_data.csv',index_col=0)\n",
    "\n",
    "top10_rf_features = rf_features_df.weights.head(10).index.values\n",
    "top20_rf_features = rf_features_df.weights.head(20).index.values\n",
    "top30_rf_features = rf_features_df.weights.head(30).index.values"
   ]
  },
  {
   "cell_type": "code",
   "execution_count": 4,
   "metadata": {},
   "outputs": [],
   "source": [
    "genes = set(top10_ppi_features) | set(top20_ppi_features) | set(top10_rf_features) | set(top20_rf_features) | set(top30_rf_features)"
   ]
  },
  {
   "cell_type": "code",
   "execution_count": 5,
   "metadata": {},
   "outputs": [],
   "source": [
    "genes = list(genes)"
   ]
  },
  {
   "cell_type": "code",
   "execution_count": 7,
   "metadata": {},
   "outputs": [
    {
     "data": {
      "text/plain": [
       "43"
      ]
     },
     "execution_count": 7,
     "metadata": {},
     "output_type": "execute_result"
    }
   ],
   "source": [
    "len(genes)"
   ]
  },
  {
   "cell_type": "code",
   "execution_count": 8,
   "metadata": {},
   "outputs": [
    {
     "data": {
      "text/plain": [
       "['TSHR',\n",
       " 'ZSWIM7',\n",
       " 'ADAMTSL3',\n",
       " 'AFAP1-AS1',\n",
       " 'GRIK5',\n",
       " 'KRT17',\n",
       " 'PLA2G2F',\n",
       " 'C7',\n",
       " 'SERPINB4',\n",
       " 'RPN2',\n",
       " 'PRG2',\n",
       " 'TDRKH',\n",
       " 'FKBP1B',\n",
       " 'VDAC1',\n",
       " 'KRT14',\n",
       " 'GSR',\n",
       " 'S100A7A',\n",
       " 'MMP3',\n",
       " 'CLEC2A',\n",
       " 'NKX6-1',\n",
       " 'LYSMD2',\n",
       " 'PTF1A',\n",
       " 'MRRF',\n",
       " 'IGF1R',\n",
       " 'MRPL44',\n",
       " 'KRT6B',\n",
       " 'KRTDAP',\n",
       " 'PC',\n",
       " 'IL20RB',\n",
       " 'LMX1B',\n",
       " 'RGS4',\n",
       " 'PVRL4',\n",
       " 'DMBT1',\n",
       " 'PAX1',\n",
       " 'S100A7',\n",
       " 'PTS',\n",
       " 'WFDC5',\n",
       " 'CSPG4',\n",
       " 'GNG2',\n",
       " 'ZNF593',\n",
       " 'RPS28',\n",
       " 'RPE65',\n",
       " 'ZNF653']"
      ]
     },
     "execution_count": 8,
     "metadata": {},
     "output_type": "execute_result"
    }
   ],
   "source": [
    "genes"
   ]
  },
  {
   "cell_type": "code",
   "execution_count": null,
   "metadata": {},
   "outputs": [],
   "source": []
  }
 ],
 "metadata": {
  "kernelspec": {
   "display_name": "Python 3",
   "language": "python",
   "name": "python3"
  },
  "language_info": {
   "codemirror_mode": {
    "name": "ipython",
    "version": 3
   },
   "file_extension": ".py",
   "mimetype": "text/x-python",
   "name": "python",
   "nbconvert_exporter": "python",
   "pygments_lexer": "ipython3",
   "version": "3.7.9"
  }
 },
 "nbformat": 4,
 "nbformat_minor": 4
}
