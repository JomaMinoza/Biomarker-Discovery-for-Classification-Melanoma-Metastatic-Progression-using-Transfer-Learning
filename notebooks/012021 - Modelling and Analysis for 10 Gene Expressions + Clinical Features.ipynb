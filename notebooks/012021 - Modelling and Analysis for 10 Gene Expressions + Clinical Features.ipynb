{
 "cells": [
  {
   "cell_type": "code",
   "execution_count": 1,
   "metadata": {},
   "outputs": [],
   "source": [
    "import os\n",
    "import numpy as np\n",
    "import pandas as pd\n",
    "\n",
    "import matplotlib.pyplot as plt\n",
    "import seaborn as sns\n",
    "from mpl_toolkits.mplot3d import Axes3D\n",
    "%matplotlib inline\n",
    "\n",
    "from sklearn.pipeline import Pipeline\n",
    "from sklearn.decomposition import PCA\n",
    "from sklearn.preprocessing import StandardScaler\n",
    "from sklearn.model_selection import GridSearchCV\n",
    "from sklearn.feature_selection import SelectFromModel\n",
    "from sklearn.svm import LinearSVC, SVC\n",
    "from sklearn.linear_model import LogisticRegression\n",
    "from sklearn.tree import DecisionTreeClassifier, plot_tree, export_graphviz\n",
    "from sklearn.ensemble import RandomForestClassifier\n",
    "from sklearn.metrics import accuracy_score, confusion_matrix, roc_curve, auc, roc_auc_score\n",
    "from sklearn.metrics import log_loss"
   ]
  },
  {
   "cell_type": "code",
   "execution_count": 2,
   "metadata": {},
   "outputs": [
    {
     "data": {
      "text/html": [
       "<div>\n",
       "<style scoped>\n",
       "    .dataframe tbody tr th:only-of-type {\n",
       "        vertical-align: middle;\n",
       "    }\n",
       "\n",
       "    .dataframe tbody tr th {\n",
       "        vertical-align: top;\n",
       "    }\n",
       "\n",
       "    .dataframe thead th {\n",
       "        text-align: right;\n",
       "    }\n",
       "</style>\n",
       "<table border=\"1\" class=\"dataframe\">\n",
       "  <thead>\n",
       "    <tr style=\"text-align: right;\">\n",
       "      <th></th>\n",
       "      <th>sample_type</th>\n",
       "      <th>age_at_initial_pathologic_diagnosis</th>\n",
       "      <th>percent_lymphocyte_infiltration_TOP</th>\n",
       "      <th>percent_monocyte_infiltration_TOP</th>\n",
       "      <th>percent_neutrophil_infiltration_TOP</th>\n",
       "      <th>ARHGEF10L</th>\n",
       "      <th>HIF3A</th>\n",
       "      <th>RNF17</th>\n",
       "      <th>RNF10</th>\n",
       "      <th>RNF11</th>\n",
       "      <th>...</th>\n",
       "      <th>pathologic_stage_Stage IIB</th>\n",
       "      <th>pathologic_stage_Stage IIC</th>\n",
       "      <th>pathologic_stage_Stage III</th>\n",
       "      <th>pathologic_stage_Stage IIIA</th>\n",
       "      <th>pathologic_stage_Stage IIIB</th>\n",
       "      <th>pathologic_stage_Stage IIIC</th>\n",
       "      <th>pathologic_stage_Stage IV</th>\n",
       "      <th>person_neoplasm_cancer_status_WITH TUMOR</th>\n",
       "      <th>radiation_therapy_YES</th>\n",
       "      <th>vital_status_LIVING</th>\n",
       "    </tr>\n",
       "  </thead>\n",
       "  <tbody>\n",
       "    <tr>\n",
       "      <th>MDB-ER-A19T-01</th>\n",
       "      <td>0</td>\n",
       "      <td>51.0</td>\n",
       "      <td>0</td>\n",
       "      <td>0</td>\n",
       "      <td>0</td>\n",
       "      <td>11.22</td>\n",
       "      <td>7.11</td>\n",
       "      <td>0.0</td>\n",
       "      <td>11.28</td>\n",
       "      <td>11.26</td>\n",
       "      <td>...</td>\n",
       "      <td>0</td>\n",
       "      <td>0</td>\n",
       "      <td>0</td>\n",
       "      <td>0</td>\n",
       "      <td>0</td>\n",
       "      <td>0</td>\n",
       "      <td>1</td>\n",
       "      <td>1</td>\n",
       "      <td>1</td>\n",
       "      <td>0</td>\n",
       "    </tr>\n",
       "    <tr>\n",
       "      <th>MDB-ER-A196-01</th>\n",
       "      <td>0</td>\n",
       "      <td>64.0</td>\n",
       "      <td>0</td>\n",
       "      <td>0</td>\n",
       "      <td>0</td>\n",
       "      <td>9.17</td>\n",
       "      <td>2.87</td>\n",
       "      <td>0.0</td>\n",
       "      <td>11.76</td>\n",
       "      <td>10.81</td>\n",
       "      <td>...</td>\n",
       "      <td>0</td>\n",
       "      <td>1</td>\n",
       "      <td>0</td>\n",
       "      <td>0</td>\n",
       "      <td>0</td>\n",
       "      <td>0</td>\n",
       "      <td>0</td>\n",
       "      <td>0</td>\n",
       "      <td>0</td>\n",
       "      <td>1</td>\n",
       "    </tr>\n",
       "    <tr>\n",
       "      <th>MDB-GN-A26A-06</th>\n",
       "      <td>1</td>\n",
       "      <td>63.0</td>\n",
       "      <td>2</td>\n",
       "      <td>1</td>\n",
       "      <td>0</td>\n",
       "      <td>8.86</td>\n",
       "      <td>4.64</td>\n",
       "      <td>0.0</td>\n",
       "      <td>11.50</td>\n",
       "      <td>10.57</td>\n",
       "      <td>...</td>\n",
       "      <td>0</td>\n",
       "      <td>0</td>\n",
       "      <td>0</td>\n",
       "      <td>1</td>\n",
       "      <td>0</td>\n",
       "      <td>0</td>\n",
       "      <td>0</td>\n",
       "      <td>1</td>\n",
       "      <td>0</td>\n",
       "      <td>0</td>\n",
       "    </tr>\n",
       "    <tr>\n",
       "      <th>MDB-D3-A8GI-06</th>\n",
       "      <td>1</td>\n",
       "      <td>68.0</td>\n",
       "      <td>0</td>\n",
       "      <td>0</td>\n",
       "      <td>0</td>\n",
       "      <td>8.35</td>\n",
       "      <td>1.87</td>\n",
       "      <td>0.0</td>\n",
       "      <td>11.38</td>\n",
       "      <td>9.42</td>\n",
       "      <td>...</td>\n",
       "      <td>0</td>\n",
       "      <td>0</td>\n",
       "      <td>0</td>\n",
       "      <td>0</td>\n",
       "      <td>0</td>\n",
       "      <td>0</td>\n",
       "      <td>0</td>\n",
       "      <td>1</td>\n",
       "      <td>0</td>\n",
       "      <td>0</td>\n",
       "    </tr>\n",
       "    <tr>\n",
       "      <th>MDB-EE-A2A6-06</th>\n",
       "      <td>1</td>\n",
       "      <td>43.0</td>\n",
       "      <td>35</td>\n",
       "      <td>1</td>\n",
       "      <td>0</td>\n",
       "      <td>9.44</td>\n",
       "      <td>3.19</td>\n",
       "      <td>0.0</td>\n",
       "      <td>11.81</td>\n",
       "      <td>10.50</td>\n",
       "      <td>...</td>\n",
       "      <td>0</td>\n",
       "      <td>0</td>\n",
       "      <td>0</td>\n",
       "      <td>0</td>\n",
       "      <td>0</td>\n",
       "      <td>0</td>\n",
       "      <td>0</td>\n",
       "      <td>0</td>\n",
       "      <td>0</td>\n",
       "      <td>1</td>\n",
       "    </tr>\n",
       "  </tbody>\n",
       "</table>\n",
       "<p>5 rows × 19239 columns</p>\n",
       "</div>"
      ],
      "text/plain": [
       "                sample_type  age_at_initial_pathologic_diagnosis  \\\n",
       "MDB-ER-A19T-01            0                                 51.0   \n",
       "MDB-ER-A196-01            0                                 64.0   \n",
       "MDB-GN-A26A-06            1                                 63.0   \n",
       "MDB-D3-A8GI-06            1                                 68.0   \n",
       "MDB-EE-A2A6-06            1                                 43.0   \n",
       "\n",
       "                percent_lymphocyte_infiltration_TOP  \\\n",
       "MDB-ER-A19T-01                                    0   \n",
       "MDB-ER-A196-01                                    0   \n",
       "MDB-GN-A26A-06                                    2   \n",
       "MDB-D3-A8GI-06                                    0   \n",
       "MDB-EE-A2A6-06                                   35   \n",
       "\n",
       "                percent_monocyte_infiltration_TOP  \\\n",
       "MDB-ER-A19T-01                                  0   \n",
       "MDB-ER-A196-01                                  0   \n",
       "MDB-GN-A26A-06                                  1   \n",
       "MDB-D3-A8GI-06                                  0   \n",
       "MDB-EE-A2A6-06                                  1   \n",
       "\n",
       "                percent_neutrophil_infiltration_TOP  ARHGEF10L  HIF3A  RNF17  \\\n",
       "MDB-ER-A19T-01                                    0      11.22   7.11    0.0   \n",
       "MDB-ER-A196-01                                    0       9.17   2.87    0.0   \n",
       "MDB-GN-A26A-06                                    0       8.86   4.64    0.0   \n",
       "MDB-D3-A8GI-06                                    0       8.35   1.87    0.0   \n",
       "MDB-EE-A2A6-06                                    0       9.44   3.19    0.0   \n",
       "\n",
       "                RNF10  RNF11  ...  pathologic_stage_Stage IIB  \\\n",
       "MDB-ER-A19T-01  11.28  11.26  ...                           0   \n",
       "MDB-ER-A196-01  11.76  10.81  ...                           0   \n",
       "MDB-GN-A26A-06  11.50  10.57  ...                           0   \n",
       "MDB-D3-A8GI-06  11.38   9.42  ...                           0   \n",
       "MDB-EE-A2A6-06  11.81  10.50  ...                           0   \n",
       "\n",
       "                pathologic_stage_Stage IIC  pathologic_stage_Stage III  \\\n",
       "MDB-ER-A19T-01                           0                           0   \n",
       "MDB-ER-A196-01                           1                           0   \n",
       "MDB-GN-A26A-06                           0                           0   \n",
       "MDB-D3-A8GI-06                           0                           0   \n",
       "MDB-EE-A2A6-06                           0                           0   \n",
       "\n",
       "                pathologic_stage_Stage IIIA  pathologic_stage_Stage IIIB  \\\n",
       "MDB-ER-A19T-01                            0                            0   \n",
       "MDB-ER-A196-01                            0                            0   \n",
       "MDB-GN-A26A-06                            1                            0   \n",
       "MDB-D3-A8GI-06                            0                            0   \n",
       "MDB-EE-A2A6-06                            0                            0   \n",
       "\n",
       "                pathologic_stage_Stage IIIC  pathologic_stage_Stage IV  \\\n",
       "MDB-ER-A19T-01                            0                          1   \n",
       "MDB-ER-A196-01                            0                          0   \n",
       "MDB-GN-A26A-06                            0                          0   \n",
       "MDB-D3-A8GI-06                            0                          0   \n",
       "MDB-EE-A2A6-06                            0                          0   \n",
       "\n",
       "                person_neoplasm_cancer_status_WITH TUMOR  \\\n",
       "MDB-ER-A19T-01                                         1   \n",
       "MDB-ER-A196-01                                         0   \n",
       "MDB-GN-A26A-06                                         1   \n",
       "MDB-D3-A8GI-06                                         1   \n",
       "MDB-EE-A2A6-06                                         0   \n",
       "\n",
       "                radiation_therapy_YES  vital_status_LIVING  \n",
       "MDB-ER-A19T-01                      1                    0  \n",
       "MDB-ER-A196-01                      0                    1  \n",
       "MDB-GN-A26A-06                      0                    0  \n",
       "MDB-D3-A8GI-06                      0                    0  \n",
       "MDB-EE-A2A6-06                      0                    1  \n",
       "\n",
       "[5 rows x 19239 columns]"
      ]
     },
     "execution_count": 2,
     "metadata": {},
     "output_type": "execute_result"
    }
   ],
   "source": [
    "train_df = pd.read_csv('../data/TCGA-SKCM_train_unresampled.csv',index_col=0)\n",
    "train_df.head()"
   ]
  },
  {
   "cell_type": "code",
   "execution_count": 3,
   "metadata": {},
   "outputs": [
    {
     "data": {
      "text/html": [
       "<div>\n",
       "<style scoped>\n",
       "    .dataframe tbody tr th:only-of-type {\n",
       "        vertical-align: middle;\n",
       "    }\n",
       "\n",
       "    .dataframe tbody tr th {\n",
       "        vertical-align: top;\n",
       "    }\n",
       "\n",
       "    .dataframe thead th {\n",
       "        text-align: right;\n",
       "    }\n",
       "</style>\n",
       "<table border=\"1\" class=\"dataframe\">\n",
       "  <thead>\n",
       "    <tr style=\"text-align: right;\">\n",
       "      <th></th>\n",
       "      <th>sample_type</th>\n",
       "      <th>age_at_initial_pathologic_diagnosis</th>\n",
       "      <th>percent_lymphocyte_infiltration_TOP</th>\n",
       "      <th>percent_monocyte_infiltration_TOP</th>\n",
       "      <th>percent_neutrophil_infiltration_TOP</th>\n",
       "      <th>ARHGEF10L</th>\n",
       "      <th>HIF3A</th>\n",
       "      <th>RNF17</th>\n",
       "      <th>RNF10</th>\n",
       "      <th>RNF11</th>\n",
       "      <th>...</th>\n",
       "      <th>pathologic_stage_Stage IIB</th>\n",
       "      <th>pathologic_stage_Stage IIC</th>\n",
       "      <th>pathologic_stage_Stage III</th>\n",
       "      <th>pathologic_stage_Stage IIIA</th>\n",
       "      <th>pathologic_stage_Stage IIIB</th>\n",
       "      <th>pathologic_stage_Stage IIIC</th>\n",
       "      <th>pathologic_stage_Stage IV</th>\n",
       "      <th>person_neoplasm_cancer_status_WITH TUMOR</th>\n",
       "      <th>radiation_therapy_YES</th>\n",
       "      <th>vital_status_LIVING</th>\n",
       "    </tr>\n",
       "  </thead>\n",
       "  <tbody>\n",
       "    <tr>\n",
       "      <th>MDB-ER-A2NG-06</th>\n",
       "      <td>1</td>\n",
       "      <td>43.0</td>\n",
       "      <td>3</td>\n",
       "      <td>2</td>\n",
       "      <td>0</td>\n",
       "      <td>9.71</td>\n",
       "      <td>1.05</td>\n",
       "      <td>0.0000</td>\n",
       "      <td>11.83</td>\n",
       "      <td>10.02</td>\n",
       "      <td>...</td>\n",
       "      <td>0</td>\n",
       "      <td>0</td>\n",
       "      <td>0</td>\n",
       "      <td>0</td>\n",
       "      <td>0</td>\n",
       "      <td>1</td>\n",
       "      <td>0</td>\n",
       "      <td>1</td>\n",
       "      <td>0</td>\n",
       "      <td>1</td>\n",
       "    </tr>\n",
       "    <tr>\n",
       "      <th>MDB-ER-A3ET-06</th>\n",
       "      <td>1</td>\n",
       "      <td>64.0</td>\n",
       "      <td>0</td>\n",
       "      <td>0</td>\n",
       "      <td>0</td>\n",
       "      <td>10.13</td>\n",
       "      <td>2.78</td>\n",
       "      <td>0.0000</td>\n",
       "      <td>11.53</td>\n",
       "      <td>11.08</td>\n",
       "      <td>...</td>\n",
       "      <td>0</td>\n",
       "      <td>0</td>\n",
       "      <td>0</td>\n",
       "      <td>1</td>\n",
       "      <td>0</td>\n",
       "      <td>0</td>\n",
       "      <td>0</td>\n",
       "      <td>1</td>\n",
       "      <td>0</td>\n",
       "      <td>1</td>\n",
       "    </tr>\n",
       "    <tr>\n",
       "      <th>MDB-WE-A8ZX-06</th>\n",
       "      <td>1</td>\n",
       "      <td>45.0</td>\n",
       "      <td>0</td>\n",
       "      <td>0</td>\n",
       "      <td>0</td>\n",
       "      <td>8.89</td>\n",
       "      <td>8.04</td>\n",
       "      <td>0.0000</td>\n",
       "      <td>11.00</td>\n",
       "      <td>9.82</td>\n",
       "      <td>...</td>\n",
       "      <td>0</td>\n",
       "      <td>0</td>\n",
       "      <td>0</td>\n",
       "      <td>0</td>\n",
       "      <td>1</td>\n",
       "      <td>0</td>\n",
       "      <td>0</td>\n",
       "      <td>0</td>\n",
       "      <td>1</td>\n",
       "      <td>1</td>\n",
       "    </tr>\n",
       "    <tr>\n",
       "      <th>MDB-EB-A6QZ-01</th>\n",
       "      <td>0</td>\n",
       "      <td>76.0</td>\n",
       "      <td>3</td>\n",
       "      <td>0</td>\n",
       "      <td>0</td>\n",
       "      <td>10.24</td>\n",
       "      <td>1.52</td>\n",
       "      <td>0.3677</td>\n",
       "      <td>11.71</td>\n",
       "      <td>10.47</td>\n",
       "      <td>...</td>\n",
       "      <td>0</td>\n",
       "      <td>0</td>\n",
       "      <td>0</td>\n",
       "      <td>0</td>\n",
       "      <td>0</td>\n",
       "      <td>0</td>\n",
       "      <td>0</td>\n",
       "      <td>1</td>\n",
       "      <td>1</td>\n",
       "      <td>0</td>\n",
       "    </tr>\n",
       "    <tr>\n",
       "      <th>MDB-EE-A29B-06</th>\n",
       "      <td>1</td>\n",
       "      <td>67.0</td>\n",
       "      <td>2</td>\n",
       "      <td>1</td>\n",
       "      <td>0</td>\n",
       "      <td>9.51</td>\n",
       "      <td>3.26</td>\n",
       "      <td>0.0000</td>\n",
       "      <td>11.98</td>\n",
       "      <td>9.28</td>\n",
       "      <td>...</td>\n",
       "      <td>1</td>\n",
       "      <td>0</td>\n",
       "      <td>0</td>\n",
       "      <td>0</td>\n",
       "      <td>0</td>\n",
       "      <td>0</td>\n",
       "      <td>0</td>\n",
       "      <td>1</td>\n",
       "      <td>0</td>\n",
       "      <td>0</td>\n",
       "    </tr>\n",
       "  </tbody>\n",
       "</table>\n",
       "<p>5 rows × 19239 columns</p>\n",
       "</div>"
      ],
      "text/plain": [
       "                sample_type  age_at_initial_pathologic_diagnosis  \\\n",
       "MDB-ER-A2NG-06            1                                 43.0   \n",
       "MDB-ER-A3ET-06            1                                 64.0   \n",
       "MDB-WE-A8ZX-06            1                                 45.0   \n",
       "MDB-EB-A6QZ-01            0                                 76.0   \n",
       "MDB-EE-A29B-06            1                                 67.0   \n",
       "\n",
       "                percent_lymphocyte_infiltration_TOP  \\\n",
       "MDB-ER-A2NG-06                                    3   \n",
       "MDB-ER-A3ET-06                                    0   \n",
       "MDB-WE-A8ZX-06                                    0   \n",
       "MDB-EB-A6QZ-01                                    3   \n",
       "MDB-EE-A29B-06                                    2   \n",
       "\n",
       "                percent_monocyte_infiltration_TOP  \\\n",
       "MDB-ER-A2NG-06                                  2   \n",
       "MDB-ER-A3ET-06                                  0   \n",
       "MDB-WE-A8ZX-06                                  0   \n",
       "MDB-EB-A6QZ-01                                  0   \n",
       "MDB-EE-A29B-06                                  1   \n",
       "\n",
       "                percent_neutrophil_infiltration_TOP  ARHGEF10L  HIF3A   RNF17  \\\n",
       "MDB-ER-A2NG-06                                    0       9.71   1.05  0.0000   \n",
       "MDB-ER-A3ET-06                                    0      10.13   2.78  0.0000   \n",
       "MDB-WE-A8ZX-06                                    0       8.89   8.04  0.0000   \n",
       "MDB-EB-A6QZ-01                                    0      10.24   1.52  0.3677   \n",
       "MDB-EE-A29B-06                                    0       9.51   3.26  0.0000   \n",
       "\n",
       "                RNF10  RNF11  ...  pathologic_stage_Stage IIB  \\\n",
       "MDB-ER-A2NG-06  11.83  10.02  ...                           0   \n",
       "MDB-ER-A3ET-06  11.53  11.08  ...                           0   \n",
       "MDB-WE-A8ZX-06  11.00   9.82  ...                           0   \n",
       "MDB-EB-A6QZ-01  11.71  10.47  ...                           0   \n",
       "MDB-EE-A29B-06  11.98   9.28  ...                           1   \n",
       "\n",
       "                pathologic_stage_Stage IIC  pathologic_stage_Stage III  \\\n",
       "MDB-ER-A2NG-06                           0                           0   \n",
       "MDB-ER-A3ET-06                           0                           0   \n",
       "MDB-WE-A8ZX-06                           0                           0   \n",
       "MDB-EB-A6QZ-01                           0                           0   \n",
       "MDB-EE-A29B-06                           0                           0   \n",
       "\n",
       "                pathologic_stage_Stage IIIA  pathologic_stage_Stage IIIB  \\\n",
       "MDB-ER-A2NG-06                            0                            0   \n",
       "MDB-ER-A3ET-06                            1                            0   \n",
       "MDB-WE-A8ZX-06                            0                            1   \n",
       "MDB-EB-A6QZ-01                            0                            0   \n",
       "MDB-EE-A29B-06                            0                            0   \n",
       "\n",
       "                pathologic_stage_Stage IIIC  pathologic_stage_Stage IV  \\\n",
       "MDB-ER-A2NG-06                            1                          0   \n",
       "MDB-ER-A3ET-06                            0                          0   \n",
       "MDB-WE-A8ZX-06                            0                          0   \n",
       "MDB-EB-A6QZ-01                            0                          0   \n",
       "MDB-EE-A29B-06                            0                          0   \n",
       "\n",
       "                person_neoplasm_cancer_status_WITH TUMOR  \\\n",
       "MDB-ER-A2NG-06                                         1   \n",
       "MDB-ER-A3ET-06                                         1   \n",
       "MDB-WE-A8ZX-06                                         0   \n",
       "MDB-EB-A6QZ-01                                         1   \n",
       "MDB-EE-A29B-06                                         1   \n",
       "\n",
       "                radiation_therapy_YES  vital_status_LIVING  \n",
       "MDB-ER-A2NG-06                      0                    1  \n",
       "MDB-ER-A3ET-06                      0                    1  \n",
       "MDB-WE-A8ZX-06                      1                    1  \n",
       "MDB-EB-A6QZ-01                      1                    0  \n",
       "MDB-EE-A29B-06                      0                    0  \n",
       "\n",
       "[5 rows x 19239 columns]"
      ]
     },
     "execution_count": 3,
     "metadata": {},
     "output_type": "execute_result"
    }
   ],
   "source": [
    "test_df = pd.read_csv('../data/TCGA-SKCM_test_unresampled.csv',index_col=0)\n",
    "test_df.head()"
   ]
  },
  {
   "cell_type": "code",
   "execution_count": 4,
   "metadata": {},
   "outputs": [
    {
     "data": {
      "text/html": [
       "<div>\n",
       "<style scoped>\n",
       "    .dataframe tbody tr th:only-of-type {\n",
       "        vertical-align: middle;\n",
       "    }\n",
       "\n",
       "    .dataframe tbody tr th {\n",
       "        vertical-align: top;\n",
       "    }\n",
       "\n",
       "    .dataframe thead th {\n",
       "        text-align: right;\n",
       "    }\n",
       "</style>\n",
       "<table border=\"1\" class=\"dataframe\">\n",
       "  <thead>\n",
       "    <tr style=\"text-align: right;\">\n",
       "      <th></th>\n",
       "      <th>sample_type</th>\n",
       "    </tr>\n",
       "  </thead>\n",
       "  <tbody>\n",
       "    <tr>\n",
       "      <th>MDB-ER-A19T-01</th>\n",
       "      <td>0</td>\n",
       "    </tr>\n",
       "    <tr>\n",
       "      <th>MDB-ER-A196-01</th>\n",
       "      <td>0</td>\n",
       "    </tr>\n",
       "    <tr>\n",
       "      <th>MDB-GN-A26A-06</th>\n",
       "      <td>1</td>\n",
       "    </tr>\n",
       "    <tr>\n",
       "      <th>MDB-D3-A8GI-06</th>\n",
       "      <td>1</td>\n",
       "    </tr>\n",
       "    <tr>\n",
       "      <th>MDB-EE-A2A6-06</th>\n",
       "      <td>1</td>\n",
       "    </tr>\n",
       "  </tbody>\n",
       "</table>\n",
       "</div>"
      ],
      "text/plain": [
       "                sample_type\n",
       "MDB-ER-A19T-01            0\n",
       "MDB-ER-A196-01            0\n",
       "MDB-GN-A26A-06            1\n",
       "MDB-D3-A8GI-06            1\n",
       "MDB-EE-A2A6-06            1"
      ]
     },
     "execution_count": 4,
     "metadata": {},
     "output_type": "execute_result"
    }
   ],
   "source": [
    "train_target = train_df[['sample_type']]\n",
    "train_target.astype(float, 64)\n",
    "train_target.head()"
   ]
  },
  {
   "cell_type": "code",
   "execution_count": 5,
   "metadata": {},
   "outputs": [
    {
     "data": {
      "text/html": [
       "<div>\n",
       "<style scoped>\n",
       "    .dataframe tbody tr th:only-of-type {\n",
       "        vertical-align: middle;\n",
       "    }\n",
       "\n",
       "    .dataframe tbody tr th {\n",
       "        vertical-align: top;\n",
       "    }\n",
       "\n",
       "    .dataframe thead th {\n",
       "        text-align: right;\n",
       "    }\n",
       "</style>\n",
       "<table border=\"1\" class=\"dataframe\">\n",
       "  <thead>\n",
       "    <tr style=\"text-align: right;\">\n",
       "      <th></th>\n",
       "      <th>sample_type</th>\n",
       "    </tr>\n",
       "  </thead>\n",
       "  <tbody>\n",
       "    <tr>\n",
       "      <th>MDB-ER-A2NG-06</th>\n",
       "      <td>1</td>\n",
       "    </tr>\n",
       "    <tr>\n",
       "      <th>MDB-ER-A3ET-06</th>\n",
       "      <td>1</td>\n",
       "    </tr>\n",
       "    <tr>\n",
       "      <th>MDB-WE-A8ZX-06</th>\n",
       "      <td>1</td>\n",
       "    </tr>\n",
       "    <tr>\n",
       "      <th>MDB-EB-A6QZ-01</th>\n",
       "      <td>0</td>\n",
       "    </tr>\n",
       "    <tr>\n",
       "      <th>MDB-EE-A29B-06</th>\n",
       "      <td>1</td>\n",
       "    </tr>\n",
       "  </tbody>\n",
       "</table>\n",
       "</div>"
      ],
      "text/plain": [
       "                sample_type\n",
       "MDB-ER-A2NG-06            1\n",
       "MDB-ER-A3ET-06            1\n",
       "MDB-WE-A8ZX-06            1\n",
       "MDB-EB-A6QZ-01            0\n",
       "MDB-EE-A29B-06            1"
      ]
     },
     "execution_count": 5,
     "metadata": {},
     "output_type": "execute_result"
    }
   ],
   "source": [
    "test_target = test_df[['sample_type']]\n",
    "test_target.astype(float, 64)\n",
    "test_target.head()"
   ]
  },
  {
   "cell_type": "code",
   "execution_count": 6,
   "metadata": {},
   "outputs": [],
   "source": [
    "train_df = train_df.drop(['sample_type'], 1)\n",
    "test_df = test_df.drop(['sample_type'], 1)"
   ]
  },
  {
   "cell_type": "markdown",
   "metadata": {},
   "source": [
    "## Classification between Primary Tumor and Metastatic (without PCA)"
   ]
  },
  {
   "cell_type": "markdown",
   "metadata": {},
   "source": [
    "### Logistic Regression"
   ]
  },
  {
   "cell_type": "code",
   "execution_count": 7,
   "metadata": {},
   "outputs": [
    {
     "name": "stdout",
     "output_type": "stream",
     "text": [
      "Fitting 2 folds for each of 12 candidates, totalling 24 fits\n"
     ]
    },
    {
     "name": "stderr",
     "output_type": "stream",
     "text": [
      "[Parallel(n_jobs=4)]: Using backend LokyBackend with 4 concurrent workers.\n",
      "[Parallel(n_jobs=4)]: Done  24 out of  24 | elapsed:   18.1s finished\n"
     ]
    },
    {
     "name": "stdout",
     "output_type": "stream",
     "text": [
      "Best parameter (CV score=0.941):\n",
      "{'logistic__C': 0.1, 'logistic__penalty': 'l1'}\n"
     ]
    }
   ],
   "source": [
    "pipe = Pipeline([\n",
    "  ('scaler', StandardScaler()),\n",
    "  ('logistic', LogisticRegression(\n",
    "                  solver='liblinear', \n",
    "                  max_iter=10000, \n",
    "                  tol=0.001, \n",
    "                  fit_intercept=True))\n",
    "])\n",
    "\n",
    "parameters = {\n",
    "    'logistic__C': [1e-03, 1e-2, 1e-1, 1, 10, 100],\n",
    "    'logistic__penalty': ['l1', 'l2']\n",
    "}\n",
    "\n",
    "grid_search_feature_lr = GridSearchCV(pipe, parameters, n_jobs=4,cv=2, return_train_score=False, verbose=3, scoring='accuracy')\n",
    "grid_search_feature_lr.fit(train_df, train_target.sample_type.astype('int'))\n",
    "\n",
    "print(\"Best parameter (CV score=%0.3f):\" % grid_search_feature_lr.best_score_)\n",
    "print(grid_search_feature_lr.best_params_)"
   ]
  },
  {
   "cell_type": "code",
   "execution_count": 8,
   "metadata": {},
   "outputs": [
    {
     "name": "stdout",
     "output_type": "stream",
     "text": [
      "LogisticRegression accuracy: 0.906\n"
     ]
    },
    {
     "data": {
      "text/plain": [
       "[Text(0, 0.5, 'Primary Tumor'), Text(0, 1.5, 'Metastatic')]"
      ]
     },
     "execution_count": 8,
     "metadata": {},
     "output_type": "execute_result"
    },
    {
     "data": {
      "image/png": "[encoded data removed]",
      "text/plain": [
       "<Figure size 432x288 with 2 Axes>"
      ]
     },
     "metadata": {
      "needs_background": "light"
     },
     "output_type": "display_data"
    }
   ],
   "source": [
    "lr_model = grid_search_feature_lr.best_estimator_\n",
    "\n",
    "lr_pred = grid_search_feature_lr.predict(test_df)\n",
    "\n",
    "print('LogisticRegression accuracy:', round(accuracy_score(test_target.sample_type.astype('int'), lr_pred), 3))\n",
    "\n",
    "cm_rf = confusion_matrix(test_target.sample_type.astype('int'), lr_pred)\n",
    "\n",
    "ax = plt.subplot()\n",
    "sns.heatmap(cm_rf, annot=True, ax = ax, fmt='g', cmap='Greens') \n",
    "labels = ['Primary Tumor', 'Metastatic']\n",
    "ax.set_xlabel('Predicted labels')\n",
    "ax.set_ylabel('True labels') \n",
    "ax.set_title('LogisticRegression Confusion Matrix') \n",
    "ax.xaxis.set_ticklabels(labels) \n",
    "ax.yaxis.set_ticklabels(labels, rotation=360)"
   ]
  },
  {
   "cell_type": "code",
   "execution_count": 9,
   "metadata": {},
   "outputs": [
    {
     "data": {
      "image/png": "[encoded data removed]",
      "text/plain": [
       "<Figure size 432x288 with 1 Axes>"
      ]
     },
     "metadata": {
      "needs_background": "light"
     },
     "output_type": "display_data"
    }
   ],
   "source": [
    "lr_model = grid_search_feature_lr.best_estimator_\n",
    "lr_pred_proba = lr_model.predict_proba(test_df)[::,1]\n",
    "fpr, tpr, _ = roc_curve(test_target.sample_type.astype('int'),  lr_pred_proba)\n",
    "auc = roc_auc_score(test_target.sample_type.astype('int'), lr_pred_proba)\n",
    "plt.plot(fpr,tpr,label=\"Logistic Regression, auc=\"+str(auc))\n",
    "plt.ylabel(\"True Positive Rate\")\n",
    "plt.xlabel(\"False Positive Rate\")\n",
    "plt.legend(loc=4)\n",
    "plt.show()"
   ]
  },
  {
   "cell_type": "code",
   "execution_count": 10,
   "metadata": {},
   "outputs": [
    {
     "name": "stdout",
     "output_type": "stream",
     "text": [
      "0.25973083521069534\n"
     ]
    }
   ],
   "source": [
    "lr_model = grid_search_feature_lr.best_estimator_\n",
    "lr_pred_proba = lr_model.predict_proba(test_df)[::,1]\n",
    "log_loss_score = log_loss(test_target.sample_type.astype('int'),  lr_pred_proba)\n",
    "print(log_loss_score)"
   ]
  },
  {
   "cell_type": "markdown",
   "metadata": {},
   "source": [
    "### Support Vector Machines"
   ]
  },
  {
   "cell_type": "code",
   "execution_count": 11,
   "metadata": {},
   "outputs": [
    {
     "name": "stdout",
     "output_type": "stream",
     "text": [
      "Fitting 2 folds for each of 288 candidates, totalling 576 fits\n"
     ]
    },
    {
     "name": "stderr",
     "output_type": "stream",
     "text": [
      "[Parallel(n_jobs=4)]: Using backend LokyBackend with 4 concurrent workers.\n",
      "[Parallel(n_jobs=4)]: Done  24 tasks      | elapsed:   35.5s\n",
      "[Parallel(n_jobs=4)]: Done 120 tasks      | elapsed:  2.6min\n",
      "[Parallel(n_jobs=4)]: Done 280 tasks      | elapsed:  6.1min\n",
      "[Parallel(n_jobs=4)]: Done 504 tasks      | elapsed:  9.9min\n",
      "[Parallel(n_jobs=4)]: Done 576 out of 576 | elapsed: 11.1min finished\n"
     ]
    },
    {
     "name": "stdout",
     "output_type": "stream",
     "text": [
      "Best parameter (CV score=0.927):\n",
      "{'SVM__C': 10, 'SVM__decision_function_shape': 'ovo', 'SVM__gamma': 1e-05, 'SVM__kernel': 'rbf'}\n"
     ]
    }
   ],
   "source": [
    "pipe = Pipeline([\n",
    "  ('scaler', StandardScaler()),\n",
    "  ('SVM', SVC(probability=True))\n",
    "])\n",
    "\n",
    "parameters = {\n",
    "    'SVM__C': [0.001, 0.01, 0.1, 1, 10, 100], \n",
    "    'SVM__gamma': [1, 0.1, 0.01, 0.001, 0.00001, 10], \n",
    "    \"SVM__kernel\": [\"linear\",\"poly\",\"sigmoid\",\"rbf\"], \n",
    "    \"SVM__decision_function_shape\" : [\"ovo\", \"ovr\"]\n",
    "}\n",
    "\n",
    "grid_search_feature_svm = GridSearchCV(pipe, parameters, n_jobs=4,cv=2, return_train_score=False, verbose=3, scoring='accuracy')\n",
    "grid_search_feature_svm.fit(train_df, train_target.sample_type.astype('int'))\n",
    "\n",
    "print(\"Best parameter (CV score=%0.3f):\" % grid_search_feature_svm.best_score_)\n",
    "print(grid_search_feature_svm.best_params_)"
   ]
  },
  {
   "cell_type": "code",
   "execution_count": 12,
   "metadata": {},
   "outputs": [
    {
     "name": "stdout",
     "output_type": "stream",
     "text": [
      "Support Vector Machines accuracy: 0.872\n"
     ]
    },
    {
     "data": {
      "text/plain": [
       "[Text(0, 0.5, 'Primary Tumor'), Text(0, 1.5, 'Metastatic')]"
      ]
     },
     "execution_count": 12,
     "metadata": {},
     "output_type": "execute_result"
    },
    {
     "data": {
      "image/png": "[encoded data removed]",
      "text/plain": [
       "<Figure size 432x288 with 2 Axes>"
      ]
     },
     "metadata": {
      "needs_background": "light"
     },
     "output_type": "display_data"
    }
   ],
   "source": [
    "svm_model = grid_search_feature_svm.best_estimator_\n",
    "\n",
    "svm_pred = grid_search_feature_svm.predict(test_df)\n",
    "\n",
    "print('Support Vector Machines accuracy:', round(accuracy_score(test_target.sample_type.astype('int'), svm_pred), 3))\n",
    "\n",
    "cm_rf = confusion_matrix(test_target.sample_type.astype('int'), svm_pred)\n",
    "\n",
    "ax = plt.subplot()\n",
    "sns.heatmap(cm_rf, annot=True, ax = ax, fmt='g', cmap='Greens') \n",
    "labels = ['Primary Tumor', 'Metastatic']\n",
    "ax.set_xlabel('Predicted labels')\n",
    "ax.set_ylabel('True labels') \n",
    "ax.set_title('Support Vector Machines Confusion Matrix') \n",
    "ax.xaxis.set_ticklabels(labels) \n",
    "ax.yaxis.set_ticklabels(labels, rotation=360)"
   ]
  },
  {
   "cell_type": "code",
   "execution_count": 13,
   "metadata": {},
   "outputs": [
    {
     "data": {
      "image/png": "[encoded data removed]",
      "text/plain": [
       "<Figure size 432x288 with 1 Axes>"
      ]
     },
     "metadata": {
      "needs_background": "light"
     },
     "output_type": "display_data"
    }
   ],
   "source": [
    "svm_model = grid_search_feature_svm.best_estimator_\n",
    "svm_pred_proba = svm_model.predict_proba(test_df)[::,1]\n",
    "fpr, tpr, _ = roc_curve(test_target.sample_type.astype('int'),  svm_pred_proba)\n",
    "auc = roc_auc_score(test_target.sample_type.astype('int'), svm_pred_proba)\n",
    "plt.plot(fpr,tpr,label=\"Support Vector Machines, auc=\"+str(auc))\n",
    "plt.ylabel(\"True Positive Rate\")\n",
    "plt.xlabel(\"False Positive Rate\")\n",
    "plt.legend(loc=4)\n",
    "plt.show()"
   ]
  },
  {
   "cell_type": "code",
   "execution_count": 14,
   "metadata": {},
   "outputs": [
    {
     "name": "stdout",
     "output_type": "stream",
     "text": [
      "0.2660863599122766\n"
     ]
    }
   ],
   "source": [
    "svm_model = grid_search_feature_svm.best_estimator_\n",
    "svm_pred_proba = svm_model.predict_proba(test_df)[::,1]\n",
    "log_loss_score = log_loss(test_target.sample_type.astype('int'),  svm_pred_proba)\n",
    "print(log_loss_score)"
   ]
  },
  {
   "cell_type": "markdown",
   "metadata": {},
   "source": [
    "### Random Forest "
   ]
  },
  {
   "cell_type": "code",
   "execution_count": 15,
   "metadata": {},
   "outputs": [
    {
     "name": "stdout",
     "output_type": "stream",
     "text": [
      "Fitting 2 folds for each of 500 candidates, totalling 1000 fits\n"
     ]
    },
    {
     "name": "stderr",
     "output_type": "stream",
     "text": [
      "[Parallel(n_jobs=4)]: Using backend LokyBackend with 4 concurrent workers.\n",
      "[Parallel(n_jobs=4)]: Done  24 tasks      | elapsed:  1.4min\n",
      "[Parallel(n_jobs=4)]: Done 120 tasks      | elapsed:  6.6min\n",
      "[Parallel(n_jobs=4)]: Done 280 tasks      | elapsed: 15.0min\n",
      "[Parallel(n_jobs=4)]: Done 504 tasks      | elapsed: 27.6min\n",
      "[Parallel(n_jobs=4)]: Done 792 tasks      | elapsed: 44.6min\n",
      "[Parallel(n_jobs=4)]: Done 1000 out of 1000 | elapsed: 58.2min finished\n"
     ]
    },
    {
     "name": "stdout",
     "output_type": "stream",
     "text": [
      "Best parameter (CV score=0.916):\n",
      "{'rf__bootstrap': True, 'rf__max_features': 0.65, 'rf__min_samples_leaf': 6, 'rf__min_samples_split': 2, 'rf__n_estimators': 30}\n"
     ]
    }
   ],
   "source": [
    "pipe = Pipeline([\n",
    "  ('scaler', StandardScaler()),\n",
    "  ('rf', RandomForestClassifier(random_state=1))\n",
    "])\n",
    "\n",
    "parameters = {\n",
    "    'rf__bootstrap': [True], \n",
    "    'rf__n_estimators': [30, 60, 70, 80, 90], \n",
    "    'rf__max_features': [0.6, 0.65, 0.7, 0.75, 0.8], \n",
    "    \"rf__min_samples_leaf\":  [6, 8, 10, 12, 14], \n",
    "    \"rf__min_samples_split\" : [2, 3, 5, 7]    \n",
    "}\n",
    "\n",
    "grid_search_feature_rf = GridSearchCV(pipe, parameters, n_jobs=4,cv=2, return_train_score=False, verbose=3, scoring='accuracy')\n",
    "grid_search_feature_rf.fit(train_df, train_target.sample_type.astype('int'))\n",
    "\n",
    "print(\"Best parameter (CV score=%0.3f):\" % grid_search_feature_rf.best_score_)\n",
    "print(grid_search_feature_rf.best_params_)"
   ]
  },
  {
   "cell_type": "code",
   "execution_count": 16,
   "metadata": {},
   "outputs": [
    {
     "name": "stdout",
     "output_type": "stream",
     "text": [
      "Random Forest accuracy: 0.838\n"
     ]
    },
    {
     "data": {
      "text/plain": [
       "[Text(0, 0.5, 'Primary Tumor'), Text(0, 1.5, 'Metastatic')]"
      ]
     },
     "execution_count": 16,
     "metadata": {},
     "output_type": "execute_result"
    },
    {
     "data": {
      "image/png": "[encoded data removed]",
      "text/plain": [
       "<Figure size 432x288 with 2 Axes>"
      ]
     },
     "metadata": {
      "needs_background": "light"
     },
     "output_type": "display_data"
    }
   ],
   "source": [
    "rf_model = grid_search_feature_rf.best_estimator_\n",
    "\n",
    "rf_pred = grid_search_feature_rf.predict(test_df)\n",
    "\n",
    "print('Random Forest accuracy:', round(accuracy_score(test_target.sample_type.astype('int'), rf_pred), 3))\n",
    "\n",
    "cm_rf = confusion_matrix(test_target.sample_type.astype('int'), rf_pred)\n",
    "\n",
    "ax = plt.subplot()\n",
    "sns.heatmap(cm_rf, annot=True, ax = ax, fmt='g', cmap='Greens') \n",
    "labels = ['Primary Tumor', 'Metastatic']\n",
    "ax.set_xlabel('Predicted labels')\n",
    "ax.set_ylabel('True labels') \n",
    "ax.set_title('Random Forest Confusion Matrix') \n",
    "ax.xaxis.set_ticklabels(labels) \n",
    "ax.yaxis.set_ticklabels(labels, rotation=360)"
   ]
  },
  {
   "cell_type": "code",
   "execution_count": 17,
   "metadata": {},
   "outputs": [
    {
     "data": {
      "image/png": "[encoded data removed]",
      "text/plain": [
       "<Figure size 432x288 with 1 Axes>"
      ]
     },
     "metadata": {
      "needs_background": "light"
     },
     "output_type": "display_data"
    }
   ],
   "source": [
    "rf_model = grid_search_feature_rf.best_estimator_\n",
    "rf_pred_proba = rf_model.predict_proba(test_df)[::,1]\n",
    "fpr, tpr, _ = roc_curve(test_target.sample_type.astype('int'),  rf_pred_proba)\n",
    "auc = roc_auc_score(test_target.sample_type.astype('int'), rf_pred_proba)\n",
    "plt.plot(fpr,tpr,label=\"Random Forest, auc=\"+str(auc))\n",
    "plt.ylabel(\"True Positive Rate\")\n",
    "plt.xlabel(\"False Positive Rate\")\n",
    "plt.legend(loc=4)\n",
    "plt.show()"
   ]
  },
  {
   "cell_type": "code",
   "execution_count": 18,
   "metadata": {},
   "outputs": [
    {
     "name": "stdout",
     "output_type": "stream",
     "text": [
      "0.32703796348928216\n"
     ]
    }
   ],
   "source": [
    "rf_model = grid_search_feature_rf.best_estimator_\n",
    "rf_pred_proba = rf_model.predict_proba(test_df)[::,1]\n",
    "log_loss_score = log_loss(test_target.sample_type.astype('int'),  rf_pred_proba)\n",
    "print(log_loss_score)"
   ]
  },
  {
   "cell_type": "markdown",
   "metadata": {},
   "source": [
    "## Classification between Primary Tumor and Metastatic (with PCA)"
   ]
  },
  {
   "cell_type": "markdown",
   "metadata": {},
   "source": [
    "### Using Logistic Regression"
   ]
  },
  {
   "cell_type": "code",
   "execution_count": 19,
   "metadata": {},
   "outputs": [
    {
     "name": "stdout",
     "output_type": "stream",
     "text": [
      "Fitting 2 folds for each of 60 candidates, totalling 120 fits\n"
     ]
    },
    {
     "name": "stderr",
     "output_type": "stream",
     "text": [
      "[Parallel(n_jobs=4)]: Using backend LokyBackend with 4 concurrent workers.\n",
      "[Parallel(n_jobs=4)]: Done  24 tasks      | elapsed:   25.5s\n",
      "[Parallel(n_jobs=4)]: Done 120 out of 120 | elapsed:  1.6min finished\n"
     ]
    },
    {
     "name": "stdout",
     "output_type": "stream",
     "text": [
      "Best parameter (CV score=0.927):\n",
      "{'logistic__C': 100, 'logistic__penalty': 'l1', 'pca__n_components': 0.9}\n"
     ]
    }
   ],
   "source": [
    "pipe = Pipeline([\n",
    "  ('scaler', StandardScaler()),\n",
    "  ('pca', PCA(svd_solver='full')),\n",
    "  ('logistic', LogisticRegression(\n",
    "                  solver='liblinear', \n",
    "                  max_iter=10000, \n",
    "                  tol=0.001, \n",
    "                  fit_intercept=True))\n",
    "])\n",
    "\n",
    "parameters = {\n",
    "    'pca__n_components': [0.6, 0.7, 0.75, 0.8, 0.9],    \n",
    "    'logistic__C': [1e-03, 1e-2, 1e-1, 1, 10, 100],\n",
    "    'logistic__penalty': ['l1', 'l2']\n",
    "}\n",
    "\n",
    "grid_search_lr_pca = GridSearchCV(pipe, parameters, n_jobs=4,cv=2, return_train_score=False, verbose=3, scoring='accuracy')\n",
    "grid_search_lr_pca.fit(train_df, train_target.sample_type.astype('int'))\n",
    "\n",
    "print(\"Best parameter (CV score=%0.3f):\" % grid_search_lr_pca.best_score_)\n",
    "print(grid_search_lr_pca.best_params_)"
   ]
  },
  {
   "cell_type": "code",
   "execution_count": 20,
   "metadata": {},
   "outputs": [
    {
     "data": {
      "text/plain": [
       "Pipeline(steps=[('scaler', StandardScaler()),\n",
       "                ('pca', PCA(n_components=0.9, svd_solver='full')),\n",
       "                ('logistic',\n",
       "                 LogisticRegression(C=100, max_iter=10000, penalty='l1',\n",
       "                                    solver='liblinear', tol=0.001))])"
      ]
     },
     "execution_count": 20,
     "metadata": {},
     "output_type": "execute_result"
    }
   ],
   "source": [
    "grid_search_lr_pca.best_estimator_"
   ]
  },
  {
   "cell_type": "code",
   "execution_count": 21,
   "metadata": {},
   "outputs": [
    {
     "name": "stdout",
     "output_type": "stream",
     "text": [
      "LogisticRegression accuracy: 0.889\n"
     ]
    },
    {
     "data": {
      "text/plain": [
       "[Text(0, 0.5, 'Primary Tumor'), Text(0, 1.5, 'Metastatic')]"
      ]
     },
     "execution_count": 21,
     "metadata": {},
     "output_type": "execute_result"
    },
    {
     "data": {
      "image/png": "[encoded data removed]",
      "text/plain": [
       "<Figure size 432x288 with 2 Axes>"
      ]
     },
     "metadata": {
      "needs_background": "light"
     },
     "output_type": "display_data"
    }
   ],
   "source": [
    "lr_model_pca = grid_search_lr_pca.best_estimator_\n",
    "\n",
    "lr_pred = grid_search_lr_pca.predict(test_df)\n",
    "\n",
    "print('LogisticRegression accuracy:', round(accuracy_score(test_target.sample_type.astype('int'), lr_pred), 3))\n",
    "\n",
    "cm_rf = confusion_matrix(test_target.sample_type.astype('int'), lr_pred)\n",
    "\n",
    "ax = plt.subplot()\n",
    "sns.heatmap(cm_rf, annot=True, ax = ax, fmt='g', cmap='Greens') \n",
    "labels = ['Primary Tumor', 'Metastatic']\n",
    "ax.set_xlabel('Predicted labels')\n",
    "ax.set_ylabel('True labels') \n",
    "ax.set_title('LogisticRegression Confusion Matrix') \n",
    "ax.xaxis.set_ticklabels(labels) \n",
    "ax.yaxis.set_ticklabels(labels, rotation=360)"
   ]
  },
  {
   "cell_type": "code",
   "execution_count": 22,
   "metadata": {},
   "outputs": [
    {
     "data": {
      "image/png": "[encoded data removed]",
      "text/plain": [
       "<Figure size 432x288 with 1 Axes>"
      ]
     },
     "metadata": {
      "needs_background": "light"
     },
     "output_type": "display_data"
    }
   ],
   "source": [
    "lr_model = grid_search_lr_pca.best_estimator_\n",
    "lr_pred_proba = lr_model.predict_proba(test_df)[::,1]\n",
    "fpr, tpr, _ = roc_curve(test_target.sample_type.astype('int'),  lr_pred_proba)\n",
    "auc = roc_auc_score(test_target.sample_type.astype('int'), lr_pred_proba)\n",
    "plt.plot(fpr,tpr,label=\"Logistic Regression, auc=\"+str(auc))\n",
    "plt.ylabel(\"True Positive Rate\")\n",
    "plt.xlabel(\"False Positive Rate\")\n",
    "plt.legend(loc=4)\n",
    "plt.show()"
   ]
  },
  {
   "cell_type": "code",
   "execution_count": 23,
   "metadata": {},
   "outputs": [
    {
     "name": "stdout",
     "output_type": "stream",
     "text": [
      "0.47659500495814744\n"
     ]
    }
   ],
   "source": [
    "lr_model = grid_search_lr_pca.best_estimator_\n",
    "lr_pred_proba = lr_model.predict_proba(test_df)[::,1]\n",
    "log_loss_score = log_loss(test_target.sample_type.astype('int'),  lr_pred_proba)\n",
    "print(log_loss_score)"
   ]
  },
  {
   "cell_type": "markdown",
   "metadata": {},
   "source": [
    "### Using Support Vector Machines"
   ]
  },
  {
   "cell_type": "code",
   "execution_count": 24,
   "metadata": {},
   "outputs": [
    {
     "name": "stdout",
     "output_type": "stream",
     "text": [
      "Fitting 2 folds for each of 1080 candidates, totalling 2160 fits\n"
     ]
    },
    {
     "name": "stderr",
     "output_type": "stream",
     "text": [
      "[Parallel(n_jobs=4)]: Using backend LokyBackend with 4 concurrent workers.\n",
      "[Parallel(n_jobs=4)]: Done  24 tasks      | elapsed:   23.8s\n",
      "[Parallel(n_jobs=4)]: Done 120 tasks      | elapsed:  1.7min\n",
      "[Parallel(n_jobs=4)]: Done 280 tasks      | elapsed:  3.6min\n",
      "[Parallel(n_jobs=4)]: Done 504 tasks      | elapsed:  6.3min\n",
      "[Parallel(n_jobs=4)]: Done 792 tasks      | elapsed:  9.9min\n",
      "[Parallel(n_jobs=4)]: Done 1144 tasks      | elapsed: 14.5min\n",
      "[Parallel(n_jobs=4)]: Done 1560 tasks      | elapsed: 19.4min\n",
      "[Parallel(n_jobs=4)]: Done 2040 tasks      | elapsed: 25.5min\n",
      "[Parallel(n_jobs=4)]: Done 2160 out of 2160 | elapsed: 26.9min finished\n"
     ]
    },
    {
     "name": "stdout",
     "output_type": "stream",
     "text": [
      "Best parameter (CV score=0.912):\n",
      "{'SVM__C': 10, 'SVM__decision_function_shape': 'ovo', 'SVM__gamma': 0.0001, 'SVM__kernel': 'rbf', 'pca__n_components': 0.9}\n"
     ]
    }
   ],
   "source": [
    "pipe = Pipeline([\n",
    "  ('scaler', StandardScaler()),\n",
    "  ('pca', PCA(svd_solver='full')),    \n",
    "  ('SVM', SVC(probability=True))\n",
    "])\n",
    "\n",
    "parameters = {\n",
    "    'pca__n_components': [0.6, 0.7, 0.75, 0.8, 0.9],    \n",
    "    'SVM__C': [0.001, 0.01, 0.1, 1, 10, 100], \n",
    "    'SVM__gamma': [1, 0.1, 0.01, 0.001, 0.0001, 10], \n",
    "    \"SVM__kernel\": [\"linear\",\"poly\",\"rbf\"], \n",
    "    \"SVM__decision_function_shape\" : [\"ovo\", \"ovr\"]\n",
    "}\n",
    "\n",
    "grid_search_svm_pca = GridSearchCV(pipe, parameters, n_jobs=4,cv=2, return_train_score=False, verbose=3, scoring='accuracy')\n",
    "grid_search_svm_pca.fit(train_df, train_target.sample_type.astype('int'))\n",
    "\n",
    "print(\"Best parameter (CV score=%0.3f):\" % grid_search_svm_pca.best_score_)\n",
    "print(grid_search_svm_pca.best_params_)"
   ]
  },
  {
   "cell_type": "code",
   "execution_count": 25,
   "metadata": {},
   "outputs": [
    {
     "data": {
      "text/plain": [
       "Pipeline(steps=[('scaler', StandardScaler()),\n",
       "                ('pca', PCA(n_components=0.9, svd_solver='full')),\n",
       "                ('SVM',\n",
       "                 SVC(C=10, decision_function_shape='ovo', gamma=0.0001,\n",
       "                     probability=True))])"
      ]
     },
     "execution_count": 25,
     "metadata": {},
     "output_type": "execute_result"
    }
   ],
   "source": [
    "grid_search_svm_pca.best_estimator_"
   ]
  },
  {
   "cell_type": "code",
   "execution_count": 26,
   "metadata": {},
   "outputs": [
    {
     "name": "stdout",
     "output_type": "stream",
     "text": [
      "Support Vector Machines accuracy: 0.863\n"
     ]
    },
    {
     "data": {
      "text/plain": [
       "[Text(0, 0.5, 'Primary Tumor'), Text(0, 1.5, 'Metastatic')]"
      ]
     },
     "execution_count": 26,
     "metadata": {},
     "output_type": "execute_result"
    },
    {
     "data": {
      "image/png": "[encoded data removed]",
      "text/plain": [
       "<Figure size 432x288 with 2 Axes>"
      ]
     },
     "metadata": {
      "needs_background": "light"
     },
     "output_type": "display_data"
    }
   ],
   "source": [
    "svm_model = grid_search_svm_pca.best_estimator_\n",
    "\n",
    "svm_pred = grid_search_svm_pca.predict(test_df)\n",
    "\n",
    "print('Support Vector Machines accuracy:', round(accuracy_score(test_target.sample_type.astype('int'), svm_pred), 3))\n",
    "\n",
    "cm_rf = confusion_matrix(test_target.sample_type.astype('int'), svm_pred)\n",
    "\n",
    "ax = plt.subplot()\n",
    "sns.heatmap(cm_rf, annot=True, ax = ax, fmt='g', cmap='Greens') \n",
    "labels = ['Primary Tumor', 'Metastatic']\n",
    "ax.set_xlabel('Predicted labels')\n",
    "ax.set_ylabel('True labels') \n",
    "ax.set_title('Support Vector Machines Confusion Matrix') \n",
    "ax.xaxis.set_ticklabels(labels) \n",
    "ax.yaxis.set_ticklabels(labels, rotation=360)"
   ]
  },
  {
   "cell_type": "code",
   "execution_count": 27,
   "metadata": {},
   "outputs": [
    {
     "data": {
      "image/png": "[encoded data removed]",
      "text/plain": [
       "<Figure size 432x288 with 1 Axes>"
      ]
     },
     "metadata": {
      "needs_background": "light"
     },
     "output_type": "display_data"
    }
   ],
   "source": [
    "svm_model = grid_search_svm_pca.best_estimator_\n",
    "svm_pred_proba = svm_model.predict_proba(test_df)[::,1]\n",
    "fpr, tpr, _ = roc_curve(test_target.sample_type.astype('int'),  svm_pred_proba)\n",
    "auc = roc_auc_score(test_target.sample_type.astype('int'), svm_pred_proba)\n",
    "plt.plot(fpr,tpr,label=\"Support Vector Machines, auc=\"+str(auc))\n",
    "plt.ylabel(\"True Positive Rate\")\n",
    "plt.xlabel(\"False Positive Rate\")\n",
    "plt.legend(loc=4)\n",
    "plt.show()"
   ]
  },
  {
   "cell_type": "code",
   "execution_count": 30,
   "metadata": {},
   "outputs": [
    {
     "name": "stdout",
     "output_type": "stream",
     "text": [
      "0.40389510901814785\n"
     ]
    }
   ],
   "source": [
    "svm_model = grid_search_svm_pca.best_estimator_\n",
    "svm_pred_proba = svm_model.predict_proba(test_df)[::,1]\n",
    "log_loss_score = log_loss(test_target.sample_type.astype('int'),  svm_pred_proba)\n",
    "print(log_loss_score)"
   ]
  },
  {
   "cell_type": "markdown",
   "metadata": {},
   "source": [
    "### Using Random Forest"
   ]
  },
  {
   "cell_type": "code",
   "execution_count": 31,
   "metadata": {},
   "outputs": [
    {
     "name": "stdout",
     "output_type": "stream",
     "text": [
      "Fitting 2 folds for each of 2500 candidates, totalling 5000 fits\n"
     ]
    },
    {
     "name": "stderr",
     "output_type": "stream",
     "text": [
      "[Parallel(n_jobs=4)]: Using backend LokyBackend with 4 concurrent workers.\n",
      "[Parallel(n_jobs=4)]: Done  24 tasks      | elapsed:   40.2s\n",
      "[Parallel(n_jobs=4)]: Done 120 tasks      | elapsed:  2.8min\n",
      "[Parallel(n_jobs=4)]: Done 280 tasks      | elapsed:  6.3min\n",
      "[Parallel(n_jobs=4)]: Done 504 tasks      | elapsed: 11.4min\n",
      "[Parallel(n_jobs=4)]: Done 792 tasks      | elapsed: 17.9min\n",
      "[Parallel(n_jobs=4)]: Done 1144 tasks      | elapsed: 26.5min\n",
      "[Parallel(n_jobs=4)]: Done 1560 tasks      | elapsed: 36.8min\n",
      "[Parallel(n_jobs=4)]: Done 2040 tasks      | elapsed: 48.5min\n",
      "[Parallel(n_jobs=4)]: Done 2584 tasks      | elapsed: 62.2min\n",
      "[Parallel(n_jobs=4)]: Done 3192 tasks      | elapsed: 77.3min\n",
      "[Parallel(n_jobs=4)]: Done 3864 tasks      | elapsed: 85.8min\n",
      "[Parallel(n_jobs=4)]: Done 4600 tasks      | elapsed: 95.9min\n",
      "[Parallel(n_jobs=4)]: Done 5000 out of 5000 | elapsed: 100.8min finished\n"
     ]
    },
    {
     "name": "stdout",
     "output_type": "stream",
     "text": [
      "Best parameter (CV score=0.853):\n",
      "{'pca__n_components': 0.6, 'rf__bootstrap': True, 'rf__max_features': 0.8, 'rf__min_samples_leaf': 12, 'rf__min_samples_split': 2, 'rf__n_estimators': 60}\n"
     ]
    }
   ],
   "source": [
    "pipe = Pipeline([\n",
    "  ('scaler', StandardScaler()),\n",
    "  ('pca', PCA(svd_solver='full')),    \n",
    "  ('rf', RandomForestClassifier(random_state=1))\n",
    "])\n",
    "\n",
    "parameters = {\n",
    "    'pca__n_components': [0.6, 0.7, 0.75, 0.8, 0.9],    \n",
    "    'rf__bootstrap': [True], \n",
    "    'rf__n_estimators': [30, 60, 70, 80, 90], \n",
    "    'rf__max_features': [0.6, 0.65, 0.7, 0.75, 0.8], \n",
    "    \"rf__min_samples_leaf\":  [6, 8, 10, 12, 14], \n",
    "    \"rf__min_samples_split\" : [2, 3, 5, 7]    \n",
    "}\n",
    "\n",
    "grid_search_rf_pca = GridSearchCV(pipe, parameters, n_jobs=4,cv=2, return_train_score=False, verbose=3, scoring='accuracy')\n",
    "grid_search_rf_pca.fit(train_df, train_target.sample_type.astype('int'))\n",
    "\n",
    "print(\"Best parameter (CV score=%0.3f):\" % grid_search_rf_pca.best_score_)\n",
    "print(grid_search_rf_pca.best_params_)"
   ]
  },
  {
   "cell_type": "code",
   "execution_count": 32,
   "metadata": {},
   "outputs": [
    {
     "data": {
      "text/plain": [
       "Pipeline(steps=[('scaler', StandardScaler()),\n",
       "                ('pca', PCA(n_components=0.6, svd_solver='full')),\n",
       "                ('rf',\n",
       "                 RandomForestClassifier(max_features=0.8, min_samples_leaf=12,\n",
       "                                        n_estimators=60, random_state=1))])"
      ]
     },
     "execution_count": 32,
     "metadata": {},
     "output_type": "execute_result"
    }
   ],
   "source": [
    "grid_search_rf_pca.best_estimator_"
   ]
  },
  {
   "cell_type": "code",
   "execution_count": 33,
   "metadata": {},
   "outputs": [
    {
     "name": "stdout",
     "output_type": "stream",
     "text": [
      "Random Forest accuracy: 0.829\n"
     ]
    },
    {
     "data": {
      "text/plain": [
       "[Text(0, 0.5, 'Primary Tumor'), Text(0, 1.5, 'Metastatic')]"
      ]
     },
     "execution_count": 33,
     "metadata": {},
     "output_type": "execute_result"
    },
    {
     "data": {
      "image/png": "[encoded data removed]",
      "text/plain": [
       "<Figure size 432x288 with 2 Axes>"
      ]
     },
     "metadata": {
      "needs_background": "light"
     },
     "output_type": "display_data"
    }
   ],
   "source": [
    "rf_model = grid_search_rf_pca.best_estimator_\n",
    "\n",
    "rf_pred = grid_search_rf_pca.predict(test_df)\n",
    "\n",
    "print('Random Forest accuracy:', round(accuracy_score(test_target.sample_type.astype('int'), rf_pred), 3))\n",
    "\n",
    "cm_rf = confusion_matrix(test_target.sample_type.astype('int'), rf_pred)\n",
    "\n",
    "ax = plt.subplot()\n",
    "sns.heatmap(cm_rf, annot=True, ax = ax, fmt='g', cmap='Greens') \n",
    "labels = ['Primary Tumor', 'Metastatic']\n",
    "ax.set_xlabel('Predicted labels')\n",
    "ax.set_ylabel('True labels') \n",
    "ax.set_title('Random Forest Confusion Matrix') \n",
    "ax.xaxis.set_ticklabels(labels) \n",
    "ax.yaxis.set_ticklabels(labels, rotation=360)"
   ]
  },
  {
   "cell_type": "code",
   "execution_count": 34,
   "metadata": {},
   "outputs": [
    {
     "data": {
      "image/png": "[encoded data removed]",
      "text/plain": [
       "<Figure size 432x288 with 1 Axes>"
      ]
     },
     "metadata": {
      "needs_background": "light"
     },
     "output_type": "display_data"
    }
   ],
   "source": [
    "rf_model = grid_search_rf_pca.best_estimator_\n",
    "rf_pred_proba = rf_model.predict_proba(test_df)[::,1]\n",
    "fpr, tpr, _ = roc_curve(test_target.sample_type.astype('int'),  rf_pred_proba)\n",
    "auc = roc_auc_score(test_target.sample_type.astype('int'), rf_pred_proba)\n",
    "plt.plot(fpr,tpr,label=\"Random Forest, auc=\"+str(auc))\n",
    "plt.ylabel(\"True Positive Rate\")\n",
    "plt.xlabel(\"False Positive Rate\")\n",
    "plt.legend(loc=4)\n",
    "plt.show()"
   ]
  },
  {
   "cell_type": "code",
   "execution_count": 35,
   "metadata": {},
   "outputs": [
    {
     "name": "stdout",
     "output_type": "stream",
     "text": [
      "0.4393469168841925\n"
     ]
    }
   ],
   "source": [
    "rf_model = grid_search_rf_pca.best_estimator_\n",
    "rf_pred_proba = rf_model.predict_proba(test_df)[::,1]\n",
    "log_loss_score = log_loss(test_target.sample_type.astype('int'),  rf_pred_proba)\n",
    "print(log_loss_score)"
   ]
  },
  {
   "cell_type": "markdown",
   "metadata": {},
   "source": [
    "### Weights"
   ]
  },
  {
   "cell_type": "code",
   "execution_count": 36,
   "metadata": {},
   "outputs": [
    {
     "data": {
      "text/html": [
       "<div>\n",
       "<style scoped>\n",
       "    .dataframe tbody tr th:only-of-type {\n",
       "        vertical-align: middle;\n",
       "    }\n",
       "\n",
       "    .dataframe tbody tr th {\n",
       "        vertical-align: top;\n",
       "    }\n",
       "\n",
       "    .dataframe thead th {\n",
       "        text-align: right;\n",
       "    }\n",
       "</style>\n",
       "<table border=\"1\" class=\"dataframe\">\n",
       "  <thead>\n",
       "    <tr style=\"text-align: right;\">\n",
       "      <th></th>\n",
       "      <th>weights</th>\n",
       "    </tr>\n",
       "  </thead>\n",
       "  <tbody>\n",
       "    <tr>\n",
       "      <th>C7</th>\n",
       "      <td>0.532291</td>\n",
       "    </tr>\n",
       "    <tr>\n",
       "      <th>FILIP1</th>\n",
       "      <td>0.207911</td>\n",
       "    </tr>\n",
       "    <tr>\n",
       "      <th>NFATC3</th>\n",
       "      <td>0.154544</td>\n",
       "    </tr>\n",
       "    <tr>\n",
       "      <th>MECOM</th>\n",
       "      <td>0.104941</td>\n",
       "    </tr>\n",
       "    <tr>\n",
       "      <th>FLT1</th>\n",
       "      <td>0.030071</td>\n",
       "    </tr>\n",
       "    <tr>\n",
       "      <th>INHBB</th>\n",
       "      <td>0.020548</td>\n",
       "    </tr>\n",
       "    <tr>\n",
       "      <th>MGC23284</th>\n",
       "      <td>0.014820</td>\n",
       "    </tr>\n",
       "    <tr>\n",
       "      <th>ACER2</th>\n",
       "      <td>0.003113</td>\n",
       "    </tr>\n",
       "    <tr>\n",
       "      <th>CLIC5</th>\n",
       "      <td>0.000073</td>\n",
       "    </tr>\n",
       "    <tr>\n",
       "      <th>GPR173</th>\n",
       "      <td>0.000000</td>\n",
       "    </tr>\n",
       "    <tr>\n",
       "      <th>PHF2</th>\n",
       "      <td>0.000000</td>\n",
       "    </tr>\n",
       "    <tr>\n",
       "      <th>SERP2</th>\n",
       "      <td>0.000000</td>\n",
       "    </tr>\n",
       "    <tr>\n",
       "      <th>PHF7</th>\n",
       "      <td>0.000000</td>\n",
       "    </tr>\n",
       "    <tr>\n",
       "      <th>GPR176</th>\n",
       "      <td>0.000000</td>\n",
       "    </tr>\n",
       "    <tr>\n",
       "      <th>VPS28</th>\n",
       "      <td>0.000000</td>\n",
       "    </tr>\n",
       "    <tr>\n",
       "      <th>GPR171</th>\n",
       "      <td>0.000000</td>\n",
       "    </tr>\n",
       "    <tr>\n",
       "      <th>C2CD4A</th>\n",
       "      <td>0.000000</td>\n",
       "    </tr>\n",
       "    <tr>\n",
       "      <th>C2CD4B</th>\n",
       "      <td>0.000000</td>\n",
       "    </tr>\n",
       "    <tr>\n",
       "      <th>PPT1</th>\n",
       "      <td>0.000000</td>\n",
       "    </tr>\n",
       "    <tr>\n",
       "      <th>C2CD4C</th>\n",
       "      <td>0.000000</td>\n",
       "    </tr>\n",
       "  </tbody>\n",
       "</table>\n",
       "</div>"
      ],
      "text/plain": [
       "           weights\n",
       "C7        0.532291\n",
       "FILIP1    0.207911\n",
       "NFATC3    0.154544\n",
       "MECOM     0.104941\n",
       "FLT1      0.030071\n",
       "INHBB     0.020548\n",
       "MGC23284  0.014820\n",
       "ACER2     0.003113\n",
       "CLIC5     0.000073\n",
       "GPR173    0.000000\n",
       "PHF2      0.000000\n",
       "SERP2     0.000000\n",
       "PHF7      0.000000\n",
       "GPR176    0.000000\n",
       "VPS28     0.000000\n",
       "GPR171    0.000000\n",
       "C2CD4A    0.000000\n",
       "C2CD4B    0.000000\n",
       "PPT1      0.000000\n",
       "C2CD4C    0.000000"
      ]
     },
     "execution_count": 36,
     "metadata": {},
     "output_type": "execute_result"
    }
   ],
   "source": [
    "lr_model = grid_search_feature_lr.best_estimator_\n",
    "lr_weights_df = pd.DataFrame(lr_model[1].coef_[0])\n",
    "lr_weights_df.index = train_df.columns\n",
    "lr_weights_df.columns = [\"weights\"]\n",
    "lr_weights_df.sort_values(by=['weights'], inplace=True, ascending=False)\n",
    "lr_weights_df.head(20)"
   ]
  },
  {
   "cell_type": "code",
   "execution_count": 37,
   "metadata": {},
   "outputs": [
    {
     "data": {
      "text/html": [
       "<div>\n",
       "<style scoped>\n",
       "    .dataframe tbody tr th:only-of-type {\n",
       "        vertical-align: middle;\n",
       "    }\n",
       "\n",
       "    .dataframe tbody tr th {\n",
       "        vertical-align: top;\n",
       "    }\n",
       "\n",
       "    .dataframe thead th {\n",
       "        text-align: right;\n",
       "    }\n",
       "</style>\n",
       "<table border=\"1\" class=\"dataframe\">\n",
       "  <thead>\n",
       "    <tr style=\"text-align: right;\">\n",
       "      <th></th>\n",
       "      <th>weights</th>\n",
       "    </tr>\n",
       "  </thead>\n",
       "  <tbody>\n",
       "    <tr>\n",
       "      <th>SLC26A6</th>\n",
       "      <td>8103.326978</td>\n",
       "    </tr>\n",
       "    <tr>\n",
       "      <th>TRMU</th>\n",
       "      <td>7732.442254</td>\n",
       "    </tr>\n",
       "    <tr>\n",
       "      <th>LOC440957</th>\n",
       "      <td>7693.846730</td>\n",
       "    </tr>\n",
       "    <tr>\n",
       "      <th>LOC729991</th>\n",
       "      <td>7582.300669</td>\n",
       "    </tr>\n",
       "    <tr>\n",
       "      <th>TMEM115</th>\n",
       "      <td>7491.519153</td>\n",
       "    </tr>\n",
       "    <tr>\n",
       "      <th>ZMYND19</th>\n",
       "      <td>7323.814052</td>\n",
       "    </tr>\n",
       "    <tr>\n",
       "      <th>AGPAT2</th>\n",
       "      <td>7222.234083</td>\n",
       "    </tr>\n",
       "    <tr>\n",
       "      <th>PPFIA3</th>\n",
       "      <td>7212.340776</td>\n",
       "    </tr>\n",
       "    <tr>\n",
       "      <th>MMP17</th>\n",
       "      <td>7164.239397</td>\n",
       "    </tr>\n",
       "    <tr>\n",
       "      <th>DGCR6</th>\n",
       "      <td>7124.385990</td>\n",
       "    </tr>\n",
       "  </tbody>\n",
       "</table>\n",
       "</div>"
      ],
      "text/plain": [
       "               weights\n",
       "SLC26A6    8103.326978\n",
       "TRMU       7732.442254\n",
       "LOC440957  7693.846730\n",
       "LOC729991  7582.300669\n",
       "TMEM115    7491.519153\n",
       "ZMYND19    7323.814052\n",
       "AGPAT2     7222.234083\n",
       "PPFIA3     7212.340776\n",
       "MMP17      7164.239397\n",
       "DGCR6      7124.385990"
      ]
     },
     "execution_count": 37,
     "metadata": {},
     "output_type": "execute_result"
    }
   ],
   "source": [
    "svm_model = grid_search_feature_svm.best_estimator_\n",
    "importances = np.dot(svm_model[1].support_,svm_model[1].support_vectors_)\n",
    "svm_weights_df = pd.DataFrame(importances)\n",
    "svm_weights_df.index = train_df.columns\n",
    "svm_weights_df.columns = [\"weights\"]\n",
    "svm_weights_df.sort_values(by=['weights'], inplace=True, ascending=False)\n",
    "svm_weights_df.head(10)"
   ]
  },
  {
   "cell_type": "code",
   "execution_count": 38,
   "metadata": {},
   "outputs": [
    {
     "data": {
      "text/html": [
       "<div>\n",
       "<style scoped>\n",
       "    .dataframe tbody tr th:only-of-type {\n",
       "        vertical-align: middle;\n",
       "    }\n",
       "\n",
       "    .dataframe tbody tr th {\n",
       "        vertical-align: top;\n",
       "    }\n",
       "\n",
       "    .dataframe thead th {\n",
       "        text-align: right;\n",
       "    }\n",
       "</style>\n",
       "<table border=\"1\" class=\"dataframe\">\n",
       "  <thead>\n",
       "    <tr style=\"text-align: right;\">\n",
       "      <th></th>\n",
       "      <th>weights</th>\n",
       "    </tr>\n",
       "  </thead>\n",
       "  <tbody>\n",
       "    <tr>\n",
       "      <th>KRT17</th>\n",
       "      <td>0.257244</td>\n",
       "    </tr>\n",
       "    <tr>\n",
       "      <th>S100A7</th>\n",
       "      <td>0.118814</td>\n",
       "    </tr>\n",
       "    <tr>\n",
       "      <th>C7</th>\n",
       "      <td>0.098416</td>\n",
       "    </tr>\n",
       "    <tr>\n",
       "      <th>KRT6B</th>\n",
       "      <td>0.092514</td>\n",
       "    </tr>\n",
       "    <tr>\n",
       "      <th>KRT14</th>\n",
       "      <td>0.046584</td>\n",
       "    </tr>\n",
       "    <tr>\n",
       "      <th>MECOM</th>\n",
       "      <td>0.020924</td>\n",
       "    </tr>\n",
       "    <tr>\n",
       "      <th>KRT75</th>\n",
       "      <td>0.019791</td>\n",
       "    </tr>\n",
       "    <tr>\n",
       "      <th>KLK5</th>\n",
       "      <td>0.018963</td>\n",
       "    </tr>\n",
       "    <tr>\n",
       "      <th>CNGB1</th>\n",
       "      <td>0.018780</td>\n",
       "    </tr>\n",
       "    <tr>\n",
       "      <th>pathologic_stage_Stage IIC</th>\n",
       "      <td>0.014850</td>\n",
       "    </tr>\n",
       "  </tbody>\n",
       "</table>\n",
       "</div>"
      ],
      "text/plain": [
       "                             weights\n",
       "KRT17                       0.257244\n",
       "S100A7                      0.118814\n",
       "C7                          0.098416\n",
       "KRT6B                       0.092514\n",
       "KRT14                       0.046584\n",
       "MECOM                       0.020924\n",
       "KRT75                       0.019791\n",
       "KLK5                        0.018963\n",
       "CNGB1                       0.018780\n",
       "pathologic_stage_Stage IIC  0.014850"
      ]
     },
     "execution_count": 38,
     "metadata": {},
     "output_type": "execute_result"
    }
   ],
   "source": [
    "rf_model = grid_search_feature_rf.best_estimator_\n",
    "rf_weights_df = pd.DataFrame(rf_model[1].feature_importances_)\n",
    "rf_weights_df.index = train_df.columns\n",
    "rf_weights_df.columns = [\"weights\"]\n",
    "rf_weights_df.sort_values(by=['weights'], inplace=True, ascending=False)\n",
    "rf_weights_df.head(10)"
   ]
  },
  {
   "cell_type": "code",
   "execution_count": 39,
   "metadata": {},
   "outputs": [
    {
     "data": {
      "text/html": [
       "<div>\n",
       "<style scoped>\n",
       "    .dataframe tbody tr th:only-of-type {\n",
       "        vertical-align: middle;\n",
       "    }\n",
       "\n",
       "    .dataframe tbody tr th {\n",
       "        vertical-align: top;\n",
       "    }\n",
       "\n",
       "    .dataframe thead th {\n",
       "        text-align: right;\n",
       "    }\n",
       "</style>\n",
       "<table border=\"1\" class=\"dataframe\">\n",
       "  <thead>\n",
       "    <tr style=\"text-align: right;\">\n",
       "      <th></th>\n",
       "      <th>Logistic Regression</th>\n",
       "      <th>Support Vector Machines</th>\n",
       "      <th>Random Forest</th>\n",
       "    </tr>\n",
       "  </thead>\n",
       "  <tbody>\n",
       "    <tr>\n",
       "      <th>C7</th>\n",
       "      <td>0.532291</td>\n",
       "      <td>-5713.329457</td>\n",
       "      <td>0.098416</td>\n",
       "    </tr>\n",
       "    <tr>\n",
       "      <th>FILIP1</th>\n",
       "      <td>0.207911</td>\n",
       "      <td>-5763.709079</td>\n",
       "      <td>0.001264</td>\n",
       "    </tr>\n",
       "    <tr>\n",
       "      <th>NFATC3</th>\n",
       "      <td>0.154544</td>\n",
       "      <td>-7610.096821</td>\n",
       "      <td>0.010255</td>\n",
       "    </tr>\n",
       "    <tr>\n",
       "      <th>MECOM</th>\n",
       "      <td>0.104941</td>\n",
       "      <td>-3127.734990</td>\n",
       "      <td>0.020924</td>\n",
       "    </tr>\n",
       "    <tr>\n",
       "      <th>FLT1</th>\n",
       "      <td>0.030071</td>\n",
       "      <td>-3056.864950</td>\n",
       "      <td>0.000000</td>\n",
       "    </tr>\n",
       "    <tr>\n",
       "      <th>INHBB</th>\n",
       "      <td>0.020548</td>\n",
       "      <td>-18.115722</td>\n",
       "      <td>0.000000</td>\n",
       "    </tr>\n",
       "    <tr>\n",
       "      <th>MGC23284</th>\n",
       "      <td>0.014820</td>\n",
       "      <td>3017.464351</td>\n",
       "      <td>0.000000</td>\n",
       "    </tr>\n",
       "    <tr>\n",
       "      <th>ACER2</th>\n",
       "      <td>0.003113</td>\n",
       "      <td>-3419.152150</td>\n",
       "      <td>0.000000</td>\n",
       "    </tr>\n",
       "    <tr>\n",
       "      <th>CLIC5</th>\n",
       "      <td>0.000073</td>\n",
       "      <td>-6441.242217</td>\n",
       "      <td>0.004864</td>\n",
       "    </tr>\n",
       "    <tr>\n",
       "      <th>GPR173</th>\n",
       "      <td>0.000000</td>\n",
       "      <td>1006.909041</td>\n",
       "      <td>0.000000</td>\n",
       "    </tr>\n",
       "    <tr>\n",
       "      <th>PHF2</th>\n",
       "      <td>0.000000</td>\n",
       "      <td>1244.522017</td>\n",
       "      <td>0.000000</td>\n",
       "    </tr>\n",
       "    <tr>\n",
       "      <th>SERP2</th>\n",
       "      <td>0.000000</td>\n",
       "      <td>3404.217441</td>\n",
       "      <td>0.001952</td>\n",
       "    </tr>\n",
       "    <tr>\n",
       "      <th>PHF7</th>\n",
       "      <td>0.000000</td>\n",
       "      <td>3913.682898</td>\n",
       "      <td>0.000000</td>\n",
       "    </tr>\n",
       "    <tr>\n",
       "      <th>GPR176</th>\n",
       "      <td>0.000000</td>\n",
       "      <td>-3887.424814</td>\n",
       "      <td>0.000000</td>\n",
       "    </tr>\n",
       "    <tr>\n",
       "      <th>VPS28</th>\n",
       "      <td>0.000000</td>\n",
       "      <td>4024.929721</td>\n",
       "      <td>0.000000</td>\n",
       "    </tr>\n",
       "    <tr>\n",
       "      <th>GPR171</th>\n",
       "      <td>0.000000</td>\n",
       "      <td>-5451.827103</td>\n",
       "      <td>0.000000</td>\n",
       "    </tr>\n",
       "    <tr>\n",
       "      <th>C2CD4A</th>\n",
       "      <td>0.000000</td>\n",
       "      <td>-720.989045</td>\n",
       "      <td>0.000000</td>\n",
       "    </tr>\n",
       "    <tr>\n",
       "      <th>C2CD4B</th>\n",
       "      <td>0.000000</td>\n",
       "      <td>-1623.509245</td>\n",
       "      <td>0.000000</td>\n",
       "    </tr>\n",
       "    <tr>\n",
       "      <th>PPT1</th>\n",
       "      <td>0.000000</td>\n",
       "      <td>-2571.451742</td>\n",
       "      <td>0.000000</td>\n",
       "    </tr>\n",
       "    <tr>\n",
       "      <th>C2CD4C</th>\n",
       "      <td>0.000000</td>\n",
       "      <td>2472.609383</td>\n",
       "      <td>0.000000</td>\n",
       "    </tr>\n",
       "  </tbody>\n",
       "</table>\n",
       "</div>"
      ],
      "text/plain": [
       "          Logistic Regression  Support Vector Machines  Random Forest\n",
       "C7                   0.532291             -5713.329457       0.098416\n",
       "FILIP1               0.207911             -5763.709079       0.001264\n",
       "NFATC3               0.154544             -7610.096821       0.010255\n",
       "MECOM                0.104941             -3127.734990       0.020924\n",
       "FLT1                 0.030071             -3056.864950       0.000000\n",
       "INHBB                0.020548               -18.115722       0.000000\n",
       "MGC23284             0.014820              3017.464351       0.000000\n",
       "ACER2                0.003113             -3419.152150       0.000000\n",
       "CLIC5                0.000073             -6441.242217       0.004864\n",
       "GPR173               0.000000              1006.909041       0.000000\n",
       "PHF2                 0.000000              1244.522017       0.000000\n",
       "SERP2                0.000000              3404.217441       0.001952\n",
       "PHF7                 0.000000              3913.682898       0.000000\n",
       "GPR176               0.000000             -3887.424814       0.000000\n",
       "VPS28                0.000000              4024.929721       0.000000\n",
       "GPR171               0.000000             -5451.827103       0.000000\n",
       "C2CD4A               0.000000              -720.989045       0.000000\n",
       "C2CD4B               0.000000             -1623.509245       0.000000\n",
       "PPT1                 0.000000             -2571.451742       0.000000\n",
       "C2CD4C               0.000000              2472.609383       0.000000"
      ]
     },
     "execution_count": 39,
     "metadata": {},
     "output_type": "execute_result"
    }
   ],
   "source": [
    "weights = lr_weights_df.merge(svm_weights_df,left_index=True, right_index=True)\n",
    "weights = weights.merge(rf_weights_df,left_index=True, right_index=True)\n",
    "weights.columns = [\"Logistic Regression\", \"Support Vector Machines\",\"Random Forest\"]\n",
    "weights.head(20)"
   ]
  },
  {
   "cell_type": "code",
   "execution_count": 40,
   "metadata": {},
   "outputs": [],
   "source": [
    "weights.to_csv('../data/Melanoma_ALL_classifier_[WITHOUT PCA]_weights_all_data.csv')"
   ]
  },
  {
   "cell_type": "code",
   "execution_count": null,
   "metadata": {},
   "outputs": [],
   "source": []
  }
 ],
 "metadata": {
  "kernelspec": {
   "display_name": "Python 3",
   "language": "python",
   "name": "python3"
  },
  "language_info": {
   "codemirror_mode": {
    "name": "ipython",
    "version": 3
   },
   "file_extension": ".py",
   "mimetype": "text/x-python",
   "name": "python",
   "nbconvert_exporter": "python",
   "pygments_lexer": "ipython3",
   "version": "3.7.9"
  }
 },
 "nbformat": 4,
 "nbformat_minor": 4
}
