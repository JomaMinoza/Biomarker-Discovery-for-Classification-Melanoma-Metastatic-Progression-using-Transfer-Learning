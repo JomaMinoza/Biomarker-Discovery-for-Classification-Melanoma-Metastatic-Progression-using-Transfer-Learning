{
 "cells": [
  {
   "cell_type": "code",
   "execution_count": 1,
   "metadata": {},
   "outputs": [],
   "source": [
    "import os\n",
    "import numpy as np\n",
    "import pandas as pd\n",
    "\n",
    "import matplotlib.pyplot as plt\n",
    "import seaborn as sns\n",
    "from mpl_toolkits.mplot3d import Axes3D\n",
    "%matplotlib inline\n",
    "\n",
    "from sklearn.pipeline import Pipeline\n",
    "from sklearn.decomposition import PCA\n",
    "from sklearn.preprocessing import StandardScaler\n",
    "from sklearn.model_selection import GridSearchCV\n",
    "from sklearn.feature_selection import SelectFromModel\n",
    "from sklearn.svm import LinearSVC, SVC\n",
    "from sklearn.linear_model import LogisticRegression\n",
    "from sklearn.tree import DecisionTreeClassifier, plot_tree, export_graphviz\n",
    "from sklearn.ensemble import RandomForestClassifier\n",
    "from sklearn.metrics import accuracy_score, confusion_matrix, roc_curve, auc, roc_auc_score\n",
    "from sklearn.metrics import log_loss"
   ]
  },
  {
   "cell_type": "code",
   "execution_count": 2,
   "metadata": {},
   "outputs": [
    {
     "data": {
      "text/html": [
       "<div>\n",
       "<style scoped>\n",
       "    .dataframe tbody tr th:only-of-type {\n",
       "        vertical-align: middle;\n",
       "    }\n",
       "\n",
       "    .dataframe tbody tr th {\n",
       "        vertical-align: top;\n",
       "    }\n",
       "\n",
       "    .dataframe thead th {\n",
       "        text-align: right;\n",
       "    }\n",
       "</style>\n",
       "<table border=\"1\" class=\"dataframe\">\n",
       "  <thead>\n",
       "    <tr style=\"text-align: right;\">\n",
       "      <th></th>\n",
       "      <th>sample_type</th>\n",
       "      <th>bmi</th>\n",
       "      <th>age_at_index</th>\n",
       "      <th>A1BG</th>\n",
       "      <th>A2M</th>\n",
       "      <th>NAT1</th>\n",
       "      <th>NAT2</th>\n",
       "      <th>RP11-986E7.7</th>\n",
       "      <th>AADAC</th>\n",
       "      <th>AAMP</th>\n",
       "      <th>...</th>\n",
       "      <th>TICAM2.2</th>\n",
       "      <th>TICAM2.3</th>\n",
       "      <th>SLC25A5-AS1</th>\n",
       "      <th>gender_male</th>\n",
       "      <th>ethnicity_not hispanic or latino</th>\n",
       "      <th>ethnicity_not reported</th>\n",
       "      <th>treatments_pharmaceutical_treatment_or_therapy_not reported</th>\n",
       "      <th>treatments_pharmaceutical_treatment_or_therapy_yes</th>\n",
       "      <th>treatments_radiation_treatment_or_therapy_not reported</th>\n",
       "      <th>treatments_radiation_treatment_or_therapy_yes</th>\n",
       "    </tr>\n",
       "    <tr>\n",
       "      <th>submitter_id</th>\n",
       "      <th></th>\n",
       "      <th></th>\n",
       "      <th></th>\n",
       "      <th></th>\n",
       "      <th></th>\n",
       "      <th></th>\n",
       "      <th></th>\n",
       "      <th></th>\n",
       "      <th></th>\n",
       "      <th></th>\n",
       "      <th></th>\n",
       "      <th></th>\n",
       "      <th></th>\n",
       "      <th></th>\n",
       "      <th></th>\n",
       "      <th></th>\n",
       "      <th></th>\n",
       "      <th></th>\n",
       "      <th></th>\n",
       "      <th></th>\n",
       "      <th></th>\n",
       "    </tr>\n",
       "  </thead>\n",
       "  <tbody>\n",
       "    <tr>\n",
       "      <th>TCGA-EB-A41B</th>\n",
       "      <td>0</td>\n",
       "      <td>23.555556</td>\n",
       "      <td>76.0</td>\n",
       "      <td>801.3332</td>\n",
       "      <td>6238.8730</td>\n",
       "      <td>27.0198</td>\n",
       "      <td>0.0000</td>\n",
       "      <td>13.1544</td>\n",
       "      <td>0.0000</td>\n",
       "      <td>4371.1670</td>\n",
       "      <td>...</td>\n",
       "      <td>30.9270</td>\n",
       "      <td>87.9140</td>\n",
       "      <td>34.4858</td>\n",
       "      <td>0</td>\n",
       "      <td>1</td>\n",
       "      <td>0</td>\n",
       "      <td>0</td>\n",
       "      <td>0</td>\n",
       "      <td>0</td>\n",
       "      <td>0</td>\n",
       "    </tr>\n",
       "    <tr>\n",
       "      <th>TCGA-BF-A1PX</th>\n",
       "      <td>0</td>\n",
       "      <td>25.469388</td>\n",
       "      <td>56.0</td>\n",
       "      <td>285.0608</td>\n",
       "      <td>32098.0014</td>\n",
       "      <td>42.7529</td>\n",
       "      <td>0.3476</td>\n",
       "      <td>7407.3688</td>\n",
       "      <td>5.9089</td>\n",
       "      <td>3306.2218</td>\n",
       "      <td>...</td>\n",
       "      <td>122.0021</td>\n",
       "      <td>0.0000</td>\n",
       "      <td>14.2510</td>\n",
       "      <td>1</td>\n",
       "      <td>1</td>\n",
       "      <td>0</td>\n",
       "      <td>0</td>\n",
       "      <td>0</td>\n",
       "      <td>0</td>\n",
       "      <td>0</td>\n",
       "    </tr>\n",
       "    <tr>\n",
       "      <th>TCGA-EE-A3JI</th>\n",
       "      <td>1</td>\n",
       "      <td>32.782274</td>\n",
       "      <td>48.0</td>\n",
       "      <td>229.8379</td>\n",
       "      <td>4089.7681</td>\n",
       "      <td>17.4564</td>\n",
       "      <td>0.0000</td>\n",
       "      <td>18.4539</td>\n",
       "      <td>0.4988</td>\n",
       "      <td>2979.8005</td>\n",
       "      <td>...</td>\n",
       "      <td>20.9526</td>\n",
       "      <td>118.6209</td>\n",
       "      <td>17.2070</td>\n",
       "      <td>1</td>\n",
       "      <td>1</td>\n",
       "      <td>0</td>\n",
       "      <td>0</td>\n",
       "      <td>1</td>\n",
       "      <td>0</td>\n",
       "      <td>1</td>\n",
       "    </tr>\n",
       "    <tr>\n",
       "      <th>TCGA-EB-A431</th>\n",
       "      <td>0</td>\n",
       "      <td>21.453287</td>\n",
       "      <td>34.0</td>\n",
       "      <td>156.7812</td>\n",
       "      <td>31343.0448</td>\n",
       "      <td>86.9943</td>\n",
       "      <td>0.0000</td>\n",
       "      <td>110.4828</td>\n",
       "      <td>0.0000</td>\n",
       "      <td>2107.0030</td>\n",
       "      <td>...</td>\n",
       "      <td>0.0000</td>\n",
       "      <td>96.9856</td>\n",
       "      <td>56.9813</td>\n",
       "      <td>1</td>\n",
       "      <td>1</td>\n",
       "      <td>0</td>\n",
       "      <td>0</td>\n",
       "      <td>0</td>\n",
       "      <td>0</td>\n",
       "      <td>0</td>\n",
       "    </tr>\n",
       "    <tr>\n",
       "      <th>TCGA-FS-A1ZA</th>\n",
       "      <td>1</td>\n",
       "      <td>29.832059</td>\n",
       "      <td>45.0</td>\n",
       "      <td>187.8586</td>\n",
       "      <td>66065.9201</td>\n",
       "      <td>20.9874</td>\n",
       "      <td>0.0000</td>\n",
       "      <td>28392.1144</td>\n",
       "      <td>2.9982</td>\n",
       "      <td>2052.2722</td>\n",
       "      <td>...</td>\n",
       "      <td>171.9381</td>\n",
       "      <td>145.8777</td>\n",
       "      <td>24.5853</td>\n",
       "      <td>0</td>\n",
       "      <td>1</td>\n",
       "      <td>0</td>\n",
       "      <td>0</td>\n",
       "      <td>0</td>\n",
       "      <td>0</td>\n",
       "      <td>0</td>\n",
       "    </tr>\n",
       "  </tbody>\n",
       "</table>\n",
       "<p>5 rows × 19827 columns</p>\n",
       "</div>"
      ],
      "text/plain": [
       "              sample_type        bmi  age_at_index      A1BG         A2M  \\\n",
       "submitter_id                                                               \n",
       "TCGA-EB-A41B            0  23.555556          76.0  801.3332   6238.8730   \n",
       "TCGA-BF-A1PX            0  25.469388          56.0  285.0608  32098.0014   \n",
       "TCGA-EE-A3JI            1  32.782274          48.0  229.8379   4089.7681   \n",
       "TCGA-EB-A431            0  21.453287          34.0  156.7812  31343.0448   \n",
       "TCGA-FS-A1ZA            1  29.832059          45.0  187.8586  66065.9201   \n",
       "\n",
       "                 NAT1    NAT2  RP11-986E7.7   AADAC       AAMP  ...  TICAM2.2  \\\n",
       "submitter_id                                                    ...             \n",
       "TCGA-EB-A41B  27.0198  0.0000       13.1544  0.0000  4371.1670  ...   30.9270   \n",
       "TCGA-BF-A1PX  42.7529  0.3476     7407.3688  5.9089  3306.2218  ...  122.0021   \n",
       "TCGA-EE-A3JI  17.4564  0.0000       18.4539  0.4988  2979.8005  ...   20.9526   \n",
       "TCGA-EB-A431  86.9943  0.0000      110.4828  0.0000  2107.0030  ...    0.0000   \n",
       "TCGA-FS-A1ZA  20.9874  0.0000    28392.1144  2.9982  2052.2722  ...  171.9381   \n",
       "\n",
       "              TICAM2.3  SLC25A5-AS1  gender_male  \\\n",
       "submitter_id                                       \n",
       "TCGA-EB-A41B   87.9140      34.4858            0   \n",
       "TCGA-BF-A1PX    0.0000      14.2510            1   \n",
       "TCGA-EE-A3JI  118.6209      17.2070            1   \n",
       "TCGA-EB-A431   96.9856      56.9813            1   \n",
       "TCGA-FS-A1ZA  145.8777      24.5853            0   \n",
       "\n",
       "              ethnicity_not hispanic or latino  ethnicity_not reported  \\\n",
       "submitter_id                                                             \n",
       "TCGA-EB-A41B                                 1                       0   \n",
       "TCGA-BF-A1PX                                 1                       0   \n",
       "TCGA-EE-A3JI                                 1                       0   \n",
       "TCGA-EB-A431                                 1                       0   \n",
       "TCGA-FS-A1ZA                                 1                       0   \n",
       "\n",
       "              treatments_pharmaceutical_treatment_or_therapy_not reported  \\\n",
       "submitter_id                                                                \n",
       "TCGA-EB-A41B                                                  0             \n",
       "TCGA-BF-A1PX                                                  0             \n",
       "TCGA-EE-A3JI                                                  0             \n",
       "TCGA-EB-A431                                                  0             \n",
       "TCGA-FS-A1ZA                                                  0             \n",
       "\n",
       "              treatments_pharmaceutical_treatment_or_therapy_yes  \\\n",
       "submitter_id                                                       \n",
       "TCGA-EB-A41B                                                  0    \n",
       "TCGA-BF-A1PX                                                  0    \n",
       "TCGA-EE-A3JI                                                  1    \n",
       "TCGA-EB-A431                                                  0    \n",
       "TCGA-FS-A1ZA                                                  0    \n",
       "\n",
       "              treatments_radiation_treatment_or_therapy_not reported  \\\n",
       "submitter_id                                                           \n",
       "TCGA-EB-A41B                                                  0        \n",
       "TCGA-BF-A1PX                                                  0        \n",
       "TCGA-EE-A3JI                                                  0        \n",
       "TCGA-EB-A431                                                  0        \n",
       "TCGA-FS-A1ZA                                                  0        \n",
       "\n",
       "              treatments_radiation_treatment_or_therapy_yes  \n",
       "submitter_id                                                 \n",
       "TCGA-EB-A41B                                              0  \n",
       "TCGA-BF-A1PX                                              0  \n",
       "TCGA-EE-A3JI                                              1  \n",
       "TCGA-EB-A431                                              0  \n",
       "TCGA-FS-A1ZA                                              0  \n",
       "\n",
       "[5 rows x 19827 columns]"
      ]
     },
     "execution_count": 2,
     "metadata": {},
     "output_type": "execute_result"
    }
   ],
   "source": [
    "train_df = pd.read_csv('../data/TCGA-SKCM_train_unresampled.csv',index_col=0)\n",
    "train_df.head()"
   ]
  },
  {
   "cell_type": "code",
   "execution_count": 3,
   "metadata": {},
   "outputs": [
    {
     "data": {
      "text/html": [
       "<div>\n",
       "<style scoped>\n",
       "    .dataframe tbody tr th:only-of-type {\n",
       "        vertical-align: middle;\n",
       "    }\n",
       "\n",
       "    .dataframe tbody tr th {\n",
       "        vertical-align: top;\n",
       "    }\n",
       "\n",
       "    .dataframe thead th {\n",
       "        text-align: right;\n",
       "    }\n",
       "</style>\n",
       "<table border=\"1\" class=\"dataframe\">\n",
       "  <thead>\n",
       "    <tr style=\"text-align: right;\">\n",
       "      <th></th>\n",
       "      <th>sample_type</th>\n",
       "      <th>bmi</th>\n",
       "      <th>age_at_index</th>\n",
       "      <th>A1BG</th>\n",
       "      <th>A2M</th>\n",
       "      <th>NAT1</th>\n",
       "      <th>NAT2</th>\n",
       "      <th>RP11-986E7.7</th>\n",
       "      <th>AADAC</th>\n",
       "      <th>AAMP</th>\n",
       "      <th>...</th>\n",
       "      <th>TICAM2.2</th>\n",
       "      <th>TICAM2.3</th>\n",
       "      <th>SLC25A5-AS1</th>\n",
       "      <th>gender_male</th>\n",
       "      <th>ethnicity_not hispanic or latino</th>\n",
       "      <th>ethnicity_not reported</th>\n",
       "      <th>treatments_pharmaceutical_treatment_or_therapy_not reported</th>\n",
       "      <th>treatments_pharmaceutical_treatment_or_therapy_yes</th>\n",
       "      <th>treatments_radiation_treatment_or_therapy_not reported</th>\n",
       "      <th>treatments_radiation_treatment_or_therapy_yes</th>\n",
       "    </tr>\n",
       "    <tr>\n",
       "      <th>submitter_id</th>\n",
       "      <th></th>\n",
       "      <th></th>\n",
       "      <th></th>\n",
       "      <th></th>\n",
       "      <th></th>\n",
       "      <th></th>\n",
       "      <th></th>\n",
       "      <th></th>\n",
       "      <th></th>\n",
       "      <th></th>\n",
       "      <th></th>\n",
       "      <th></th>\n",
       "      <th></th>\n",
       "      <th></th>\n",
       "      <th></th>\n",
       "      <th></th>\n",
       "      <th></th>\n",
       "      <th></th>\n",
       "      <th></th>\n",
       "      <th></th>\n",
       "      <th></th>\n",
       "    </tr>\n",
       "  </thead>\n",
       "  <tbody>\n",
       "    <tr>\n",
       "      <th>TCGA-EE-A29E</th>\n",
       "      <td>1</td>\n",
       "      <td>30.304530</td>\n",
       "      <td>54.0</td>\n",
       "      <td>164.5636</td>\n",
       "      <td>5010.2596</td>\n",
       "      <td>87.5642</td>\n",
       "      <td>0.0</td>\n",
       "      <td>1751.8540</td>\n",
       "      <td>0.0000</td>\n",
       "      <td>2243.0120</td>\n",
       "      <td>...</td>\n",
       "      <td>15.6446</td>\n",
       "      <td>109.6606</td>\n",
       "      <td>31.3748</td>\n",
       "      <td>1</td>\n",
       "      <td>1</td>\n",
       "      <td>0</td>\n",
       "      <td>0</td>\n",
       "      <td>0</td>\n",
       "      <td>0</td>\n",
       "      <td>0</td>\n",
       "    </tr>\n",
       "    <tr>\n",
       "      <th>TCGA-GN-A4U5</th>\n",
       "      <td>0</td>\n",
       "      <td>34.078462</td>\n",
       "      <td>61.0</td>\n",
       "      <td>159.8184</td>\n",
       "      <td>24278.3904</td>\n",
       "      <td>112.6702</td>\n",
       "      <td>0.0</td>\n",
       "      <td>11617.4164</td>\n",
       "      <td>4.1271</td>\n",
       "      <td>3583.1614</td>\n",
       "      <td>...</td>\n",
       "      <td>128.2460</td>\n",
       "      <td>60.0165</td>\n",
       "      <td>51.5889</td>\n",
       "      <td>0</td>\n",
       "      <td>1</td>\n",
       "      <td>0</td>\n",
       "      <td>0</td>\n",
       "      <td>1</td>\n",
       "      <td>0</td>\n",
       "      <td>0</td>\n",
       "    </tr>\n",
       "    <tr>\n",
       "      <th>TCGA-EB-A44O</th>\n",
       "      <td>0</td>\n",
       "      <td>26.868736</td>\n",
       "      <td>69.0</td>\n",
       "      <td>370.0928</td>\n",
       "      <td>11609.7505</td>\n",
       "      <td>147.3069</td>\n",
       "      <td>0.0</td>\n",
       "      <td>44.2704</td>\n",
       "      <td>0.3918</td>\n",
       "      <td>2380.8078</td>\n",
       "      <td>...</td>\n",
       "      <td>106.2411</td>\n",
       "      <td>83.7181</td>\n",
       "      <td>14.1038</td>\n",
       "      <td>1</td>\n",
       "      <td>1</td>\n",
       "      <td>0</td>\n",
       "      <td>0</td>\n",
       "      <td>0</td>\n",
       "      <td>0</td>\n",
       "      <td>0</td>\n",
       "    </tr>\n",
       "    <tr>\n",
       "      <th>TCGA-ER-A198</th>\n",
       "      <td>1</td>\n",
       "      <td>29.832059</td>\n",
       "      <td>45.0</td>\n",
       "      <td>185.4604</td>\n",
       "      <td>24693.0301</td>\n",
       "      <td>68.7130</td>\n",
       "      <td>0.0</td>\n",
       "      <td>8.7299</td>\n",
       "      <td>0.0000</td>\n",
       "      <td>2161.3630</td>\n",
       "      <td>...</td>\n",
       "      <td>57.8879</td>\n",
       "      <td>45.9420</td>\n",
       "      <td>10.7012</td>\n",
       "      <td>1</td>\n",
       "      <td>1</td>\n",
       "      <td>0</td>\n",
       "      <td>0</td>\n",
       "      <td>1</td>\n",
       "      <td>0</td>\n",
       "      <td>0</td>\n",
       "    </tr>\n",
       "    <tr>\n",
       "      <th>TCGA-FR-A726</th>\n",
       "      <td>0</td>\n",
       "      <td>25.280110</td>\n",
       "      <td>90.0</td>\n",
       "      <td>205.7865</td>\n",
       "      <td>39615.4315</td>\n",
       "      <td>9.1842</td>\n",
       "      <td>0.0</td>\n",
       "      <td>2983.6285</td>\n",
       "      <td>0.0000</td>\n",
       "      <td>3249.0508</td>\n",
       "      <td>...</td>\n",
       "      <td>16.4366</td>\n",
       "      <td>181.9230</td>\n",
       "      <td>28.1648</td>\n",
       "      <td>1</td>\n",
       "      <td>1</td>\n",
       "      <td>0</td>\n",
       "      <td>0</td>\n",
       "      <td>0</td>\n",
       "      <td>0</td>\n",
       "      <td>0</td>\n",
       "    </tr>\n",
       "  </tbody>\n",
       "</table>\n",
       "<p>5 rows × 19827 columns</p>\n",
       "</div>"
      ],
      "text/plain": [
       "              sample_type        bmi  age_at_index      A1BG         A2M  \\\n",
       "submitter_id                                                               \n",
       "TCGA-EE-A29E            1  30.304530          54.0  164.5636   5010.2596   \n",
       "TCGA-GN-A4U5            0  34.078462          61.0  159.8184  24278.3904   \n",
       "TCGA-EB-A44O            0  26.868736          69.0  370.0928  11609.7505   \n",
       "TCGA-ER-A198            1  29.832059          45.0  185.4604  24693.0301   \n",
       "TCGA-FR-A726            0  25.280110          90.0  205.7865  39615.4315   \n",
       "\n",
       "                  NAT1  NAT2  RP11-986E7.7   AADAC       AAMP  ...  TICAM2.2  \\\n",
       "submitter_id                                                   ...             \n",
       "TCGA-EE-A29E   87.5642   0.0     1751.8540  0.0000  2243.0120  ...   15.6446   \n",
       "TCGA-GN-A4U5  112.6702   0.0    11617.4164  4.1271  3583.1614  ...  128.2460   \n",
       "TCGA-EB-A44O  147.3069   0.0       44.2704  0.3918  2380.8078  ...  106.2411   \n",
       "TCGA-ER-A198   68.7130   0.0        8.7299  0.0000  2161.3630  ...   57.8879   \n",
       "TCGA-FR-A726    9.1842   0.0     2983.6285  0.0000  3249.0508  ...   16.4366   \n",
       "\n",
       "              TICAM2.3  SLC25A5-AS1  gender_male  \\\n",
       "submitter_id                                       \n",
       "TCGA-EE-A29E  109.6606      31.3748            1   \n",
       "TCGA-GN-A4U5   60.0165      51.5889            0   \n",
       "TCGA-EB-A44O   83.7181      14.1038            1   \n",
       "TCGA-ER-A198   45.9420      10.7012            1   \n",
       "TCGA-FR-A726  181.9230      28.1648            1   \n",
       "\n",
       "              ethnicity_not hispanic or latino  ethnicity_not reported  \\\n",
       "submitter_id                                                             \n",
       "TCGA-EE-A29E                                 1                       0   \n",
       "TCGA-GN-A4U5                                 1                       0   \n",
       "TCGA-EB-A44O                                 1                       0   \n",
       "TCGA-ER-A198                                 1                       0   \n",
       "TCGA-FR-A726                                 1                       0   \n",
       "\n",
       "              treatments_pharmaceutical_treatment_or_therapy_not reported  \\\n",
       "submitter_id                                                                \n",
       "TCGA-EE-A29E                                                  0             \n",
       "TCGA-GN-A4U5                                                  0             \n",
       "TCGA-EB-A44O                                                  0             \n",
       "TCGA-ER-A198                                                  0             \n",
       "TCGA-FR-A726                                                  0             \n",
       "\n",
       "              treatments_pharmaceutical_treatment_or_therapy_yes  \\\n",
       "submitter_id                                                       \n",
       "TCGA-EE-A29E                                                  0    \n",
       "TCGA-GN-A4U5                                                  1    \n",
       "TCGA-EB-A44O                                                  0    \n",
       "TCGA-ER-A198                                                  1    \n",
       "TCGA-FR-A726                                                  0    \n",
       "\n",
       "              treatments_radiation_treatment_or_therapy_not reported  \\\n",
       "submitter_id                                                           \n",
       "TCGA-EE-A29E                                                  0        \n",
       "TCGA-GN-A4U5                                                  0        \n",
       "TCGA-EB-A44O                                                  0        \n",
       "TCGA-ER-A198                                                  0        \n",
       "TCGA-FR-A726                                                  0        \n",
       "\n",
       "              treatments_radiation_treatment_or_therapy_yes  \n",
       "submitter_id                                                 \n",
       "TCGA-EE-A29E                                              0  \n",
       "TCGA-GN-A4U5                                              0  \n",
       "TCGA-EB-A44O                                              0  \n",
       "TCGA-ER-A198                                              0  \n",
       "TCGA-FR-A726                                              0  \n",
       "\n",
       "[5 rows x 19827 columns]"
      ]
     },
     "execution_count": 3,
     "metadata": {},
     "output_type": "execute_result"
    }
   ],
   "source": [
    "test_df = pd.read_csv('../data/TCGA-SKCM_test_unresampled.csv',index_col=0)\n",
    "test_df.head()"
   ]
  },
  {
   "cell_type": "code",
   "execution_count": 4,
   "metadata": {},
   "outputs": [
    {
     "data": {
      "text/html": [
       "<div>\n",
       "<style scoped>\n",
       "    .dataframe tbody tr th:only-of-type {\n",
       "        vertical-align: middle;\n",
       "    }\n",
       "\n",
       "    .dataframe tbody tr th {\n",
       "        vertical-align: top;\n",
       "    }\n",
       "\n",
       "    .dataframe thead th {\n",
       "        text-align: right;\n",
       "    }\n",
       "</style>\n",
       "<table border=\"1\" class=\"dataframe\">\n",
       "  <thead>\n",
       "    <tr style=\"text-align: right;\">\n",
       "      <th></th>\n",
       "      <th>sample_type</th>\n",
       "      <th>gender_male</th>\n",
       "      <th>ethnicity_not hispanic or latino</th>\n",
       "      <th>ethnicity_not reported</th>\n",
       "      <th>treatments_pharmaceutical_treatment_or_therapy_not reported</th>\n",
       "      <th>treatments_pharmaceutical_treatment_or_therapy_yes</th>\n",
       "      <th>treatments_radiation_treatment_or_therapy_not reported</th>\n",
       "      <th>treatments_radiation_treatment_or_therapy_yes</th>\n",
       "      <th>age_at_index</th>\n",
       "      <th>bmi</th>\n",
       "    </tr>\n",
       "    <tr>\n",
       "      <th>submitter_id</th>\n",
       "      <th></th>\n",
       "      <th></th>\n",
       "      <th></th>\n",
       "      <th></th>\n",
       "      <th></th>\n",
       "      <th></th>\n",
       "      <th></th>\n",
       "      <th></th>\n",
       "      <th></th>\n",
       "      <th></th>\n",
       "    </tr>\n",
       "  </thead>\n",
       "  <tbody>\n",
       "    <tr>\n",
       "      <th>TCGA-EB-A41B</th>\n",
       "      <td>0</td>\n",
       "      <td>0</td>\n",
       "      <td>1</td>\n",
       "      <td>0</td>\n",
       "      <td>0</td>\n",
       "      <td>0</td>\n",
       "      <td>0</td>\n",
       "      <td>0</td>\n",
       "      <td>76.0</td>\n",
       "      <td>23.555556</td>\n",
       "    </tr>\n",
       "    <tr>\n",
       "      <th>TCGA-BF-A1PX</th>\n",
       "      <td>0</td>\n",
       "      <td>1</td>\n",
       "      <td>1</td>\n",
       "      <td>0</td>\n",
       "      <td>0</td>\n",
       "      <td>0</td>\n",
       "      <td>0</td>\n",
       "      <td>0</td>\n",
       "      <td>56.0</td>\n",
       "      <td>25.469388</td>\n",
       "    </tr>\n",
       "    <tr>\n",
       "      <th>TCGA-EE-A3JI</th>\n",
       "      <td>1</td>\n",
       "      <td>1</td>\n",
       "      <td>1</td>\n",
       "      <td>0</td>\n",
       "      <td>0</td>\n",
       "      <td>1</td>\n",
       "      <td>0</td>\n",
       "      <td>1</td>\n",
       "      <td>48.0</td>\n",
       "      <td>32.782274</td>\n",
       "    </tr>\n",
       "    <tr>\n",
       "      <th>TCGA-EB-A431</th>\n",
       "      <td>0</td>\n",
       "      <td>1</td>\n",
       "      <td>1</td>\n",
       "      <td>0</td>\n",
       "      <td>0</td>\n",
       "      <td>0</td>\n",
       "      <td>0</td>\n",
       "      <td>0</td>\n",
       "      <td>34.0</td>\n",
       "      <td>21.453287</td>\n",
       "    </tr>\n",
       "    <tr>\n",
       "      <th>TCGA-FS-A1ZA</th>\n",
       "      <td>1</td>\n",
       "      <td>0</td>\n",
       "      <td>1</td>\n",
       "      <td>0</td>\n",
       "      <td>0</td>\n",
       "      <td>0</td>\n",
       "      <td>0</td>\n",
       "      <td>0</td>\n",
       "      <td>45.0</td>\n",
       "      <td>29.832059</td>\n",
       "    </tr>\n",
       "  </tbody>\n",
       "</table>\n",
       "</div>"
      ],
      "text/plain": [
       "              sample_type  gender_male  ethnicity_not hispanic or latino  \\\n",
       "submitter_id                                                               \n",
       "TCGA-EB-A41B            0            0                                 1   \n",
       "TCGA-BF-A1PX            0            1                                 1   \n",
       "TCGA-EE-A3JI            1            1                                 1   \n",
       "TCGA-EB-A431            0            1                                 1   \n",
       "TCGA-FS-A1ZA            1            0                                 1   \n",
       "\n",
       "              ethnicity_not reported  \\\n",
       "submitter_id                           \n",
       "TCGA-EB-A41B                       0   \n",
       "TCGA-BF-A1PX                       0   \n",
       "TCGA-EE-A3JI                       0   \n",
       "TCGA-EB-A431                       0   \n",
       "TCGA-FS-A1ZA                       0   \n",
       "\n",
       "              treatments_pharmaceutical_treatment_or_therapy_not reported  \\\n",
       "submitter_id                                                                \n",
       "TCGA-EB-A41B                                                  0             \n",
       "TCGA-BF-A1PX                                                  0             \n",
       "TCGA-EE-A3JI                                                  0             \n",
       "TCGA-EB-A431                                                  0             \n",
       "TCGA-FS-A1ZA                                                  0             \n",
       "\n",
       "              treatments_pharmaceutical_treatment_or_therapy_yes  \\\n",
       "submitter_id                                                       \n",
       "TCGA-EB-A41B                                                  0    \n",
       "TCGA-BF-A1PX                                                  0    \n",
       "TCGA-EE-A3JI                                                  1    \n",
       "TCGA-EB-A431                                                  0    \n",
       "TCGA-FS-A1ZA                                                  0    \n",
       "\n",
       "              treatments_radiation_treatment_or_therapy_not reported  \\\n",
       "submitter_id                                                           \n",
       "TCGA-EB-A41B                                                  0        \n",
       "TCGA-BF-A1PX                                                  0        \n",
       "TCGA-EE-A3JI                                                  0        \n",
       "TCGA-EB-A431                                                  0        \n",
       "TCGA-FS-A1ZA                                                  0        \n",
       "\n",
       "              treatments_radiation_treatment_or_therapy_yes  age_at_index  \\\n",
       "submitter_id                                                                \n",
       "TCGA-EB-A41B                                              0          76.0   \n",
       "TCGA-BF-A1PX                                              0          56.0   \n",
       "TCGA-EE-A3JI                                              1          48.0   \n",
       "TCGA-EB-A431                                              0          34.0   \n",
       "TCGA-FS-A1ZA                                              0          45.0   \n",
       "\n",
       "                    bmi  \n",
       "submitter_id             \n",
       "TCGA-EB-A41B  23.555556  \n",
       "TCGA-BF-A1PX  25.469388  \n",
       "TCGA-EE-A3JI  32.782274  \n",
       "TCGA-EB-A431  21.453287  \n",
       "TCGA-FS-A1ZA  29.832059  "
      ]
     },
     "execution_count": 4,
     "metadata": {},
     "output_type": "execute_result"
    }
   ],
   "source": [
    "train_df = train_df[[\n",
    "       'sample_type',\n",
    "       'gender_male', 'ethnicity_not hispanic or latino',\n",
    "       'ethnicity_not reported',\n",
    "       'treatments_pharmaceutical_treatment_or_therapy_not reported',\n",
    "       'treatments_pharmaceutical_treatment_or_therapy_yes',\n",
    "       'treatments_radiation_treatment_or_therapy_not reported',\n",
    "       'treatments_radiation_treatment_or_therapy_yes',\n",
    "       'age_at_index',\n",
    "       'bmi'\n",
    "]]\n",
    "train_df.head()"
   ]
  },
  {
   "cell_type": "code",
   "execution_count": 5,
   "metadata": {},
   "outputs": [
    {
     "data": {
      "text/html": [
       "<div>\n",
       "<style scoped>\n",
       "    .dataframe tbody tr th:only-of-type {\n",
       "        vertical-align: middle;\n",
       "    }\n",
       "\n",
       "    .dataframe tbody tr th {\n",
       "        vertical-align: top;\n",
       "    }\n",
       "\n",
       "    .dataframe thead th {\n",
       "        text-align: right;\n",
       "    }\n",
       "</style>\n",
       "<table border=\"1\" class=\"dataframe\">\n",
       "  <thead>\n",
       "    <tr style=\"text-align: right;\">\n",
       "      <th></th>\n",
       "      <th>sample_type</th>\n",
       "      <th>gender_male</th>\n",
       "      <th>ethnicity_not hispanic or latino</th>\n",
       "      <th>ethnicity_not reported</th>\n",
       "      <th>treatments_pharmaceutical_treatment_or_therapy_not reported</th>\n",
       "      <th>treatments_pharmaceutical_treatment_or_therapy_yes</th>\n",
       "      <th>treatments_radiation_treatment_or_therapy_not reported</th>\n",
       "      <th>treatments_radiation_treatment_or_therapy_yes</th>\n",
       "      <th>age_at_index</th>\n",
       "      <th>bmi</th>\n",
       "    </tr>\n",
       "    <tr>\n",
       "      <th>submitter_id</th>\n",
       "      <th></th>\n",
       "      <th></th>\n",
       "      <th></th>\n",
       "      <th></th>\n",
       "      <th></th>\n",
       "      <th></th>\n",
       "      <th></th>\n",
       "      <th></th>\n",
       "      <th></th>\n",
       "      <th></th>\n",
       "    </tr>\n",
       "  </thead>\n",
       "  <tbody>\n",
       "    <tr>\n",
       "      <th>TCGA-EE-A29E</th>\n",
       "      <td>1</td>\n",
       "      <td>1</td>\n",
       "      <td>1</td>\n",
       "      <td>0</td>\n",
       "      <td>0</td>\n",
       "      <td>0</td>\n",
       "      <td>0</td>\n",
       "      <td>0</td>\n",
       "      <td>54.0</td>\n",
       "      <td>30.304530</td>\n",
       "    </tr>\n",
       "    <tr>\n",
       "      <th>TCGA-GN-A4U5</th>\n",
       "      <td>0</td>\n",
       "      <td>0</td>\n",
       "      <td>1</td>\n",
       "      <td>0</td>\n",
       "      <td>0</td>\n",
       "      <td>1</td>\n",
       "      <td>0</td>\n",
       "      <td>0</td>\n",
       "      <td>61.0</td>\n",
       "      <td>34.078462</td>\n",
       "    </tr>\n",
       "    <tr>\n",
       "      <th>TCGA-EB-A44O</th>\n",
       "      <td>0</td>\n",
       "      <td>1</td>\n",
       "      <td>1</td>\n",
       "      <td>0</td>\n",
       "      <td>0</td>\n",
       "      <td>0</td>\n",
       "      <td>0</td>\n",
       "      <td>0</td>\n",
       "      <td>69.0</td>\n",
       "      <td>26.868736</td>\n",
       "    </tr>\n",
       "    <tr>\n",
       "      <th>TCGA-ER-A198</th>\n",
       "      <td>1</td>\n",
       "      <td>1</td>\n",
       "      <td>1</td>\n",
       "      <td>0</td>\n",
       "      <td>0</td>\n",
       "      <td>1</td>\n",
       "      <td>0</td>\n",
       "      <td>0</td>\n",
       "      <td>45.0</td>\n",
       "      <td>29.832059</td>\n",
       "    </tr>\n",
       "    <tr>\n",
       "      <th>TCGA-FR-A726</th>\n",
       "      <td>0</td>\n",
       "      <td>1</td>\n",
       "      <td>1</td>\n",
       "      <td>0</td>\n",
       "      <td>0</td>\n",
       "      <td>0</td>\n",
       "      <td>0</td>\n",
       "      <td>0</td>\n",
       "      <td>90.0</td>\n",
       "      <td>25.280110</td>\n",
       "    </tr>\n",
       "  </tbody>\n",
       "</table>\n",
       "</div>"
      ],
      "text/plain": [
       "              sample_type  gender_male  ethnicity_not hispanic or latino  \\\n",
       "submitter_id                                                               \n",
       "TCGA-EE-A29E            1            1                                 1   \n",
       "TCGA-GN-A4U5            0            0                                 1   \n",
       "TCGA-EB-A44O            0            1                                 1   \n",
       "TCGA-ER-A198            1            1                                 1   \n",
       "TCGA-FR-A726            0            1                                 1   \n",
       "\n",
       "              ethnicity_not reported  \\\n",
       "submitter_id                           \n",
       "TCGA-EE-A29E                       0   \n",
       "TCGA-GN-A4U5                       0   \n",
       "TCGA-EB-A44O                       0   \n",
       "TCGA-ER-A198                       0   \n",
       "TCGA-FR-A726                       0   \n",
       "\n",
       "              treatments_pharmaceutical_treatment_or_therapy_not reported  \\\n",
       "submitter_id                                                                \n",
       "TCGA-EE-A29E                                                  0             \n",
       "TCGA-GN-A4U5                                                  0             \n",
       "TCGA-EB-A44O                                                  0             \n",
       "TCGA-ER-A198                                                  0             \n",
       "TCGA-FR-A726                                                  0             \n",
       "\n",
       "              treatments_pharmaceutical_treatment_or_therapy_yes  \\\n",
       "submitter_id                                                       \n",
       "TCGA-EE-A29E                                                  0    \n",
       "TCGA-GN-A4U5                                                  1    \n",
       "TCGA-EB-A44O                                                  0    \n",
       "TCGA-ER-A198                                                  1    \n",
       "TCGA-FR-A726                                                  0    \n",
       "\n",
       "              treatments_radiation_treatment_or_therapy_not reported  \\\n",
       "submitter_id                                                           \n",
       "TCGA-EE-A29E                                                  0        \n",
       "TCGA-GN-A4U5                                                  0        \n",
       "TCGA-EB-A44O                                                  0        \n",
       "TCGA-ER-A198                                                  0        \n",
       "TCGA-FR-A726                                                  0        \n",
       "\n",
       "              treatments_radiation_treatment_or_therapy_yes  age_at_index  \\\n",
       "submitter_id                                                                \n",
       "TCGA-EE-A29E                                              0          54.0   \n",
       "TCGA-GN-A4U5                                              0          61.0   \n",
       "TCGA-EB-A44O                                              0          69.0   \n",
       "TCGA-ER-A198                                              0          45.0   \n",
       "TCGA-FR-A726                                              0          90.0   \n",
       "\n",
       "                    bmi  \n",
       "submitter_id             \n",
       "TCGA-EE-A29E  30.304530  \n",
       "TCGA-GN-A4U5  34.078462  \n",
       "TCGA-EB-A44O  26.868736  \n",
       "TCGA-ER-A198  29.832059  \n",
       "TCGA-FR-A726  25.280110  "
      ]
     },
     "execution_count": 5,
     "metadata": {},
     "output_type": "execute_result"
    }
   ],
   "source": [
    "test_df = test_df[[\n",
    "       'sample_type',\n",
    "       'gender_male', 'ethnicity_not hispanic or latino',\n",
    "       'ethnicity_not reported',\n",
    "       'treatments_pharmaceutical_treatment_or_therapy_not reported',\n",
    "       'treatments_pharmaceutical_treatment_or_therapy_yes',\n",
    "       'treatments_radiation_treatment_or_therapy_not reported',\n",
    "       'treatments_radiation_treatment_or_therapy_yes',\n",
    "       'age_at_index',\n",
    "       'bmi'\n",
    "]]\n",
    "test_df.head()"
   ]
  },
  {
   "cell_type": "code",
   "execution_count": 6,
   "metadata": {},
   "outputs": [
    {
     "data": {
      "text/html": [
       "<div>\n",
       "<style scoped>\n",
       "    .dataframe tbody tr th:only-of-type {\n",
       "        vertical-align: middle;\n",
       "    }\n",
       "\n",
       "    .dataframe tbody tr th {\n",
       "        vertical-align: top;\n",
       "    }\n",
       "\n",
       "    .dataframe thead th {\n",
       "        text-align: right;\n",
       "    }\n",
       "</style>\n",
       "<table border=\"1\" class=\"dataframe\">\n",
       "  <thead>\n",
       "    <tr style=\"text-align: right;\">\n",
       "      <th></th>\n",
       "      <th>sample_type</th>\n",
       "    </tr>\n",
       "    <tr>\n",
       "      <th>submitter_id</th>\n",
       "      <th></th>\n",
       "    </tr>\n",
       "  </thead>\n",
       "  <tbody>\n",
       "    <tr>\n",
       "      <th>TCGA-EB-A41B</th>\n",
       "      <td>0</td>\n",
       "    </tr>\n",
       "    <tr>\n",
       "      <th>TCGA-BF-A1PX</th>\n",
       "      <td>0</td>\n",
       "    </tr>\n",
       "    <tr>\n",
       "      <th>TCGA-EE-A3JI</th>\n",
       "      <td>1</td>\n",
       "    </tr>\n",
       "    <tr>\n",
       "      <th>TCGA-EB-A431</th>\n",
       "      <td>0</td>\n",
       "    </tr>\n",
       "    <tr>\n",
       "      <th>TCGA-FS-A1ZA</th>\n",
       "      <td>1</td>\n",
       "    </tr>\n",
       "  </tbody>\n",
       "</table>\n",
       "</div>"
      ],
      "text/plain": [
       "              sample_type\n",
       "submitter_id             \n",
       "TCGA-EB-A41B            0\n",
       "TCGA-BF-A1PX            0\n",
       "TCGA-EE-A3JI            1\n",
       "TCGA-EB-A431            0\n",
       "TCGA-FS-A1ZA            1"
      ]
     },
     "execution_count": 6,
     "metadata": {},
     "output_type": "execute_result"
    }
   ],
   "source": [
    "train_target = train_df[['sample_type']]\n",
    "train_target.astype(float, 64)\n",
    "train_target.head()"
   ]
  },
  {
   "cell_type": "code",
   "execution_count": 7,
   "metadata": {},
   "outputs": [
    {
     "data": {
      "text/html": [
       "<div>\n",
       "<style scoped>\n",
       "    .dataframe tbody tr th:only-of-type {\n",
       "        vertical-align: middle;\n",
       "    }\n",
       "\n",
       "    .dataframe tbody tr th {\n",
       "        vertical-align: top;\n",
       "    }\n",
       "\n",
       "    .dataframe thead th {\n",
       "        text-align: right;\n",
       "    }\n",
       "</style>\n",
       "<table border=\"1\" class=\"dataframe\">\n",
       "  <thead>\n",
       "    <tr style=\"text-align: right;\">\n",
       "      <th></th>\n",
       "      <th>sample_type</th>\n",
       "    </tr>\n",
       "    <tr>\n",
       "      <th>submitter_id</th>\n",
       "      <th></th>\n",
       "    </tr>\n",
       "  </thead>\n",
       "  <tbody>\n",
       "    <tr>\n",
       "      <th>TCGA-EE-A29E</th>\n",
       "      <td>1</td>\n",
       "    </tr>\n",
       "    <tr>\n",
       "      <th>TCGA-GN-A4U5</th>\n",
       "      <td>0</td>\n",
       "    </tr>\n",
       "    <tr>\n",
       "      <th>TCGA-EB-A44O</th>\n",
       "      <td>0</td>\n",
       "    </tr>\n",
       "    <tr>\n",
       "      <th>TCGA-ER-A198</th>\n",
       "      <td>1</td>\n",
       "    </tr>\n",
       "    <tr>\n",
       "      <th>TCGA-FR-A726</th>\n",
       "      <td>0</td>\n",
       "    </tr>\n",
       "  </tbody>\n",
       "</table>\n",
       "</div>"
      ],
      "text/plain": [
       "              sample_type\n",
       "submitter_id             \n",
       "TCGA-EE-A29E            1\n",
       "TCGA-GN-A4U5            0\n",
       "TCGA-EB-A44O            0\n",
       "TCGA-ER-A198            1\n",
       "TCGA-FR-A726            0"
      ]
     },
     "execution_count": 7,
     "metadata": {},
     "output_type": "execute_result"
    }
   ],
   "source": [
    "test_target = test_df[['sample_type']]\n",
    "test_target.astype(float, 64)\n",
    "test_target.head()"
   ]
  },
  {
   "cell_type": "code",
   "execution_count": 8,
   "metadata": {},
   "outputs": [],
   "source": [
    "train_df = train_df.drop(['sample_type'], 1)\n",
    "test_df = test_df.drop(['sample_type'], 1)"
   ]
  },
  {
   "cell_type": "markdown",
   "metadata": {},
   "source": [
    "## Classification between Primary Tumor and Metastatic (without PCA)"
   ]
  },
  {
   "cell_type": "markdown",
   "metadata": {},
   "source": [
    "### Logistic Regression"
   ]
  },
  {
   "cell_type": "code",
   "execution_count": 9,
   "metadata": {},
   "outputs": [
    {
     "name": "stdout",
     "output_type": "stream",
     "text": [
      "Fitting 2 folds for each of 14 candidates, totalling 28 fits\n",
      "Best parameter (CV score=0.783):\n",
      "{'logistic__C': 0.1, 'logistic__penalty': 'l1'}\n"
     ]
    }
   ],
   "source": [
    "pipe = Pipeline([\n",
    "  ('scaler', StandardScaler()),\n",
    "  ('logistic', LogisticRegression(\n",
    "                  solver='liblinear', \n",
    "                  max_iter=10000, \n",
    "                  tol=0.00001, \n",
    "                  fit_intercept=True))\n",
    "])\n",
    "\n",
    "parameters = {\n",
    "    'logistic__C': [1e-04, 1e-03, 1e-2, 1e-1, 1, 10, 100],\n",
    "    'logistic__penalty': ['l1', 'l2']\n",
    "}\n",
    "\n",
    "grid_search_feature_lr = GridSearchCV(pipe, parameters, n_jobs=4,cv=2, return_train_score=False, verbose=3, scoring='accuracy')\n",
    "grid_search_feature_lr.fit(train_df, train_target.sample_type.astype('int'))\n",
    "\n",
    "print(\"Best parameter (CV score=%0.3f):\" % grid_search_feature_lr.best_score_)\n",
    "print(grid_search_feature_lr.best_params_)"
   ]
  },
  {
   "cell_type": "code",
   "execution_count": 10,
   "metadata": {},
   "outputs": [
    {
     "name": "stdout",
     "output_type": "stream",
     "text": [
      "LogisticRegression accuracy: 0.78\n"
     ]
    },
    {
     "data": {
      "text/plain": [
       "[Text(0, 0.5, 'Primary Tumor'), Text(0, 1.5, 'Metastatic')]"
      ]
     },
     "execution_count": 10,
     "metadata": {},
     "output_type": "execute_result"
    },
    {
     "data": {
      "image/png": "[encoded data removed]",
      "text/plain": [
       "<Figure size 432x288 with 2 Axes>"
      ]
     },
     "metadata": {
      "needs_background": "light"
     },
     "output_type": "display_data"
    }
   ],
   "source": [
    "lr_model = grid_search_feature_lr.best_estimator_\n",
    "\n",
    "lr_pred = grid_search_feature_lr.predict(test_df)\n",
    "\n",
    "print('LogisticRegression accuracy:', round(accuracy_score(test_target.sample_type.astype('int'), lr_pred), 3))\n",
    "\n",
    "cm_rf = confusion_matrix(test_target.sample_type.astype('int'), lr_pred)\n",
    "\n",
    "ax = plt.subplot()\n",
    "sns.heatmap(cm_rf, annot=True, ax = ax, fmt='g', cmap='Greens') \n",
    "labels = ['Primary Tumor', 'Metastatic']\n",
    "ax.set_xlabel('Predicted labels')\n",
    "ax.set_ylabel('True labels') \n",
    "ax.set_title('LogisticRegression Confusion Matrix') \n",
    "ax.xaxis.set_ticklabels(labels) \n",
    "ax.yaxis.set_ticklabels(labels, rotation=360)"
   ]
  },
  {
   "cell_type": "code",
   "execution_count": 11,
   "metadata": {},
   "outputs": [
    {
     "data": {
      "image/png": "[encoded data removed]",
      "text/plain": [
       "<Figure size 432x288 with 1 Axes>"
      ]
     },
     "metadata": {
      "needs_background": "light"
     },
     "output_type": "display_data"
    }
   ],
   "source": [
    "lr_model = grid_search_feature_lr.best_estimator_\n",
    "lr_pred_proba = lr_model.predict_proba(test_df)[::,1]\n",
    "fpr, tpr, _ = roc_curve(test_target.sample_type.astype('int'),  lr_pred_proba)\n",
    "auc = roc_auc_score(test_target.sample_type.astype('int'), lr_pred_proba)\n",
    "plt.plot(fpr,tpr,label=\"Logistic Regression, auc=\"+str(auc))\n",
    "plt.ylabel(\"True Positive Rate\")\n",
    "plt.xlabel(\"False Positive Rate\")\n",
    "plt.legend(loc=4)\n",
    "plt.show()"
   ]
  },
  {
   "cell_type": "code",
   "execution_count": 12,
   "metadata": {},
   "outputs": [
    {
     "name": "stdout",
     "output_type": "stream",
     "text": [
      "0.47845096999785486\n"
     ]
    }
   ],
   "source": [
    "lr_model = grid_search_feature_lr.best_estimator_\n",
    "lr_pred_proba = lr_model.predict_proba(test_df)[::,1]\n",
    "log_loss_score = log_loss(test_target.sample_type.astype('int'),  lr_pred_proba)\n",
    "print(log_loss_score)"
   ]
  },
  {
   "cell_type": "markdown",
   "metadata": {},
   "source": [
    "### Support Vector Machines"
   ]
  },
  {
   "cell_type": "code",
   "execution_count": 13,
   "metadata": {},
   "outputs": [
    {
     "name": "stdout",
     "output_type": "stream",
     "text": [
      "Fitting 2 folds for each of 288 candidates, totalling 576 fits\n",
      "Best parameter (CV score=0.786):\n",
      "{'SVM__C': 1, 'SVM__decision_function_shape': 'ovo', 'SVM__gamma': 10, 'SVM__kernel': 'rbf'}\n"
     ]
    }
   ],
   "source": [
    "pipe = Pipeline([\n",
    "  ('scaler', StandardScaler()),\n",
    "  ('SVM', SVC(probability=True))\n",
    "])\n",
    "\n",
    "parameters = {\n",
    "    'SVM__C': [0.001, 0.01, 0.1, 1, 10, 100], \n",
    "    'SVM__gamma': [1, 0.1, 0.01, 0.001, 0.00001, 10], \n",
    "    \"SVM__kernel\": [\"linear\",\"poly\",\"sigmoid\",\"rbf\"], \n",
    "    \"SVM__decision_function_shape\" : [\"ovo\", \"ovr\"]\n",
    "}\n",
    "\n",
    "grid_search_feature_svm = GridSearchCV(pipe, parameters, n_jobs=4,cv=2, return_train_score=False, verbose=3, scoring='accuracy')\n",
    "grid_search_feature_svm.fit(train_df, train_target.sample_type.astype('int'))\n",
    "\n",
    "print(\"Best parameter (CV score=%0.3f):\" % grid_search_feature_svm.best_score_)\n",
    "print(grid_search_feature_svm.best_params_)"
   ]
  },
  {
   "cell_type": "code",
   "execution_count": 14,
   "metadata": {},
   "outputs": [
    {
     "name": "stdout",
     "output_type": "stream",
     "text": [
      "Support Vector Machines accuracy: 0.745\n"
     ]
    },
    {
     "data": {
      "text/plain": [
       "[Text(0, 0.5, 'Primary Tumor'), Text(0, 1.5, 'Metastatic')]"
      ]
     },
     "execution_count": 14,
     "metadata": {},
     "output_type": "execute_result"
    },
    {
     "data": {
      "image/png": "[encoded data removed]",
      "text/plain": [
       "<Figure size 432x288 with 2 Axes>"
      ]
     },
     "metadata": {
      "needs_background": "light"
     },
     "output_type": "display_data"
    }
   ],
   "source": [
    "svm_model = grid_search_feature_svm.best_estimator_\n",
    "\n",
    "svm_pred = grid_search_feature_svm.predict(test_df)\n",
    "\n",
    "print('Support Vector Machines accuracy:', round(accuracy_score(test_target.sample_type.astype('int'), svm_pred), 3))\n",
    "\n",
    "cm_rf = confusion_matrix(test_target.sample_type.astype('int'), svm_pred)\n",
    "\n",
    "ax = plt.subplot()\n",
    "sns.heatmap(cm_rf, annot=True, ax = ax, fmt='g', cmap='Greens') \n",
    "labels = ['Primary Tumor', 'Metastatic']\n",
    "ax.set_xlabel('Predicted labels')\n",
    "ax.set_ylabel('True labels') \n",
    "ax.set_title('Support Vector Machines Confusion Matrix') \n",
    "ax.xaxis.set_ticklabels(labels) \n",
    "ax.yaxis.set_ticklabels(labels, rotation=360)"
   ]
  },
  {
   "cell_type": "code",
   "execution_count": 15,
   "metadata": {},
   "outputs": [
    {
     "data": {
      "image/png": "[encoded data removed]",
      "text/plain": [
       "<Figure size 432x288 with 1 Axes>"
      ]
     },
     "metadata": {
      "needs_background": "light"
     },
     "output_type": "display_data"
    }
   ],
   "source": [
    "svm_model = grid_search_feature_svm.best_estimator_\n",
    "svm_pred_proba = svm_model.predict_proba(test_df)[::,1]\n",
    "fpr, tpr, _ = roc_curve(test_target.sample_type.astype('int'),  svm_pred_proba)\n",
    "auc = roc_auc_score(test_target.sample_type.astype('int'), svm_pred_proba)\n",
    "plt.plot(fpr,tpr,label=\"Support Vector Machines, auc=\"+str(auc))\n",
    "plt.ylabel(\"True Positive Rate\")\n",
    "plt.xlabel(\"False Positive Rate\")\n",
    "plt.legend(loc=4)\n",
    "plt.show()"
   ]
  },
  {
   "cell_type": "code",
   "execution_count": 16,
   "metadata": {},
   "outputs": [
    {
     "name": "stdout",
     "output_type": "stream",
     "text": [
      "0.5424918654068237\n"
     ]
    }
   ],
   "source": [
    "svm_model = grid_search_feature_svm.best_estimator_\n",
    "svm_pred_proba = svm_model.predict_proba(test_df)[::,1]\n",
    "log_loss_score = log_loss(test_target.sample_type.astype('int'),  svm_pred_proba)\n",
    "print(log_loss_score)"
   ]
  },
  {
   "cell_type": "markdown",
   "metadata": {},
   "source": [
    "### Random Forest "
   ]
  },
  {
   "cell_type": "code",
   "execution_count": 17,
   "metadata": {},
   "outputs": [
    {
     "name": "stdout",
     "output_type": "stream",
     "text": [
      "Fitting 2 folds for each of 500 candidates, totalling 1000 fits\n",
      "Best parameter (CV score=0.786):\n",
      "{'rf__bootstrap': True, 'rf__max_features': 0.6, 'rf__min_samples_leaf': 14, 'rf__min_samples_split': 2, 'rf__n_estimators': 90}\n"
     ]
    }
   ],
   "source": [
    "pipe = Pipeline([\n",
    "  ('scaler', StandardScaler()),\n",
    "  ('rf', RandomForestClassifier(random_state=1))\n",
    "])\n",
    "\n",
    "parameters = {\n",
    "    'rf__bootstrap': [True], \n",
    "    'rf__n_estimators': [30, 60, 70, 80, 90], \n",
    "    'rf__max_features': [0.6, 0.65, 0.7, 0.75, 0.8], \n",
    "    \"rf__min_samples_leaf\":  [6, 8, 10, 12, 14], \n",
    "    \"rf__min_samples_split\" : [2, 3, 5, 7]    \n",
    "}\n",
    "\n",
    "grid_search_feature_rf = GridSearchCV(pipe, parameters, n_jobs=4,cv=2, return_train_score=False, verbose=3, scoring='accuracy')\n",
    "grid_search_feature_rf.fit(train_df, train_target.sample_type.astype('int'))\n",
    "\n",
    "print(\"Best parameter (CV score=%0.3f):\" % grid_search_feature_rf.best_score_)\n",
    "print(grid_search_feature_rf.best_params_)"
   ]
  },
  {
   "cell_type": "code",
   "execution_count": 18,
   "metadata": {},
   "outputs": [
    {
     "name": "stdout",
     "output_type": "stream",
     "text": [
      "Random Forest accuracy: 0.759\n"
     ]
    },
    {
     "data": {
      "text/plain": [
       "[Text(0, 0.5, 'Primary Tumor'), Text(0, 1.5, 'Metastatic')]"
      ]
     },
     "execution_count": 18,
     "metadata": {},
     "output_type": "execute_result"
    },
    {
     "data": {
      "image/png": "[encoded data removed]",
      "text/plain": [
       "<Figure size 432x288 with 2 Axes>"
      ]
     },
     "metadata": {
      "needs_background": "light"
     },
     "output_type": "display_data"
    }
   ],
   "source": [
    "rf_model = grid_search_feature_rf.best_estimator_\n",
    "\n",
    "rf_pred = grid_search_feature_rf.predict(test_df)\n",
    "\n",
    "print('Random Forest accuracy:', round(accuracy_score(test_target.sample_type.astype('int'), rf_pred), 3))\n",
    "\n",
    "cm_rf = confusion_matrix(test_target.sample_type.astype('int'), rf_pred)\n",
    "\n",
    "ax = plt.subplot()\n",
    "sns.heatmap(cm_rf, annot=True, ax = ax, fmt='g', cmap='Greens') \n",
    "labels = ['Primary Tumor', 'Metastatic']\n",
    "ax.set_xlabel('Predicted labels')\n",
    "ax.set_ylabel('True labels') \n",
    "ax.set_title('Random Forest Confusion Matrix') \n",
    "ax.xaxis.set_ticklabels(labels) \n",
    "ax.yaxis.set_ticklabels(labels, rotation=360)"
   ]
  },
  {
   "cell_type": "code",
   "execution_count": 19,
   "metadata": {},
   "outputs": [
    {
     "data": {
      "image/png": "[encoded data removed]",
      "text/plain": [
       "<Figure size 432x288 with 1 Axes>"
      ]
     },
     "metadata": {
      "needs_background": "light"
     },
     "output_type": "display_data"
    }
   ],
   "source": [
    "rf_model = grid_search_feature_rf.best_estimator_\n",
    "rf_pred_proba = rf_model.predict_proba(test_df)[::,1]\n",
    "fpr, tpr, _ = roc_curve(test_target.sample_type.astype('int'),  rf_pred_proba)\n",
    "auc = roc_auc_score(test_target.sample_type.astype('int'), rf_pred_proba)\n",
    "plt.plot(fpr,tpr,label=\"Random Forest, auc=\"+str(auc))\n",
    "plt.ylabel(\"True Positive Rate\")\n",
    "plt.xlabel(\"False Positive Rate\")\n",
    "plt.legend(loc=4)\n",
    "plt.show()"
   ]
  },
  {
   "cell_type": "code",
   "execution_count": 20,
   "metadata": {},
   "outputs": [
    {
     "name": "stdout",
     "output_type": "stream",
     "text": [
      "0.4817635857373176\n"
     ]
    }
   ],
   "source": [
    "rf_model = grid_search_feature_rf.best_estimator_\n",
    "rf_pred_proba = rf_model.predict_proba(test_df)[::,1]\n",
    "log_loss_score = log_loss(test_target.sample_type.astype('int'),  rf_pred_proba)\n",
    "print(log_loss_score)"
   ]
  },
  {
   "cell_type": "markdown",
   "metadata": {},
   "source": [
    "## Classification between Primary Tumor and Metastatic (with PCA)"
   ]
  },
  {
   "cell_type": "markdown",
   "metadata": {},
   "source": [
    "### Using Logistic Regression"
   ]
  },
  {
   "cell_type": "code",
   "execution_count": 21,
   "metadata": {},
   "outputs": [
    {
     "name": "stdout",
     "output_type": "stream",
     "text": [
      "Fitting 2 folds for each of 60 candidates, totalling 120 fits\n",
      "Best parameter (CV score=0.786):\n",
      "{'logistic__C': 0.1, 'logistic__penalty': 'l1', 'pca__n_components': 0.6}\n"
     ]
    }
   ],
   "source": [
    "pipe = Pipeline([\n",
    "  ('scaler', StandardScaler()),\n",
    "  ('pca', PCA(svd_solver='full')),\n",
    "  ('logistic', LogisticRegression(\n",
    "                  solver='liblinear', \n",
    "                  max_iter=10000, \n",
    "                  tol=0.001, \n",
    "                  fit_intercept=True))\n",
    "])\n",
    "\n",
    "parameters = {\n",
    "    'pca__n_components': [0.6, 0.7, 0.75, 0.8, 0.9],    \n",
    "    'logistic__C': [1e-03, 1e-2, 1e-1, 1, 10, 100],\n",
    "    'logistic__penalty': ['l1', 'l2']\n",
    "}\n",
    "\n",
    "grid_search_lr_pca = GridSearchCV(pipe, parameters, n_jobs=4,cv=2, return_train_score=False, verbose=3, scoring='accuracy')\n",
    "grid_search_lr_pca.fit(train_df, train_target.sample_type.astype('int'))\n",
    "\n",
    "print(\"Best parameter (CV score=%0.3f):\" % grid_search_lr_pca.best_score_)\n",
    "print(grid_search_lr_pca.best_params_)"
   ]
  },
  {
   "cell_type": "code",
   "execution_count": 22,
   "metadata": {},
   "outputs": [
    {
     "data": {
      "text/plain": [
       "Pipeline(steps=[('scaler', StandardScaler()),\n",
       "                ('pca', PCA(n_components=0.6, svd_solver='full')),\n",
       "                ('logistic',\n",
       "                 LogisticRegression(C=0.1, max_iter=10000, penalty='l1',\n",
       "                                    solver='liblinear', tol=0.001))])"
      ]
     },
     "execution_count": 22,
     "metadata": {},
     "output_type": "execute_result"
    }
   ],
   "source": [
    "grid_search_lr_pca.best_estimator_"
   ]
  },
  {
   "cell_type": "code",
   "execution_count": 23,
   "metadata": {},
   "outputs": [
    {
     "name": "stdout",
     "output_type": "stream",
     "text": [
      "LogisticRegression accuracy: 0.78\n"
     ]
    },
    {
     "data": {
      "text/plain": [
       "[Text(0, 0.5, 'Primary Tumor'), Text(0, 1.5, 'Metastatic')]"
      ]
     },
     "execution_count": 23,
     "metadata": {},
     "output_type": "execute_result"
    },
    {
     "data": {
      "image/png": "[encoded data removed]",
      "text/plain": [
       "<Figure size 432x288 with 2 Axes>"
      ]
     },
     "metadata": {
      "needs_background": "light"
     },
     "output_type": "display_data"
    }
   ],
   "source": [
    "lr_model_pca = grid_search_lr_pca.best_estimator_\n",
    "\n",
    "lr_pred = grid_search_lr_pca.predict(test_df)\n",
    "\n",
    "print('LogisticRegression accuracy:', round(accuracy_score(test_target.sample_type.astype('int'), lr_pred), 3))\n",
    "\n",
    "cm_rf = confusion_matrix(test_target.sample_type.astype('int'), lr_pred)\n",
    "\n",
    "ax = plt.subplot()\n",
    "sns.heatmap(cm_rf, annot=True, ax = ax, fmt='g', cmap='Greens') \n",
    "labels = ['Primary Tumor', 'Metastatic']\n",
    "ax.set_xlabel('Predicted labels')\n",
    "ax.set_ylabel('True labels') \n",
    "ax.set_title('LogisticRegression Confusion Matrix') \n",
    "ax.xaxis.set_ticklabels(labels) \n",
    "ax.yaxis.set_ticklabels(labels, rotation=360)"
   ]
  },
  {
   "cell_type": "code",
   "execution_count": 24,
   "metadata": {},
   "outputs": [
    {
     "data": {
      "image/png": "[encoded data removed]",
      "text/plain": [
       "<Figure size 432x288 with 1 Axes>"
      ]
     },
     "metadata": {
      "needs_background": "light"
     },
     "output_type": "display_data"
    }
   ],
   "source": [
    "lr_model = grid_search_lr_pca.best_estimator_\n",
    "lr_pred_proba = lr_model.predict_proba(test_df)[::,1]\n",
    "fpr, tpr, _ = roc_curve(test_target.sample_type.astype('int'),  lr_pred_proba)\n",
    "auc = roc_auc_score(test_target.sample_type.astype('int'), lr_pred_proba)\n",
    "plt.plot(fpr,tpr,label=\"Logistic Regression, auc=\"+str(auc))\n",
    "plt.ylabel(\"True Positive Rate\")\n",
    "plt.xlabel(\"False Positive Rate\")\n",
    "plt.legend(loc=4)\n",
    "plt.show()"
   ]
  },
  {
   "cell_type": "code",
   "execution_count": 25,
   "metadata": {},
   "outputs": [
    {
     "name": "stdout",
     "output_type": "stream",
     "text": [
      "0.4766536900572577\n"
     ]
    }
   ],
   "source": [
    "lr_model = grid_search_lr_pca.best_estimator_\n",
    "lr_pred_proba = lr_model.predict_proba(test_df)[::,1]\n",
    "log_loss_score = log_loss(test_target.sample_type.astype('int'),  lr_pred_proba)\n",
    "print(log_loss_score)"
   ]
  },
  {
   "cell_type": "markdown",
   "metadata": {},
   "source": [
    "### Using Support Vector Machines"
   ]
  },
  {
   "cell_type": "code",
   "execution_count": 26,
   "metadata": {},
   "outputs": [
    {
     "name": "stdout",
     "output_type": "stream",
     "text": [
      "Fitting 2 folds for each of 1080 candidates, totalling 2160 fits\n",
      "Best parameter (CV score=0.795):\n",
      "{'SVM__C': 1, 'SVM__decision_function_shape': 'ovo', 'SVM__gamma': 1, 'SVM__kernel': 'rbf', 'pca__n_components': 0.6}\n"
     ]
    }
   ],
   "source": [
    "pipe = Pipeline([\n",
    "  ('scaler', StandardScaler()),\n",
    "  ('pca', PCA(svd_solver='full')),    \n",
    "  ('SVM', SVC(probability=True))\n",
    "])\n",
    "\n",
    "parameters = {\n",
    "    'pca__n_components': [0.6, 0.7, 0.75, 0.8, 0.9],    \n",
    "    'SVM__C': [0.001, 0.01, 0.1, 1, 10, 100], \n",
    "    'SVM__gamma': [1, 0.1, 0.01, 0.001, 0.0001, 10], \n",
    "    \"SVM__kernel\": [\"linear\",\"poly\",\"rbf\"], \n",
    "    \"SVM__decision_function_shape\" : [\"ovo\", \"ovr\"]\n",
    "}\n",
    "\n",
    "grid_search_svm_pca = GridSearchCV(pipe, parameters, n_jobs=4,cv=2, return_train_score=False, verbose=3, scoring='accuracy')\n",
    "grid_search_svm_pca.fit(train_df, train_target.sample_type.astype('int'))\n",
    "\n",
    "print(\"Best parameter (CV score=%0.3f):\" % grid_search_svm_pca.best_score_)\n",
    "print(grid_search_svm_pca.best_params_)"
   ]
  },
  {
   "cell_type": "code",
   "execution_count": 27,
   "metadata": {},
   "outputs": [
    {
     "data": {
      "text/plain": [
       "Pipeline(steps=[('scaler', StandardScaler()),\n",
       "                ('pca', PCA(n_components=0.6, svd_solver='full')),\n",
       "                ('SVM',\n",
       "                 SVC(C=1, decision_function_shape='ovo', gamma=1,\n",
       "                     probability=True))])"
      ]
     },
     "execution_count": 27,
     "metadata": {},
     "output_type": "execute_result"
    }
   ],
   "source": [
    "grid_search_svm_pca.best_estimator_"
   ]
  },
  {
   "cell_type": "code",
   "execution_count": 28,
   "metadata": {},
   "outputs": [
    {
     "name": "stdout",
     "output_type": "stream",
     "text": [
      "Support Vector Machines accuracy: 0.787\n"
     ]
    },
    {
     "data": {
      "text/plain": [
       "[Text(0, 0.5, 'Primary Tumor'), Text(0, 1.5, 'Metastatic')]"
      ]
     },
     "execution_count": 28,
     "metadata": {},
     "output_type": "execute_result"
    },
    {
     "data": {
      "image/png": "[encoded data removed]",
      "text/plain": [
       "<Figure size 432x288 with 2 Axes>"
      ]
     },
     "metadata": {
      "needs_background": "light"
     },
     "output_type": "display_data"
    }
   ],
   "source": [
    "svm_model = grid_search_svm_pca.best_estimator_\n",
    "\n",
    "svm_pred = grid_search_svm_pca.predict(test_df)\n",
    "\n",
    "print('Support Vector Machines accuracy:', round(accuracy_score(test_target.sample_type.astype('int'), svm_pred), 3))\n",
    "\n",
    "cm_rf = confusion_matrix(test_target.sample_type.astype('int'), svm_pred)\n",
    "\n",
    "ax = plt.subplot()\n",
    "sns.heatmap(cm_rf, annot=True, ax = ax, fmt='g', cmap='Greens') \n",
    "labels = ['Primary Tumor', 'Metastatic']\n",
    "ax.set_xlabel('Predicted labels')\n",
    "ax.set_ylabel('True labels') \n",
    "ax.set_title('Support Vector Machines Confusion Matrix') \n",
    "ax.xaxis.set_ticklabels(labels) \n",
    "ax.yaxis.set_ticklabels(labels, rotation=360)"
   ]
  },
  {
   "cell_type": "code",
   "execution_count": 29,
   "metadata": {},
   "outputs": [
    {
     "data": {
      "image/png": "[encoded data removed]",
      "text/plain": [
       "<Figure size 432x288 with 1 Axes>"
      ]
     },
     "metadata": {
      "needs_background": "light"
     },
     "output_type": "display_data"
    }
   ],
   "source": [
    "svm_model = grid_search_svm_pca.best_estimator_\n",
    "svm_pred_proba = svm_model.predict_proba(test_df)[::,1]\n",
    "fpr, tpr, _ = roc_curve(test_target.sample_type.astype('int'),  svm_pred_proba)\n",
    "auc = roc_auc_score(test_target.sample_type.astype('int'), svm_pred_proba)\n",
    "plt.plot(fpr,tpr,label=\"Support Vector Machines, auc=\"+str(auc))\n",
    "plt.ylabel(\"True Positive Rate\")\n",
    "plt.xlabel(\"False Positive Rate\")\n",
    "plt.legend(loc=4)\n",
    "plt.show()"
   ]
  },
  {
   "cell_type": "code",
   "execution_count": 30,
   "metadata": {},
   "outputs": [
    {
     "name": "stdout",
     "output_type": "stream",
     "text": [
      "0.5028930089874739\n"
     ]
    }
   ],
   "source": [
    "svm_model = grid_search_svm_pca.best_estimator_\n",
    "svm_pred_proba = svm_model.predict_proba(test_df)[::,1]\n",
    "log_loss_score = log_loss(test_target.sample_type.astype('int'),  svm_pred_proba)\n",
    "print(log_loss_score)"
   ]
  },
  {
   "cell_type": "markdown",
   "metadata": {},
   "source": [
    "### Using Random Forest"
   ]
  },
  {
   "cell_type": "code",
   "execution_count": 31,
   "metadata": {},
   "outputs": [
    {
     "name": "stdout",
     "output_type": "stream",
     "text": [
      "Fitting 2 folds for each of 2500 candidates, totalling 5000 fits\n",
      "Best parameter (CV score=0.798):\n",
      "{'pca__n_components': 0.9, 'rf__bootstrap': True, 'rf__max_features': 0.6, 'rf__min_samples_leaf': 8, 'rf__min_samples_split': 2, 'rf__n_estimators': 30}\n"
     ]
    }
   ],
   "source": [
    "pipe = Pipeline([\n",
    "  ('scaler', StandardScaler()),\n",
    "  ('pca', PCA(svd_solver='full')),    \n",
    "  ('rf', RandomForestClassifier(random_state=1))\n",
    "])\n",
    "\n",
    "parameters = {\n",
    "    'pca__n_components': [0.6, 0.7, 0.75, 0.8, 0.9],    \n",
    "    'rf__bootstrap': [True], \n",
    "    'rf__n_estimators': [30, 60, 70, 80, 90], \n",
    "    'rf__max_features': [0.6, 0.65, 0.7, 0.75, 0.8], \n",
    "    \"rf__min_samples_leaf\":  [6, 8, 10, 12, 14], \n",
    "    \"rf__min_samples_split\" : [2, 3, 5, 7]    \n",
    "}\n",
    "\n",
    "grid_search_rf_pca = GridSearchCV(pipe, parameters, n_jobs=4,cv=2, return_train_score=False, verbose=3, scoring='accuracy')\n",
    "grid_search_rf_pca.fit(train_df, train_target.sample_type.astype('int'))\n",
    "\n",
    "print(\"Best parameter (CV score=%0.3f):\" % grid_search_rf_pca.best_score_)\n",
    "print(grid_search_rf_pca.best_params_)"
   ]
  },
  {
   "cell_type": "code",
   "execution_count": 32,
   "metadata": {},
   "outputs": [
    {
     "data": {
      "text/plain": [
       "Pipeline(steps=[('scaler', StandardScaler()),\n",
       "                ('pca', PCA(n_components=0.9, svd_solver='full')),\n",
       "                ('rf',\n",
       "                 RandomForestClassifier(max_features=0.6, min_samples_leaf=8,\n",
       "                                        n_estimators=30, random_state=1))])"
      ]
     },
     "execution_count": 32,
     "metadata": {},
     "output_type": "execute_result"
    }
   ],
   "source": [
    "grid_search_rf_pca.best_estimator_"
   ]
  },
  {
   "cell_type": "code",
   "execution_count": 33,
   "metadata": {},
   "outputs": [
    {
     "name": "stdout",
     "output_type": "stream",
     "text": [
      "Random Forest accuracy: 0.759\n"
     ]
    },
    {
     "data": {
      "text/plain": [
       "[Text(0, 0.5, 'Primary Tumor'), Text(0, 1.5, 'Metastatic')]"
      ]
     },
     "execution_count": 33,
     "metadata": {},
     "output_type": "execute_result"
    },
    {
     "data": {
      "image/png": "[encoded data removed]",
      "text/plain": [
       "<Figure size 432x288 with 2 Axes>"
      ]
     },
     "metadata": {
      "needs_background": "light"
     },
     "output_type": "display_data"
    }
   ],
   "source": [
    "rf_model = grid_search_rf_pca.best_estimator_\n",
    "\n",
    "rf_pred = grid_search_rf_pca.predict(test_df)\n",
    "\n",
    "print('Random Forest accuracy:', round(accuracy_score(test_target.sample_type.astype('int'), rf_pred), 3))\n",
    "\n",
    "cm_rf = confusion_matrix(test_target.sample_type.astype('int'), rf_pred)\n",
    "\n",
    "ax = plt.subplot()\n",
    "sns.heatmap(cm_rf, annot=True, ax = ax, fmt='g', cmap='Greens') \n",
    "labels = ['Primary Tumor', 'Metastatic']\n",
    "ax.set_xlabel('Predicted labels')\n",
    "ax.set_ylabel('True labels') \n",
    "ax.set_title('Random Forest Confusion Matrix') \n",
    "ax.xaxis.set_ticklabels(labels) \n",
    "ax.yaxis.set_ticklabels(labels, rotation=360)"
   ]
  },
  {
   "cell_type": "code",
   "execution_count": 34,
   "metadata": {},
   "outputs": [
    {
     "data": {
      "image/png": "[encoded data removed]",
      "text/plain": [
       "<Figure size 432x288 with 1 Axes>"
      ]
     },
     "metadata": {
      "needs_background": "light"
     },
     "output_type": "display_data"
    }
   ],
   "source": [
    "rf_model = grid_search_rf_pca.best_estimator_\n",
    "rf_pred_proba = rf_model.predict_proba(test_df)[::,1]\n",
    "fpr, tpr, _ = roc_curve(test_target.sample_type.astype('int'),  rf_pred_proba)\n",
    "auc = roc_auc_score(test_target.sample_type.astype('int'), rf_pred_proba)\n",
    "plt.plot(fpr,tpr,label=\"Random Forest, auc=\"+str(auc))\n",
    "plt.ylabel(\"True Positive Rate\")\n",
    "plt.xlabel(\"False Positive Rate\")\n",
    "plt.legend(loc=4)\n",
    "plt.show()"
   ]
  },
  {
   "cell_type": "code",
   "execution_count": 35,
   "metadata": {},
   "outputs": [
    {
     "name": "stdout",
     "output_type": "stream",
     "text": [
      "0.4869625229684443\n"
     ]
    }
   ],
   "source": [
    "rf_model = grid_search_rf_pca.best_estimator_\n",
    "rf_pred_proba = rf_model.predict_proba(test_df)[::,1]\n",
    "log_loss_score = log_loss(test_target.sample_type.astype('int'),  rf_pred_proba)\n",
    "print(log_loss_score)"
   ]
  },
  {
   "cell_type": "markdown",
   "metadata": {},
   "source": [
    "### Weights"
   ]
  },
  {
   "cell_type": "code",
   "execution_count": 36,
   "metadata": {},
   "outputs": [
    {
     "data": {
      "text/html": [
       "<div>\n",
       "<style scoped>\n",
       "    .dataframe tbody tr th:only-of-type {\n",
       "        vertical-align: middle;\n",
       "    }\n",
       "\n",
       "    .dataframe tbody tr th {\n",
       "        vertical-align: top;\n",
       "    }\n",
       "\n",
       "    .dataframe thead th {\n",
       "        text-align: right;\n",
       "    }\n",
       "</style>\n",
       "<table border=\"1\" class=\"dataframe\">\n",
       "  <thead>\n",
       "    <tr style=\"text-align: right;\">\n",
       "      <th></th>\n",
       "      <th>weights</th>\n",
       "    </tr>\n",
       "  </thead>\n",
       "  <tbody>\n",
       "    <tr>\n",
       "      <th>treatments_radiation_treatment_or_therapy_yes</th>\n",
       "      <td>0.585098</td>\n",
       "    </tr>\n",
       "    <tr>\n",
       "      <th>ethnicity_not hispanic or latino</th>\n",
       "      <td>0.015570</td>\n",
       "    </tr>\n",
       "    <tr>\n",
       "      <th>gender_male</th>\n",
       "      <td>0.000000</td>\n",
       "    </tr>\n",
       "    <tr>\n",
       "      <th>ethnicity_not reported</th>\n",
       "      <td>0.000000</td>\n",
       "    </tr>\n",
       "    <tr>\n",
       "      <th>treatments_pharmaceutical_treatment_or_therapy_not reported</th>\n",
       "      <td>0.000000</td>\n",
       "    </tr>\n",
       "    <tr>\n",
       "      <th>treatments_pharmaceutical_treatment_or_therapy_yes</th>\n",
       "      <td>0.000000</td>\n",
       "    </tr>\n",
       "    <tr>\n",
       "      <th>treatments_radiation_treatment_or_therapy_not reported</th>\n",
       "      <td>0.000000</td>\n",
       "    </tr>\n",
       "    <tr>\n",
       "      <th>bmi</th>\n",
       "      <td>0.000000</td>\n",
       "    </tr>\n",
       "    <tr>\n",
       "      <th>age_at_index</th>\n",
       "      <td>-0.275003</td>\n",
       "    </tr>\n",
       "  </tbody>\n",
       "</table>\n",
       "</div>"
      ],
      "text/plain": [
       "                                                     weights\n",
       "treatments_radiation_treatment_or_therapy_yes       0.585098\n",
       "ethnicity_not hispanic or latino                    0.015570\n",
       "gender_male                                         0.000000\n",
       "ethnicity_not reported                              0.000000\n",
       "treatments_pharmaceutical_treatment_or_therapy_...  0.000000\n",
       "treatments_pharmaceutical_treatment_or_therapy_yes  0.000000\n",
       "treatments_radiation_treatment_or_therapy_not r...  0.000000\n",
       "bmi                                                 0.000000\n",
       "age_at_index                                       -0.275003"
      ]
     },
     "execution_count": 36,
     "metadata": {},
     "output_type": "execute_result"
    }
   ],
   "source": [
    "lr_model = grid_search_feature_lr.best_estimator_\n",
    "lr_weights_df = pd.DataFrame(lr_model[1].coef_[0])\n",
    "lr_weights_df.index = train_df.columns\n",
    "lr_weights_df.columns = [\"weights\"]\n",
    "lr_weights_df.sort_values(by=['weights'], inplace=True, ascending=False)\n",
    "lr_weights_df.head(20)"
   ]
  },
  {
   "cell_type": "code",
   "execution_count": 37,
   "metadata": {},
   "outputs": [
    {
     "data": {
      "text/html": [
       "<div>\n",
       "<style scoped>\n",
       "    .dataframe tbody tr th:only-of-type {\n",
       "        vertical-align: middle;\n",
       "    }\n",
       "\n",
       "    .dataframe tbody tr th {\n",
       "        vertical-align: top;\n",
       "    }\n",
       "\n",
       "    .dataframe thead th {\n",
       "        text-align: right;\n",
       "    }\n",
       "</style>\n",
       "<table border=\"1\" class=\"dataframe\">\n",
       "  <thead>\n",
       "    <tr style=\"text-align: right;\">\n",
       "      <th></th>\n",
       "      <th>weights</th>\n",
       "    </tr>\n",
       "  </thead>\n",
       "  <tbody>\n",
       "    <tr>\n",
       "      <th>ethnicity_not reported</th>\n",
       "      <td>2865.668988</td>\n",
       "    </tr>\n",
       "    <tr>\n",
       "      <th>treatments_pharmaceutical_treatment_or_therapy_yes</th>\n",
       "      <td>2070.445656</td>\n",
       "    </tr>\n",
       "    <tr>\n",
       "      <th>bmi</th>\n",
       "      <td>1957.950225</td>\n",
       "    </tr>\n",
       "    <tr>\n",
       "      <th>treatments_radiation_treatment_or_therapy_yes</th>\n",
       "      <td>1395.245101</td>\n",
       "    </tr>\n",
       "    <tr>\n",
       "      <th>age_at_index</th>\n",
       "      <td>-868.139866</td>\n",
       "    </tr>\n",
       "    <tr>\n",
       "      <th>gender_male</th>\n",
       "      <td>-984.583948</td>\n",
       "    </tr>\n",
       "    <tr>\n",
       "      <th>treatments_radiation_treatment_or_therapy_not reported</th>\n",
       "      <td>-2079.733167</td>\n",
       "    </tr>\n",
       "    <tr>\n",
       "      <th>treatments_pharmaceutical_treatment_or_therapy_not reported</th>\n",
       "      <td>-2787.062199</td>\n",
       "    </tr>\n",
       "    <tr>\n",
       "      <th>ethnicity_not hispanic or latino</th>\n",
       "      <td>-4540.940872</td>\n",
       "    </tr>\n",
       "  </tbody>\n",
       "</table>\n",
       "</div>"
      ],
      "text/plain": [
       "                                                        weights\n",
       "ethnicity_not reported                              2865.668988\n",
       "treatments_pharmaceutical_treatment_or_therapy_yes  2070.445656\n",
       "bmi                                                 1957.950225\n",
       "treatments_radiation_treatment_or_therapy_yes       1395.245101\n",
       "age_at_index                                        -868.139866\n",
       "gender_male                                         -984.583948\n",
       "treatments_radiation_treatment_or_therapy_not r... -2079.733167\n",
       "treatments_pharmaceutical_treatment_or_therapy_... -2787.062199\n",
       "ethnicity_not hispanic or latino                   -4540.940872"
      ]
     },
     "execution_count": 37,
     "metadata": {},
     "output_type": "execute_result"
    }
   ],
   "source": [
    "svm_model = grid_search_feature_svm.best_estimator_\n",
    "importances = np.dot(svm_model[1].support_,svm_model[1].support_vectors_)\n",
    "svm_weights_df = pd.DataFrame(importances)\n",
    "svm_weights_df.index = train_df.columns\n",
    "svm_weights_df.columns = [\"weights\"]\n",
    "svm_weights_df.sort_values(by=['weights'], inplace=True, ascending=False)\n",
    "svm_weights_df.head(10)"
   ]
  },
  {
   "cell_type": "code",
   "execution_count": 38,
   "metadata": {},
   "outputs": [
    {
     "data": {
      "text/html": [
       "<div>\n",
       "<style scoped>\n",
       "    .dataframe tbody tr th:only-of-type {\n",
       "        vertical-align: middle;\n",
       "    }\n",
       "\n",
       "    .dataframe tbody tr th {\n",
       "        vertical-align: top;\n",
       "    }\n",
       "\n",
       "    .dataframe thead th {\n",
       "        text-align: right;\n",
       "    }\n",
       "</style>\n",
       "<table border=\"1\" class=\"dataframe\">\n",
       "  <thead>\n",
       "    <tr style=\"text-align: right;\">\n",
       "      <th></th>\n",
       "      <th>weights</th>\n",
       "    </tr>\n",
       "  </thead>\n",
       "  <tbody>\n",
       "    <tr>\n",
       "      <th>age_at_index</th>\n",
       "      <td>0.365511</td>\n",
       "    </tr>\n",
       "    <tr>\n",
       "      <th>treatments_radiation_treatment_or_therapy_yes</th>\n",
       "      <td>0.340021</td>\n",
       "    </tr>\n",
       "    <tr>\n",
       "      <th>bmi</th>\n",
       "      <td>0.218446</td>\n",
       "    </tr>\n",
       "    <tr>\n",
       "      <th>treatments_pharmaceutical_treatment_or_therapy_yes</th>\n",
       "      <td>0.049519</td>\n",
       "    </tr>\n",
       "    <tr>\n",
       "      <th>gender_male</th>\n",
       "      <td>0.026504</td>\n",
       "    </tr>\n",
       "    <tr>\n",
       "      <th>ethnicity_not hispanic or latino</th>\n",
       "      <td>0.000000</td>\n",
       "    </tr>\n",
       "    <tr>\n",
       "      <th>ethnicity_not reported</th>\n",
       "      <td>0.000000</td>\n",
       "    </tr>\n",
       "    <tr>\n",
       "      <th>treatments_pharmaceutical_treatment_or_therapy_not reported</th>\n",
       "      <td>0.000000</td>\n",
       "    </tr>\n",
       "    <tr>\n",
       "      <th>treatments_radiation_treatment_or_therapy_not reported</th>\n",
       "      <td>0.000000</td>\n",
       "    </tr>\n",
       "  </tbody>\n",
       "</table>\n",
       "</div>"
      ],
      "text/plain": [
       "                                                     weights\n",
       "age_at_index                                        0.365511\n",
       "treatments_radiation_treatment_or_therapy_yes       0.340021\n",
       "bmi                                                 0.218446\n",
       "treatments_pharmaceutical_treatment_or_therapy_yes  0.049519\n",
       "gender_male                                         0.026504\n",
       "ethnicity_not hispanic or latino                    0.000000\n",
       "ethnicity_not reported                              0.000000\n",
       "treatments_pharmaceutical_treatment_or_therapy_...  0.000000\n",
       "treatments_radiation_treatment_or_therapy_not r...  0.000000"
      ]
     },
     "execution_count": 38,
     "metadata": {},
     "output_type": "execute_result"
    }
   ],
   "source": [
    "rf_model = grid_search_feature_rf.best_estimator_\n",
    "rf_weights_df = pd.DataFrame(rf_model[1].feature_importances_)\n",
    "rf_weights_df.index = train_df.columns\n",
    "rf_weights_df.columns = [\"weights\"]\n",
    "rf_weights_df.sort_values(by=['weights'], inplace=True, ascending=False)\n",
    "rf_weights_df.head(10)"
   ]
  },
  {
   "cell_type": "code",
   "execution_count": 39,
   "metadata": {},
   "outputs": [
    {
     "data": {
      "text/html": [
       "<div>\n",
       "<style scoped>\n",
       "    .dataframe tbody tr th:only-of-type {\n",
       "        vertical-align: middle;\n",
       "    }\n",
       "\n",
       "    .dataframe tbody tr th {\n",
       "        vertical-align: top;\n",
       "    }\n",
       "\n",
       "    .dataframe thead th {\n",
       "        text-align: right;\n",
       "    }\n",
       "</style>\n",
       "<table border=\"1\" class=\"dataframe\">\n",
       "  <thead>\n",
       "    <tr style=\"text-align: right;\">\n",
       "      <th></th>\n",
       "      <th>Logistic Regression</th>\n",
       "      <th>Support Vector Machines</th>\n",
       "      <th>Random Forest</th>\n",
       "    </tr>\n",
       "  </thead>\n",
       "  <tbody>\n",
       "    <tr>\n",
       "      <th>treatments_radiation_treatment_or_therapy_yes</th>\n",
       "      <td>0.585098</td>\n",
       "      <td>1395.245101</td>\n",
       "      <td>0.340021</td>\n",
       "    </tr>\n",
       "    <tr>\n",
       "      <th>ethnicity_not hispanic or latino</th>\n",
       "      <td>0.015570</td>\n",
       "      <td>-4540.940872</td>\n",
       "      <td>0.000000</td>\n",
       "    </tr>\n",
       "    <tr>\n",
       "      <th>gender_male</th>\n",
       "      <td>0.000000</td>\n",
       "      <td>-984.583948</td>\n",
       "      <td>0.026504</td>\n",
       "    </tr>\n",
       "    <tr>\n",
       "      <th>ethnicity_not reported</th>\n",
       "      <td>0.000000</td>\n",
       "      <td>2865.668988</td>\n",
       "      <td>0.000000</td>\n",
       "    </tr>\n",
       "    <tr>\n",
       "      <th>treatments_pharmaceutical_treatment_or_therapy_not reported</th>\n",
       "      <td>0.000000</td>\n",
       "      <td>-2787.062199</td>\n",
       "      <td>0.000000</td>\n",
       "    </tr>\n",
       "    <tr>\n",
       "      <th>treatments_pharmaceutical_treatment_or_therapy_yes</th>\n",
       "      <td>0.000000</td>\n",
       "      <td>2070.445656</td>\n",
       "      <td>0.049519</td>\n",
       "    </tr>\n",
       "    <tr>\n",
       "      <th>treatments_radiation_treatment_or_therapy_not reported</th>\n",
       "      <td>0.000000</td>\n",
       "      <td>-2079.733167</td>\n",
       "      <td>0.000000</td>\n",
       "    </tr>\n",
       "    <tr>\n",
       "      <th>bmi</th>\n",
       "      <td>0.000000</td>\n",
       "      <td>1957.950225</td>\n",
       "      <td>0.218446</td>\n",
       "    </tr>\n",
       "    <tr>\n",
       "      <th>age_at_index</th>\n",
       "      <td>-0.275003</td>\n",
       "      <td>-868.139866</td>\n",
       "      <td>0.365511</td>\n",
       "    </tr>\n",
       "  </tbody>\n",
       "</table>\n",
       "</div>"
      ],
      "text/plain": [
       "                                                    Logistic Regression  \\\n",
       "treatments_radiation_treatment_or_therapy_yes                  0.585098   \n",
       "ethnicity_not hispanic or latino                               0.015570   \n",
       "gender_male                                                    0.000000   \n",
       "ethnicity_not reported                                         0.000000   \n",
       "treatments_pharmaceutical_treatment_or_therapy_...             0.000000   \n",
       "treatments_pharmaceutical_treatment_or_therapy_yes             0.000000   \n",
       "treatments_radiation_treatment_or_therapy_not r...             0.000000   \n",
       "bmi                                                            0.000000   \n",
       "age_at_index                                                  -0.275003   \n",
       "\n",
       "                                                    Support Vector Machines  \\\n",
       "treatments_radiation_treatment_or_therapy_yes                   1395.245101   \n",
       "ethnicity_not hispanic or latino                               -4540.940872   \n",
       "gender_male                                                     -984.583948   \n",
       "ethnicity_not reported                                          2865.668988   \n",
       "treatments_pharmaceutical_treatment_or_therapy_...             -2787.062199   \n",
       "treatments_pharmaceutical_treatment_or_therapy_yes              2070.445656   \n",
       "treatments_radiation_treatment_or_therapy_not r...             -2079.733167   \n",
       "bmi                                                             1957.950225   \n",
       "age_at_index                                                    -868.139866   \n",
       "\n",
       "                                                    Random Forest  \n",
       "treatments_radiation_treatment_or_therapy_yes            0.340021  \n",
       "ethnicity_not hispanic or latino                         0.000000  \n",
       "gender_male                                              0.026504  \n",
       "ethnicity_not reported                                   0.000000  \n",
       "treatments_pharmaceutical_treatment_or_therapy_...       0.000000  \n",
       "treatments_pharmaceutical_treatment_or_therapy_yes       0.049519  \n",
       "treatments_radiation_treatment_or_therapy_not r...       0.000000  \n",
       "bmi                                                      0.218446  \n",
       "age_at_index                                             0.365511  "
      ]
     },
     "execution_count": 39,
     "metadata": {},
     "output_type": "execute_result"
    }
   ],
   "source": [
    "weights = lr_weights_df.merge(svm_weights_df,left_index=True, right_index=True)\n",
    "weights = weights.merge(rf_weights_df,left_index=True, right_index=True)\n",
    "weights.columns = [\"Logistic Regression\", \"Support Vector Machines\",\"Random Forest\"]\n",
    "weights.head(20)"
   ]
  },
  {
   "cell_type": "code",
   "execution_count": 40,
   "metadata": {},
   "outputs": [],
   "source": [
    "weights.to_csv('../data/Melanoma_Clinical_classifier_v2_[WITHOUT PCA]_weights_all_data.csv')"
   ]
  },
  {
   "cell_type": "code",
   "execution_count": null,
   "metadata": {},
   "outputs": [],
   "source": []
  }
 ],
 "metadata": {
  "kernelspec": {
   "display_name": "Python 3",
   "language": "python",
   "name": "python3"
  },
  "language_info": {
   "codemirror_mode": {
    "name": "ipython",
    "version": 3
   },
   "file_extension": ".py",
   "mimetype": "text/x-python",
   "name": "python",
   "nbconvert_exporter": "python",
   "pygments_lexer": "ipython3",
   "version": "3.7.9"
  }
 },
 "nbformat": 4,
 "nbformat_minor": 4
}
